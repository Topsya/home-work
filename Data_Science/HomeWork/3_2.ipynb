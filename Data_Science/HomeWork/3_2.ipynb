{
 "cells": [
  {
   "cell_type": "code",
   "execution_count": 14,
   "id": "13cf38bb-444b-43da-a883-62d90d94ecf1",
   "metadata": {},
   "outputs": [],
   "source": [
    "import numpy as np\n",
    "import pandas as pd\n",
    "from sklearn.linear_model import LinearRegression"
   ]
  },
  {
   "cell_type": "code",
   "execution_count": 15,
   "id": "a0504b49-57ce-42ea-9558-48c642a65bbb",
   "metadata": {},
   "outputs": [],
   "source": [
    "#напишіть функцію гіпотези лінійної регресії у векторному вигляді\n",
    "\n",
    "def h(W, X):\n",
    "    return np.dot(W, X.T)"
   ]
  },
  {
   "cell_type": "code",
   "execution_count": 16,
   "id": "eb3f37b5-5b35-4e26-990b-a16c6709ef7e",
   "metadata": {},
   "outputs": [],
   "source": [
    "#створіть функцію для обчислення функції втрат у векторному вигляді\n",
    "\n",
    "def mse(w, X, Y):\n",
    "    n = Y.shape[0]\n",
    "    y_predicted = h(w, X)\n",
    "    result = np.sum((y_predicted-Y)**2)/(2*n)\n",
    "    return result"
   ]
  },
  {
   "cell_type": "code",
   "execution_count": 17,
   "id": "034e0fbb-86d1-492e-a283-bccea3d50ff2",
   "metadata": {},
   "outputs": [],
   "source": [
    "#реалізуйте один крок градієнтного спуску\n",
    "\n",
    "def grad_step(X, Y, w_pred, learning_rate=0.0001):\n",
    "    n = X.shape[0]\n",
    "    y_pred = h(w_pred, X)\n",
    "    gradient = (2 / n) * np.dot(X.T, (y_pred - Y))\n",
    "    weights = w_pred - learning_rate*gradient\n",
    "    return weights"
   ]
  },
  {
   "cell_type": "code",
   "execution_count": 18,
   "id": "ae1e4c49-7228-49df-937c-e25981d80ff3",
   "metadata": {},
   "outputs": [],
   "source": [
    "#Градієнтний спуск\n",
    "\n",
    "def gradient_descent(weights, X, Y, iterations=1000, learning_rate=0.0001, stopping_threashold = 0.00000001):\n",
    "    previous_cost = None\n",
    "    costs = []\n",
    "    \n",
    "    for i in range(iterations):\n",
    "        cost = mse(weights, X, Y)\n",
    "        if previous_cost and (abs(previous_cost-cost) <= stopping_threashold):\n",
    "            break\n",
    "        previous_cost = cost\n",
    "        costs.append(cost)\n",
    "        weights = grad_step(X, Y, weights, learning_rate=learning_rate)\n",
    "    return weights, costs\n"
   ]
  },
  {
   "cell_type": "code",
   "execution_count": 19,
   "id": "649a8d05-fad2-4210-870e-1b243c080a66",
   "metadata": {},
   "outputs": [],
   "source": [
    "#Нормалізація\n",
    "\n",
    "def normalization(data):\n",
    "    mean = np.mean(data)\n",
    "    value_range = np.max(data) - np.min(data)\n",
    "    result = []\n",
    "    for x in data:\n",
    "        norm_x = (x - mean)/value_range\n",
    "        result.append(norm_x)\n",
    "    return result"
   ]
  },
  {
   "cell_type": "code",
   "execution_count": 20,
   "id": "a1529d8b-3e07-4c17-9db4-850b169beafd",
   "metadata": {},
   "outputs": [
    {
     "data": {
      "text/html": [
       "<div>\n",
       "<style scoped>\n",
       "    .dataframe tbody tr th:only-of-type {\n",
       "        vertical-align: middle;\n",
       "    }\n",
       "\n",
       "    .dataframe tbody tr th {\n",
       "        vertical-align: top;\n",
       "    }\n",
       "\n",
       "    .dataframe thead th {\n",
       "        text-align: right;\n",
       "    }\n",
       "</style>\n",
       "<table border=\"1\" class=\"dataframe\">\n",
       "  <thead>\n",
       "    <tr style=\"text-align: right;\">\n",
       "      <th></th>\n",
       "      <th>price</th>\n",
       "      <th>area</th>\n",
       "      <th>bedrooms</th>\n",
       "      <th>bathrooms</th>\n",
       "      <th>stories</th>\n",
       "      <th>mainroad</th>\n",
       "      <th>guestroom</th>\n",
       "      <th>basement</th>\n",
       "      <th>hotwaterheating</th>\n",
       "      <th>airconditioning</th>\n",
       "      <th>parking</th>\n",
       "      <th>prefarea</th>\n",
       "      <th>furnishingstatus</th>\n",
       "    </tr>\n",
       "  </thead>\n",
       "  <tbody>\n",
       "    <tr>\n",
       "      <th>0</th>\n",
       "      <td>13300000</td>\n",
       "      <td>7420</td>\n",
       "      <td>4</td>\n",
       "      <td>2</td>\n",
       "      <td>3</td>\n",
       "      <td>yes</td>\n",
       "      <td>no</td>\n",
       "      <td>no</td>\n",
       "      <td>no</td>\n",
       "      <td>yes</td>\n",
       "      <td>2</td>\n",
       "      <td>yes</td>\n",
       "      <td>furnished</td>\n",
       "    </tr>\n",
       "    <tr>\n",
       "      <th>1</th>\n",
       "      <td>12250000</td>\n",
       "      <td>8960</td>\n",
       "      <td>4</td>\n",
       "      <td>4</td>\n",
       "      <td>4</td>\n",
       "      <td>yes</td>\n",
       "      <td>no</td>\n",
       "      <td>no</td>\n",
       "      <td>no</td>\n",
       "      <td>yes</td>\n",
       "      <td>3</td>\n",
       "      <td>no</td>\n",
       "      <td>furnished</td>\n",
       "    </tr>\n",
       "    <tr>\n",
       "      <th>2</th>\n",
       "      <td>12250000</td>\n",
       "      <td>9960</td>\n",
       "      <td>3</td>\n",
       "      <td>2</td>\n",
       "      <td>2</td>\n",
       "      <td>yes</td>\n",
       "      <td>no</td>\n",
       "      <td>yes</td>\n",
       "      <td>no</td>\n",
       "      <td>no</td>\n",
       "      <td>2</td>\n",
       "      <td>yes</td>\n",
       "      <td>semi-furnished</td>\n",
       "    </tr>\n",
       "    <tr>\n",
       "      <th>3</th>\n",
       "      <td>12215000</td>\n",
       "      <td>7500</td>\n",
       "      <td>4</td>\n",
       "      <td>2</td>\n",
       "      <td>2</td>\n",
       "      <td>yes</td>\n",
       "      <td>no</td>\n",
       "      <td>yes</td>\n",
       "      <td>no</td>\n",
       "      <td>yes</td>\n",
       "      <td>3</td>\n",
       "      <td>yes</td>\n",
       "      <td>furnished</td>\n",
       "    </tr>\n",
       "    <tr>\n",
       "      <th>4</th>\n",
       "      <td>11410000</td>\n",
       "      <td>7420</td>\n",
       "      <td>4</td>\n",
       "      <td>1</td>\n",
       "      <td>2</td>\n",
       "      <td>yes</td>\n",
       "      <td>yes</td>\n",
       "      <td>yes</td>\n",
       "      <td>no</td>\n",
       "      <td>yes</td>\n",
       "      <td>2</td>\n",
       "      <td>no</td>\n",
       "      <td>furnished</td>\n",
       "    </tr>\n",
       "  </tbody>\n",
       "</table>\n",
       "</div>"
      ],
      "text/plain": [
       "      price  area  bedrooms  bathrooms  stories mainroad guestroom basement  \\\n",
       "0  13300000  7420         4          2        3      yes        no       no   \n",
       "1  12250000  8960         4          4        4      yes        no       no   \n",
       "2  12250000  9960         3          2        2      yes        no      yes   \n",
       "3  12215000  7500         4          2        2      yes        no      yes   \n",
       "4  11410000  7420         4          1        2      yes       yes      yes   \n",
       "\n",
       "  hotwaterheating airconditioning  parking prefarea furnishingstatus  \n",
       "0              no             yes        2      yes        furnished  \n",
       "1              no             yes        3       no        furnished  \n",
       "2              no              no        2      yes   semi-furnished  \n",
       "3              no             yes        3      yes        furnished  \n",
       "4              no             yes        2       no        furnished  "
      ]
     },
     "execution_count": 20,
     "metadata": {},
     "output_type": "execute_result"
    }
   ],
   "source": [
    "#знайдіть найкращі параметри w для датасету прогнозуючу ціну на будинок залежно від площі, кількості ванних кімнат та кількості спалень\n",
    "\n",
    "df = pd.read_csv('Housing.csv')\n",
    "df.head()"
   ]
  },
  {
   "cell_type": "code",
   "execution_count": 21,
   "id": "7b47ee60-a5de-4ecc-9f8e-0c5f47ee1914",
   "metadata": {},
   "outputs": [
    {
     "data": {
      "text/html": [
       "<div>\n",
       "<style scoped>\n",
       "    .dataframe tbody tr th:only-of-type {\n",
       "        vertical-align: middle;\n",
       "    }\n",
       "\n",
       "    .dataframe tbody tr th {\n",
       "        vertical-align: top;\n",
       "    }\n",
       "\n",
       "    .dataframe thead th {\n",
       "        text-align: right;\n",
       "    }\n",
       "</style>\n",
       "<table border=\"1\" class=\"dataframe\">\n",
       "  <thead>\n",
       "    <tr style=\"text-align: right;\">\n",
       "      <th></th>\n",
       "      <th>price</th>\n",
       "      <th>ones</th>\n",
       "      <th>area</th>\n",
       "      <th>bedrooms</th>\n",
       "      <th>bathrooms</th>\n",
       "    </tr>\n",
       "  </thead>\n",
       "  <tbody>\n",
       "    <tr>\n",
       "      <th>0</th>\n",
       "      <td>0.738811</td>\n",
       "      <td>1.0</td>\n",
       "      <td>0.155977</td>\n",
       "      <td>0.206972</td>\n",
       "      <td>0.237920</td>\n",
       "    </tr>\n",
       "    <tr>\n",
       "      <th>1</th>\n",
       "      <td>0.647902</td>\n",
       "      <td>1.0</td>\n",
       "      <td>0.261818</td>\n",
       "      <td>0.206972</td>\n",
       "      <td>0.904587</td>\n",
       "    </tr>\n",
       "    <tr>\n",
       "      <th>2</th>\n",
       "      <td>0.647902</td>\n",
       "      <td>1.0</td>\n",
       "      <td>0.330547</td>\n",
       "      <td>0.006972</td>\n",
       "      <td>0.237920</td>\n",
       "    </tr>\n",
       "    <tr>\n",
       "      <th>3</th>\n",
       "      <td>0.644872</td>\n",
       "      <td>1.0</td>\n",
       "      <td>0.161475</td>\n",
       "      <td>0.206972</td>\n",
       "      <td>0.237920</td>\n",
       "    </tr>\n",
       "    <tr>\n",
       "      <th>4</th>\n",
       "      <td>0.575175</td>\n",
       "      <td>1.0</td>\n",
       "      <td>0.155977</td>\n",
       "      <td>0.206972</td>\n",
       "      <td>-0.095413</td>\n",
       "    </tr>\n",
       "  </tbody>\n",
       "</table>\n",
       "</div>"
      ],
      "text/plain": [
       "      price  ones      area  bedrooms  bathrooms\n",
       "0  0.738811   1.0  0.155977  0.206972   0.237920\n",
       "1  0.647902   1.0  0.261818  0.206972   0.904587\n",
       "2  0.647902   1.0  0.330547  0.006972   0.237920\n",
       "3  0.644872   1.0  0.161475  0.206972   0.237920\n",
       "4  0.575175   1.0  0.155977  0.206972  -0.095413"
      ]
     },
     "execution_count": 21,
     "metadata": {},
     "output_type": "execute_result"
    }
   ],
   "source": [
    "df_norm = pd.DataFrame()\n",
    "df_norm['price'] = normalization(df.price)\n",
    "df_norm['ones'] = np.ones((545, ))\n",
    "df_norm['area'] = normalization(df.area)\n",
    "df_norm['bedrooms'] = normalization(df.bedrooms)\n",
    "df_norm['bathrooms'] = normalization(df.bathrooms)\n",
    "\n",
    "df_norm.head()"
   ]
  },
  {
   "cell_type": "code",
   "execution_count": 26,
   "id": "20e3ca55-13a2-44d7-89f9-664a43e1a5af",
   "metadata": {},
   "outputs": [
    {
     "data": {
      "text/plain": [
       "array([5.88198196e-18, 2.57687773e-03, 1.74175382e-03, 2.79173334e-03])"
      ]
     },
     "execution_count": 26,
     "metadata": {},
     "output_type": "execute_result"
    }
   ],
   "source": [
    "X = df_norm[['ones', 'area', 'bedrooms', 'bathrooms']]\n",
    "Y = df_norm['price']\n",
    "W = np.zeros(X.shape[-1])\n",
    "weights, loss_history = gradient_descent(W, X, Y)\n",
    "weights"
   ]
  },
  {
   "cell_type": "code",
   "execution_count": 27,
   "id": "e0670f72-5d99-4205-a410-cb01a707b899",
   "metadata": {},
   "outputs": [
    {
     "name": "stdout",
     "output_type": "stream",
     "text": [
      "7.014204135081996e-17\n"
     ]
    }
   ],
   "source": [
    "#знайдіть ці ж параметри за допомогою аналітичного рішення;\n",
    "\n",
    "X = df_norm[['area', 'bedrooms', 'bathrooms']]\n",
    "model = LinearRegression().fit(X, Y)\n",
    "print (model.intercept_)"
   ]
  },
  {
   "cell_type": "code",
   "execution_count": 24,
   "id": "e271123e-bb32-4167-9a6e-64e37d4183a2",
   "metadata": {},
   "outputs": [
    {
     "name": "stdout",
     "output_type": "stream",
     "text": [
      "My weights   : [5.88198196e-18 2.57687773e-03 1.74175382e-03 2.79173334e-03]\n",
      "Model weights: 7.014204135081996e-17 \n"
     ]
    }
   ],
   "source": [
    "#порівняйте отримані результати\n",
    "\n",
    "print(f'My weights   : {weights}')\n",
    "print(f'Model weights: {model.intercept_} ')"
   ]
  }
 ],
 "metadata": {
  "kernelspec": {
   "display_name": "Python 3 (ipykernel)",
   "language": "python",
   "name": "python3"
  },
  "language_info": {
   "codemirror_mode": {
    "name": "ipython",
    "version": 3
   },
   "file_extension": ".py",
   "mimetype": "text/x-python",
   "name": "python",
   "nbconvert_exporter": "python",
   "pygments_lexer": "ipython3",
   "version": "3.10.8"
  }
 },
 "nbformat": 4,
 "nbformat_minor": 5
}
