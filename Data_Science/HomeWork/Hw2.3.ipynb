{
 "cells": [
  {
   "cell_type": "code",
   "execution_count": 1,
   "id": "50e11ccd-7714-4066-8f4f-3b3d2fb92ed8",
   "metadata": {},
   "outputs": [],
   "source": [
    "%matplotlib inline\n",
    "import pandas as pd\n",
    "import numpy as np\n",
    "import matplotlib.pyplot as plt\n",
    "import seaborn as sns\n",
    "\n",
    "# Прочитайте csv файл (використовуйте функцію read_csv)\n",
    "tabl = pd.read_csv(\"bestsellers_with_categories.csv\")"
   ]
  },
  {
   "cell_type": "code",
   "execution_count": 2,
   "id": "2079e74b-a08d-4385-8097-b67bdc94cc89",
   "metadata": {},
   "outputs": [
    {
     "data": {
      "text/html": [
       "<div>\n",
       "<style scoped>\n",
       "    .dataframe tbody tr th:only-of-type {\n",
       "        vertical-align: middle;\n",
       "    }\n",
       "\n",
       "    .dataframe tbody tr th {\n",
       "        vertical-align: top;\n",
       "    }\n",
       "\n",
       "    .dataframe thead th {\n",
       "        text-align: right;\n",
       "    }\n",
       "</style>\n",
       "<table border=\"1\" class=\"dataframe\">\n",
       "  <thead>\n",
       "    <tr style=\"text-align: right;\">\n",
       "      <th></th>\n",
       "      <th>Name</th>\n",
       "      <th>Author</th>\n",
       "      <th>User Rating</th>\n",
       "      <th>Reviews</th>\n",
       "      <th>Price</th>\n",
       "      <th>Year</th>\n",
       "      <th>Genre</th>\n",
       "    </tr>\n",
       "  </thead>\n",
       "  <tbody>\n",
       "    <tr>\n",
       "      <th>0</th>\n",
       "      <td>10-Day Green Smoothie Cleanse</td>\n",
       "      <td>JJ Smith</td>\n",
       "      <td>4.7</td>\n",
       "      <td>17350</td>\n",
       "      <td>8</td>\n",
       "      <td>2016</td>\n",
       "      <td>Non Fiction</td>\n",
       "    </tr>\n",
       "    <tr>\n",
       "      <th>1</th>\n",
       "      <td>11/22/63: A Novel</td>\n",
       "      <td>Stephen King</td>\n",
       "      <td>4.6</td>\n",
       "      <td>2052</td>\n",
       "      <td>22</td>\n",
       "      <td>2011</td>\n",
       "      <td>Fiction</td>\n",
       "    </tr>\n",
       "    <tr>\n",
       "      <th>2</th>\n",
       "      <td>12 Rules for Life: An Antidote to Chaos</td>\n",
       "      <td>Jordan B. Peterson</td>\n",
       "      <td>4.7</td>\n",
       "      <td>18979</td>\n",
       "      <td>15</td>\n",
       "      <td>2018</td>\n",
       "      <td>Non Fiction</td>\n",
       "    </tr>\n",
       "    <tr>\n",
       "      <th>3</th>\n",
       "      <td>1984 (Signet Classics)</td>\n",
       "      <td>George Orwell</td>\n",
       "      <td>4.7</td>\n",
       "      <td>21424</td>\n",
       "      <td>6</td>\n",
       "      <td>2017</td>\n",
       "      <td>Fiction</td>\n",
       "    </tr>\n",
       "    <tr>\n",
       "      <th>4</th>\n",
       "      <td>5,000 Awesome Facts (About Everything!) (Natio...</td>\n",
       "      <td>National Geographic Kids</td>\n",
       "      <td>4.8</td>\n",
       "      <td>7665</td>\n",
       "      <td>12</td>\n",
       "      <td>2019</td>\n",
       "      <td>Non Fiction</td>\n",
       "    </tr>\n",
       "  </tbody>\n",
       "</table>\n",
       "</div>"
      ],
      "text/plain": [
       "                                                Name  \\\n",
       "0                      10-Day Green Smoothie Cleanse   \n",
       "1                                  11/22/63: A Novel   \n",
       "2            12 Rules for Life: An Antidote to Chaos   \n",
       "3                             1984 (Signet Classics)   \n",
       "4  5,000 Awesome Facts (About Everything!) (Natio...   \n",
       "\n",
       "                     Author  User Rating  Reviews  Price  Year        Genre  \n",
       "0                  JJ Smith          4.7    17350      8  2016  Non Fiction  \n",
       "1              Stephen King          4.6     2052     22  2011      Fiction  \n",
       "2        Jordan B. Peterson          4.7    18979     15  2018  Non Fiction  \n",
       "3             George Orwell          4.7    21424      6  2017      Fiction  \n",
       "4  National Geographic Kids          4.8     7665     12  2019  Non Fiction  "
      ]
     },
     "execution_count": 2,
     "metadata": {},
     "output_type": "execute_result"
    }
   ],
   "source": [
    "# Виведіть перші п'ять рядків (використовується функція head)\n",
    "tabl.head()"
   ]
  },
  {
   "cell_type": "code",
   "execution_count": 3,
   "id": "654278a4-56ff-4446-a334-e1c60b53f2b4",
   "metadata": {},
   "outputs": [
    {
     "data": {
      "text/plain": [
       "(550, 7)"
      ]
     },
     "execution_count": 3,
     "metadata": {},
     "output_type": "execute_result"
    }
   ],
   "source": [
    "# Виведіть розміри датасету (використовуйте атрибут shape)\n",
    "tabl.shape"
   ]
  },
  {
   "cell_type": "code",
   "execution_count": 50,
   "id": "c423075b-4df9-425a-a3a5-350209737a98",
   "metadata": {},
   "outputs": [
    {
     "data": {
      "text/plain": [
       "0                          10-Day Green Smoothie Cleanse\n",
       "1                                      11/22/63: A Novel\n",
       "2                12 Rules for Life: An Antidote to Chaos\n",
       "3                                 1984 (Signet Classics)\n",
       "4      5,000 Awesome Facts (About Everything!) (Natio...\n",
       "                             ...                        \n",
       "538    Winter of the World: Book Two of the Century T...\n",
       "539    Women Food and God: An Unexpected Path to Almo...\n",
       "540                                               Wonder\n",
       "545         Wrecking Ball (Diary of a Wimpy Kid Book 14)\n",
       "546    You Are a Badass: How to Stop Doubting Your Gr...\n",
       "Name: name, Length: 351, dtype: object"
      ]
     },
     "execution_count": 50,
     "metadata": {},
     "output_type": "execute_result"
    }
   ],
   "source": [
    "tabl['name'].drop_duplicates()"
   ]
  },
  {
   "cell_type": "code",
   "execution_count": 51,
   "id": "9e132edd-6bc3-42cb-9750-647a6b717986",
   "metadata": {},
   "outputs": [
    {
     "data": {
      "text/plain": [
       "'Відповідь : 351 книг'"
      ]
     },
     "execution_count": 51,
     "metadata": {},
     "output_type": "execute_result"
    }
   ],
   "source": [
    "# Відповідь: Про скільки книг зберігає дані датасет?\n",
    "'Відповідь : 351 книг'"
   ]
  },
  {
   "cell_type": "code",
   "execution_count": 52,
   "id": "2f5d900f-b783-4d65-8cdf-4961cba02b61",
   "metadata": {},
   "outputs": [
    {
     "data": {
      "text/html": [
       "<div>\n",
       "<style scoped>\n",
       "    .dataframe tbody tr th:only-of-type {\n",
       "        vertical-align: middle;\n",
       "    }\n",
       "\n",
       "    .dataframe tbody tr th {\n",
       "        vertical-align: top;\n",
       "    }\n",
       "\n",
       "    .dataframe thead th {\n",
       "        text-align: right;\n",
       "    }\n",
       "</style>\n",
       "<table border=\"1\" class=\"dataframe\">\n",
       "  <thead>\n",
       "    <tr style=\"text-align: right;\">\n",
       "      <th></th>\n",
       "      <th>name</th>\n",
       "      <th>author</th>\n",
       "      <th>user_rating</th>\n",
       "      <th>reviews</th>\n",
       "      <th>price</th>\n",
       "      <th>year</th>\n",
       "      <th>genre</th>\n",
       "    </tr>\n",
       "  </thead>\n",
       "  <tbody>\n",
       "    <tr>\n",
       "      <th>0</th>\n",
       "      <td>10-Day Green Smoothie Cleanse</td>\n",
       "      <td>JJ Smith</td>\n",
       "      <td>4.7</td>\n",
       "      <td>17350</td>\n",
       "      <td>8</td>\n",
       "      <td>2016</td>\n",
       "      <td>Non Fiction</td>\n",
       "    </tr>\n",
       "    <tr>\n",
       "      <th>1</th>\n",
       "      <td>11/22/63: A Novel</td>\n",
       "      <td>Stephen King</td>\n",
       "      <td>4.6</td>\n",
       "      <td>2052</td>\n",
       "      <td>22</td>\n",
       "      <td>2011</td>\n",
       "      <td>Fiction</td>\n",
       "    </tr>\n",
       "    <tr>\n",
       "      <th>2</th>\n",
       "      <td>12 Rules for Life: An Antidote to Chaos</td>\n",
       "      <td>Jordan B. Peterson</td>\n",
       "      <td>4.7</td>\n",
       "      <td>18979</td>\n",
       "      <td>15</td>\n",
       "      <td>2018</td>\n",
       "      <td>Non Fiction</td>\n",
       "    </tr>\n",
       "    <tr>\n",
       "      <th>3</th>\n",
       "      <td>1984 (Signet Classics)</td>\n",
       "      <td>George Orwell</td>\n",
       "      <td>4.7</td>\n",
       "      <td>21424</td>\n",
       "      <td>6</td>\n",
       "      <td>2017</td>\n",
       "      <td>Fiction</td>\n",
       "    </tr>\n",
       "    <tr>\n",
       "      <th>4</th>\n",
       "      <td>5,000 Awesome Facts (About Everything!) (Natio...</td>\n",
       "      <td>National Geographic Kids</td>\n",
       "      <td>4.8</td>\n",
       "      <td>7665</td>\n",
       "      <td>12</td>\n",
       "      <td>2019</td>\n",
       "      <td>Non Fiction</td>\n",
       "    </tr>\n",
       "  </tbody>\n",
       "</table>\n",
       "</div>"
      ],
      "text/plain": [
       "                                                name  \\\n",
       "0                      10-Day Green Smoothie Cleanse   \n",
       "1                                  11/22/63: A Novel   \n",
       "2            12 Rules for Life: An Antidote to Chaos   \n",
       "3                             1984 (Signet Classics)   \n",
       "4  5,000 Awesome Facts (About Everything!) (Natio...   \n",
       "\n",
       "                     author  user_rating  reviews  price  year        genre  \n",
       "0                  JJ Smith          4.7    17350      8  2016  Non Fiction  \n",
       "1              Stephen King          4.6     2052     22  2011      Fiction  \n",
       "2        Jordan B. Peterson          4.7    18979     15  2018  Non Fiction  \n",
       "3             George Orwell          4.7    21424      6  2017      Fiction  \n",
       "4  National Geographic Kids          4.8     7665     12  2019  Non Fiction  "
      ]
     },
     "execution_count": 52,
     "metadata": {},
     "output_type": "execute_result"
    }
   ],
   "source": [
    "# Для спрощення подальшої роботи  підправимо назви змінних.\n",
    "tabl.columns = ['name', 'author', 'user_rating', 'reviews', 'price', 'year', 'genre']\n",
    "tabl.head()"
   ]
  },
  {
   "cell_type": "code",
   "execution_count": 6,
   "id": "89338e09-daf6-4862-bb84-22dfd97c6c13",
   "metadata": {},
   "outputs": [
    {
     "data": {
      "text/plain": [
       "'Первинне дослідження даних'"
      ]
     },
     "execution_count": 6,
     "metadata": {},
     "output_type": "execute_result"
    }
   ],
   "source": [
    "\"Первинне дослідження даних\""
   ]
  },
  {
   "cell_type": "code",
   "execution_count": 7,
   "id": "2fcd18a9-b652-4ec3-9bcf-5f32a0975de7",
   "metadata": {},
   "outputs": [
    {
     "name": "stdout",
     "output_type": "stream",
     "text": [
      "name           0\n",
      "author         0\n",
      "user_rating    0\n",
      "reviews        0\n",
      "price          0\n",
      "year           0\n",
      "genre          0\n",
      "dtype: int64\n"
     ]
    },
    {
     "data": {
      "text/plain": [
       "'Відповідь: Ні'"
      ]
     },
     "execution_count": 7,
     "metadata": {},
     "output_type": "execute_result"
    }
   ],
   "source": [
    "# Перевірте, чи у всіх рядків вистачає даних: виведіть кількість пропусків\n",
    "# (na) у кожному зі стовпців (використовуйте функції isna та sum)\n",
    "print(tabl.isna().sum())\n",
    "'Відповідь: Ні'"
   ]
  },
  {
   "cell_type": "code",
   "execution_count": 8,
   "id": "a99950f6-d79b-4fe4-9e77-5afb21174670",
   "metadata": {},
   "outputs": [
    {
     "data": {
      "text/plain": [
       "' Відповідь: Ні '"
      ]
     },
     "execution_count": 8,
     "metadata": {},
     "output_type": "execute_result"
    }
   ],
   "source": [
    "' Чи є в якихось змінних пропуски? (Так / ні)'\n",
    "' Відповідь: Ні '"
   ]
  },
  {
   "cell_type": "code",
   "execution_count": 9,
   "id": "56dd2019-bbc6-46f0-9987-bb6cf0e8f286",
   "metadata": {},
   "outputs": [
    {
     "name": "stdout",
     "output_type": "stream",
     "text": [
      "['Non Fiction' 'Fiction']\n"
     ]
    }
   ],
   "source": [
    "# Перевірте, які є унікальні значення в колонці genre (використовуйте функцію unique)\n",
    "print(tabl[\"genre\"].unique())"
   ]
  },
  {
   "cell_type": "code",
   "execution_count": 10,
   "id": "8900df37-96ee-46d2-997f-6ec4fe8dae95",
   "metadata": {},
   "outputs": [
    {
     "name": "stdout",
     "output_type": "stream",
     "text": [
      "['Non Fiction' 'Fiction']\n"
     ]
    }
   ],
   "source": [
    "# Відповідь: Які є унікальні жанри?\n",
    "print(tabl[\"genre\"].unique())"
   ]
  },
  {
   "cell_type": "code",
   "execution_count": 11,
   "id": "494b9cd8-054e-42fb-b430-4dbd6a293ff3",
   "metadata": {},
   "outputs": [
    {
     "data": {
      "image/png": "[encoded data removed]",
      "text/plain": [
       "<Figure size 640x480 with 1 Axes>"
      ]
     },
     "metadata": {},
     "output_type": "display_data"
    }
   ],
   "source": [
    "# Тепер подивіться на розподіл цін: побудуйте діаграму (використовуйте kind='hist')\n",
    "tabl[\"price\"].plot(kind=\"hist\")\n",
    "plt.show()"
   ]
  },
  {
   "cell_type": "code",
   "execution_count": 12,
   "id": "7010ecdb-3392-453f-af23-4a050d30dfc1",
   "metadata": {},
   "outputs": [],
   "source": [
    "# Визначте, яка ціна у нас максимальна, мінімальна, середня, \n",
    "# медіанна (використовуйте функції max, min, mean, median)\n",
    "max_price = tabl['price'].max()\n",
    "min_price = tabl['price'].min()\n",
    "mean_price = tabl['price'].mean()\n",
    "median_price = tabl['price'].median()"
   ]
  },
  {
   "cell_type": "code",
   "execution_count": 13,
   "id": "d42c094d-73ff-414b-85af-85df20a26df5",
   "metadata": {},
   "outputs": [
    {
     "name": "stdout",
     "output_type": "stream",
     "text": [
      "Відповідь: Максимальна ціна - 105 доларів\n"
     ]
    }
   ],
   "source": [
    "# Відповідь: Максимальна ціна?\n",
    "print (f'Відповідь: Максимальна ціна - {max_price} доларів') "
   ]
  },
  {
   "cell_type": "code",
   "execution_count": 14,
   "id": "b91e663d-9c41-44da-aee3-2accf3fc99ba",
   "metadata": {},
   "outputs": [
    {
     "name": "stdout",
     "output_type": "stream",
     "text": [
      "Відповідь: Мінімальна ціна - 0 доларів\n"
     ]
    }
   ],
   "source": [
    "# Відповідь: Мінімальна ціна?.\n",
    "print (f'Відповідь: Мінімальна ціна - {min_price} доларів') "
   ]
  },
  {
   "cell_type": "code",
   "execution_count": 15,
   "id": "13792116-d99c-4a9a-ad49-e810d3524ca4",
   "metadata": {},
   "outputs": [
    {
     "name": "stdout",
     "output_type": "stream",
     "text": [
      "Відповідь: Середня ціна - 13.1 доларів\n"
     ]
    }
   ],
   "source": [
    "# Відповідь: Середня ціна?\n",
    "print (f'Відповідь: Середня ціна - {mean_price} доларів') "
   ]
  },
  {
   "cell_type": "code",
   "execution_count": 16,
   "id": "0b403510-cc17-4eba-9b2f-7307b3e83150",
   "metadata": {},
   "outputs": [
    {
     "name": "stdout",
     "output_type": "stream",
     "text": [
      "Відповідь: Медіанна ціна - 11.0 доларів\n"
     ]
    }
   ],
   "source": [
    "# Відповідь: Медіанна ціна?\n",
    "print (f'Відповідь: Медіанна ціна - {median_price} доларів') "
   ]
  },
  {
   "cell_type": "code",
   "execution_count": 17,
   "id": "86d673cf-b288-4f58-8695-2e437116ea06",
   "metadata": {},
   "outputs": [
    {
     "data": {
      "text/plain": [
       "'Пошук та сортування даних'"
      ]
     },
     "execution_count": 17,
     "metadata": {},
     "output_type": "execute_result"
    }
   ],
   "source": [
    "'Пошук та сортування даних'"
   ]
  },
  {
   "cell_type": "code",
   "execution_count": 18,
   "id": "a1388e6f-6b14-4726-b6e1-e99a6a70bc89",
   "metadata": {},
   "outputs": [
    {
     "name": "stdout",
     "output_type": "stream",
     "text": [
      "найвищий рейтинг - 4.9\n"
     ]
    }
   ],
   "source": [
    "# Відповідь: Який рейтинг у датасеті найвищий? Відповідь:\n",
    "max_rating = tabl['user_rating'].max()\n",
    "print (f'найвищий рейтинг - {max_rating}')"
   ]
  },
  {
   "cell_type": "code",
   "execution_count": 19,
   "id": "d56453a9-e020-475d-8cb9-909ca82688a8",
   "metadata": {},
   "outputs": [
    {
     "name": "stdout",
     "output_type": "stream",
     "text": [
      " Кількість книг з максимальним рейтингом - 52\n"
     ]
    }
   ],
   "source": [
    "# Відповідь: Скільки книг мають такий рейтинг? Відповідь:\n",
    "books_vs_max_rating = tabl[tabl['user_rating'] == tabl['user_rating'].max()].shape\n",
    "print(f\" Кількість книг з максимальним рейтингом - {books_vs_max_rating[0]}\")"
   ]
  },
  {
   "cell_type": "code",
   "execution_count": 20,
   "id": "c57ed773-afc4-4686-8218-52fac0579bad",
   "metadata": {},
   "outputs": [
    {
     "name": "stdout",
     "output_type": "stream",
     "text": [
      "Kнига має найбільше відгуків\n",
      "                        name  reviews\n",
      "534  Where the Crawdads Sing    87841\n"
     ]
    }
   ],
   "source": [
    "# Відповідь: Яка книга має найбільше відгуків? Відповідь: \n",
    "max_reviews = tabl[tabl['reviews'] == tabl['reviews'].max()][[\"name\", \"reviews\"]]    \n",
    "print ('Kнига має найбільше відгуків')\n",
    "print( max_reviews )"
   ]
  },
  {
   "cell_type": "code",
   "execution_count": 21,
   "id": "c6cd9183-daf7-4e0d-b089-3286ef5e9a53",
   "metadata": {},
   "outputs": [
    {
     "name": "stdout",
     "output_type": "stream",
     "text": [
      "найдорожча книга у 2015 році\n",
      "                                                  name  price\n",
      "277  Publication Manual of the American Psychologic...     46\n"
     ]
    }
   ],
   "source": [
    "# Відповідь: З тих книг, що потрапили до Топ-50 у 2015 році, яка книга \n",
    "# найдорожча (можна використати проміжний датафрейм)? Відповідь:\n",
    "top50_2015 = tabl[tabl[\"year\"] == 2015]\n",
    "book_vs_max_2015 = top50_2015[top50_2015['price'] == top50_2015['price'].max()][[\"name\", \"price\"]]\n",
    "print('найдорожча книга у 2015 році')\n",
    "print (book_vs_max_2015)"
   ]
  },
  {
   "cell_type": "code",
   "execution_count": 22,
   "id": "c25c9be5-dcc6-4b82-aa57-966ea5891a2d",
   "metadata": {},
   "outputs": [
    {
     "name": "stdout",
     "output_type": "stream",
     "text": [
      "Відповідь: до рейтингу Топ-50 за 2010 рік потрапило (20) книг жанру Fiction\n"
     ]
    }
   ],
   "source": [
    "# Відповідь: Скільки книг жанру Fiction потрапили до Топ-50 у 2010 році (використовуйте &)? Відповідь:\n",
    "books_2010_vs_fiction = tabl[(tabl[\"genre\"] == 'Fiction') & (tabl[\"year\"] == 2010)].shape\n",
    "print(f\"Відповідь: до рейтингу Топ-50 за 2010 рік потрапило ({books_2010_vs_fiction[0]}) книг жанру Fiction\")"
   ]
  },
  {
   "cell_type": "code",
   "execution_count": 23,
   "id": "89530c05-eaae-469f-ba79-feec07de85d6",
   "metadata": {},
   "outputs": [
    {
     "name": "stdout",
     "output_type": "stream",
     "text": [
      "Відповідь: до рейтингу Топ-50 за 2010 та 2011 рік потрапило: (1) книг з рейтингом 4.9\n"
     ]
    }
   ],
   "source": [
    "# Відповідь: Скільки книг з рейтингом 4.9 потрапило до рейтингу у 2010 \n",
    "# та 2011 роках (використовуйте | або функцію isin)? Відповідь:\n",
    "max_rating_in_2010_2011 = tabl.loc[((tabl['year'] == 2010)|(tabl['year'] == 2011))&(tabl['user_rating'] == 4.9)].shape\n",
    "print(f\"Відповідь: до рейтингу Топ-50 за 2010 та 2011 рік потрапило: ({max_rating_in_2010_2011[0]}) книг з рейтингом 4.9\")"
   ]
  },
  {
   "cell_type": "code",
   "execution_count": 24,
   "id": "a94a69c5-bb92-4db5-8b8e-c9953e790cd7",
   "metadata": {},
   "outputs": [
    {
     "data": {
      "text/html": [
       "<div>\n",
       "<style scoped>\n",
       "    .dataframe tbody tr th:only-of-type {\n",
       "        vertical-align: middle;\n",
       "    }\n",
       "\n",
       "    .dataframe tbody tr th {\n",
       "        vertical-align: top;\n",
       "    }\n",
       "\n",
       "    .dataframe thead th {\n",
       "        text-align: right;\n",
       "    }\n",
       "</style>\n",
       "<table border=\"1\" class=\"dataframe\">\n",
       "  <thead>\n",
       "    <tr style=\"text-align: right;\">\n",
       "      <th></th>\n",
       "      <th>name</th>\n",
       "      <th>author</th>\n",
       "      <th>user_rating</th>\n",
       "      <th>reviews</th>\n",
       "      <th>price</th>\n",
       "      <th>year</th>\n",
       "      <th>genre</th>\n",
       "    </tr>\n",
       "  </thead>\n",
       "  <tbody>\n",
       "    <tr>\n",
       "      <th>507</th>\n",
       "      <td>To Kill a Mockingbird</td>\n",
       "      <td>Harper Lee</td>\n",
       "      <td>4.8</td>\n",
       "      <td>26234</td>\n",
       "      <td>0</td>\n",
       "      <td>2015</td>\n",
       "      <td>Fiction</td>\n",
       "    </tr>\n",
       "    <tr>\n",
       "      <th>210</th>\n",
       "      <td>Laugh-Out-Loud Jokes for Kids</td>\n",
       "      <td>Rob Elliott</td>\n",
       "      <td>4.6</td>\n",
       "      <td>6990</td>\n",
       "      <td>4</td>\n",
       "      <td>2015</td>\n",
       "      <td>Non Fiction</td>\n",
       "    </tr>\n",
       "    <tr>\n",
       "      <th>206</th>\n",
       "      <td>Knock-Knock Jokes for Kids</td>\n",
       "      <td>Rob Elliott</td>\n",
       "      <td>4.5</td>\n",
       "      <td>3673</td>\n",
       "      <td>4</td>\n",
       "      <td>2015</td>\n",
       "      <td>Non Fiction</td>\n",
       "    </tr>\n",
       "    <tr>\n",
       "      <th>111</th>\n",
       "      <td>First 100 Words</td>\n",
       "      <td>Roger Priddy</td>\n",
       "      <td>4.7</td>\n",
       "      <td>17323</td>\n",
       "      <td>4</td>\n",
       "      <td>2015</td>\n",
       "      <td>Non Fiction</td>\n",
       "    </tr>\n",
       "    <tr>\n",
       "      <th>123</th>\n",
       "      <td>Giraffes Can't Dance</td>\n",
       "      <td>Giles Andreae</td>\n",
       "      <td>4.8</td>\n",
       "      <td>14038</td>\n",
       "      <td>4</td>\n",
       "      <td>2015</td>\n",
       "      <td>Fiction</td>\n",
       "    </tr>\n",
       "    <tr>\n",
       "      <th>54</th>\n",
       "      <td>Creative Haven Creative Cats Coloring Book (Ad...</td>\n",
       "      <td>Marjorie Sarnat</td>\n",
       "      <td>4.8</td>\n",
       "      <td>4022</td>\n",
       "      <td>4</td>\n",
       "      <td>2015</td>\n",
       "      <td>Non Fiction</td>\n",
       "    </tr>\n",
       "    <tr>\n",
       "      <th>63</th>\n",
       "      <td>Dear Zoo: A Lift-the-Flap Book</td>\n",
       "      <td>Rod Campbell</td>\n",
       "      <td>4.8</td>\n",
       "      <td>10922</td>\n",
       "      <td>5</td>\n",
       "      <td>2015</td>\n",
       "      <td>Fiction</td>\n",
       "    </tr>\n",
       "    <tr>\n",
       "      <th>89</th>\n",
       "      <td>Dover Creative Haven Art Nouveau Animal Design...</td>\n",
       "      <td>Marty Noble</td>\n",
       "      <td>4.6</td>\n",
       "      <td>2134</td>\n",
       "      <td>5</td>\n",
       "      <td>2015</td>\n",
       "      <td>Non Fiction</td>\n",
       "    </tr>\n",
       "    <tr>\n",
       "      <th>478</th>\n",
       "      <td>The Very Hungry Caterpillar</td>\n",
       "      <td>Eric Carle</td>\n",
       "      <td>4.9</td>\n",
       "      <td>19546</td>\n",
       "      <td>5</td>\n",
       "      <td>2015</td>\n",
       "      <td>Fiction</td>\n",
       "    </tr>\n",
       "    <tr>\n",
       "      <th>201</th>\n",
       "      <td>Killing Reagan: The Violent Assault That Chang...</td>\n",
       "      <td>Bill O'Reilly</td>\n",
       "      <td>4.6</td>\n",
       "      <td>5235</td>\n",
       "      <td>5</td>\n",
       "      <td>2015</td>\n",
       "      <td>Non Fiction</td>\n",
       "    </tr>\n",
       "    <tr>\n",
       "      <th>28</th>\n",
       "      <td>Baby Touch and Feel: Animals</td>\n",
       "      <td>DK</td>\n",
       "      <td>4.6</td>\n",
       "      <td>5360</td>\n",
       "      <td>5</td>\n",
       "      <td>2015</td>\n",
       "      <td>Non Fiction</td>\n",
       "    </tr>\n",
       "    <tr>\n",
       "      <th>224</th>\n",
       "      <td>Love You Forever</td>\n",
       "      <td>Robert Munsch</td>\n",
       "      <td>4.8</td>\n",
       "      <td>18613</td>\n",
       "      <td>5</td>\n",
       "      <td>2015</td>\n",
       "      <td>Fiction</td>\n",
       "    </tr>\n",
       "    <tr>\n",
       "      <th>55</th>\n",
       "      <td>Creative Haven Owls Coloring Book (Adult Color...</td>\n",
       "      <td>Marjorie Sarnat</td>\n",
       "      <td>4.8</td>\n",
       "      <td>3871</td>\n",
       "      <td>5</td>\n",
       "      <td>2015</td>\n",
       "      <td>Non Fiction</td>\n",
       "    </tr>\n",
       "    <tr>\n",
       "      <th>17</th>\n",
       "      <td>Adult Coloring Book: Stress Relieving Patterns</td>\n",
       "      <td>Blue Star Coloring</td>\n",
       "      <td>4.4</td>\n",
       "      <td>2951</td>\n",
       "      <td>6</td>\n",
       "      <td>2015</td>\n",
       "      <td>Non Fiction</td>\n",
       "    </tr>\n",
       "    <tr>\n",
       "      <th>376</th>\n",
       "      <td>The Four Agreements: A Practical Guide to Pers...</td>\n",
       "      <td>Don Miguel Ruiz</td>\n",
       "      <td>4.7</td>\n",
       "      <td>23308</td>\n",
       "      <td>6</td>\n",
       "      <td>2015</td>\n",
       "      <td>Non Fiction</td>\n",
       "    </tr>\n",
       "    <tr>\n",
       "      <th>16</th>\n",
       "      <td>Adult Coloring Book: Stress Relieving Animal D...</td>\n",
       "      <td>Blue Star Coloring</td>\n",
       "      <td>4.6</td>\n",
       "      <td>2925</td>\n",
       "      <td>6</td>\n",
       "      <td>2015</td>\n",
       "      <td>Non Fiction</td>\n",
       "    </tr>\n",
       "    <tr>\n",
       "      <th>253</th>\n",
       "      <td>Old School (Diary of a Wimpy Kid #10)</td>\n",
       "      <td>Jeff Kinney</td>\n",
       "      <td>4.8</td>\n",
       "      <td>6169</td>\n",
       "      <td>7</td>\n",
       "      <td>2015</td>\n",
       "      <td>Fiction</td>\n",
       "    </tr>\n",
       "  </tbody>\n",
       "</table>\n",
       "</div>"
      ],
      "text/plain": [
       "                                                  name              author  \\\n",
       "507                              To Kill a Mockingbird          Harper Lee   \n",
       "210                      Laugh-Out-Loud Jokes for Kids         Rob Elliott   \n",
       "206                         Knock-Knock Jokes for Kids         Rob Elliott   \n",
       "111                                    First 100 Words        Roger Priddy   \n",
       "123                               Giraffes Can't Dance       Giles Andreae   \n",
       "54   Creative Haven Creative Cats Coloring Book (Ad...     Marjorie Sarnat   \n",
       "63                      Dear Zoo: A Lift-the-Flap Book        Rod Campbell   \n",
       "89   Dover Creative Haven Art Nouveau Animal Design...         Marty Noble   \n",
       "478                        The Very Hungry Caterpillar          Eric Carle   \n",
       "201  Killing Reagan: The Violent Assault That Chang...       Bill O'Reilly   \n",
       "28                        Baby Touch and Feel: Animals                  DK   \n",
       "224                                   Love You Forever       Robert Munsch   \n",
       "55   Creative Haven Owls Coloring Book (Adult Color...     Marjorie Sarnat   \n",
       "17      Adult Coloring Book: Stress Relieving Patterns  Blue Star Coloring   \n",
       "376  The Four Agreements: A Practical Guide to Pers...     Don Miguel Ruiz   \n",
       "16   Adult Coloring Book: Stress Relieving Animal D...  Blue Star Coloring   \n",
       "253              Old School (Diary of a Wimpy Kid #10)         Jeff Kinney   \n",
       "\n",
       "     user_rating  reviews  price  year        genre  \n",
       "507          4.8    26234      0  2015      Fiction  \n",
       "210          4.6     6990      4  2015  Non Fiction  \n",
       "206          4.5     3673      4  2015  Non Fiction  \n",
       "111          4.7    17323      4  2015  Non Fiction  \n",
       "123          4.8    14038      4  2015      Fiction  \n",
       "54           4.8     4022      4  2015  Non Fiction  \n",
       "63           4.8    10922      5  2015      Fiction  \n",
       "89           4.6     2134      5  2015  Non Fiction  \n",
       "478          4.9    19546      5  2015      Fiction  \n",
       "201          4.6     5235      5  2015  Non Fiction  \n",
       "28           4.6     5360      5  2015  Non Fiction  \n",
       "224          4.8    18613      5  2015      Fiction  \n",
       "55           4.8     3871      5  2015  Non Fiction  \n",
       "17           4.4     2951      6  2015  Non Fiction  \n",
       "376          4.7    23308      6  2015  Non Fiction  \n",
       "16           4.6     2925      6  2015  Non Fiction  \n",
       "253          4.8     6169      7  2015      Fiction  "
      ]
     },
     "execution_count": 24,
     "metadata": {},
     "output_type": "execute_result"
    }
   ],
   "source": [
    "# І насамкінець, давайте відсортуємо за зростанням ціни всі книги, які потрапили до рейтингу\n",
    "# в 2015 році і коштують дешевше за 8 доларів (використовуйте функцію sort_values).\n",
    "sort_tabl = top50_2015[top50_2015['price'] < 8].sort_values('price')\n",
    "sort_tabl"
   ]
  },
  {
   "cell_type": "code",
   "execution_count": 25,
   "id": "790db354-2fbb-4b43-aaf5-97fcb6fc241f",
   "metadata": {},
   "outputs": [
    {
     "data": {
      "text/html": [
       "<div>\n",
       "<style scoped>\n",
       "    .dataframe tbody tr th:only-of-type {\n",
       "        vertical-align: middle;\n",
       "    }\n",
       "\n",
       "    .dataframe tbody tr th {\n",
       "        vertical-align: top;\n",
       "    }\n",
       "\n",
       "    .dataframe thead th {\n",
       "        text-align: right;\n",
       "    }\n",
       "</style>\n",
       "<table border=\"1\" class=\"dataframe\">\n",
       "  <thead>\n",
       "    <tr style=\"text-align: right;\">\n",
       "      <th></th>\n",
       "      <th>name</th>\n",
       "      <th>author</th>\n",
       "      <th>user_rating</th>\n",
       "      <th>reviews</th>\n",
       "      <th>price</th>\n",
       "      <th>year</th>\n",
       "      <th>genre</th>\n",
       "    </tr>\n",
       "  </thead>\n",
       "  <tbody>\n",
       "    <tr>\n",
       "      <th>253</th>\n",
       "      <td>Old School (Diary of a Wimpy Kid #10)</td>\n",
       "      <td>Jeff Kinney</td>\n",
       "      <td>4.8</td>\n",
       "      <td>6169</td>\n",
       "      <td>7</td>\n",
       "      <td>2015</td>\n",
       "      <td>Fiction</td>\n",
       "    </tr>\n",
       "  </tbody>\n",
       "</table>\n",
       "</div>"
      ],
      "text/plain": [
       "                                      name       author  user_rating  reviews  \\\n",
       "253  Old School (Diary of a Wimpy Kid #10)  Jeff Kinney          4.8     6169   \n",
       "\n",
       "     price  year    genre  \n",
       "253      7  2015  Fiction  "
      ]
     },
     "execution_count": 25,
     "metadata": {},
     "output_type": "execute_result"
    }
   ],
   "source": [
    "# Відповідь: Яка книга остання у відсортованому списку? Відповідь:\n",
    "last_book = sort_tabl.tail(1) \n",
    "last_book"
   ]
  },
  {
   "cell_type": "code",
   "execution_count": 26,
   "id": "0bfe864e-1ac4-45f1-a643-661411e519fd",
   "metadata": {},
   "outputs": [
    {
     "data": {
      "text/plain": [
       "\"Агрегування даних та з'єднання таблиць\""
      ]
     },
     "execution_count": 26,
     "metadata": {},
     "output_type": "execute_result"
    }
   ],
   "source": [
    "\"Агрегування даних та з'єднання таблиць\""
   ]
  },
  {
   "cell_type": "code",
   "execution_count": 27,
   "id": "e4797ef3-397e-4b77-84ae-6a463d2f7a2d",
   "metadata": {},
   "outputs": [
    {
     "data": {
      "text/html": [
       "<div>\n",
       "<style scoped>\n",
       "    .dataframe tbody tr th:only-of-type {\n",
       "        vertical-align: middle;\n",
       "    }\n",
       "\n",
       "    .dataframe tbody tr th {\n",
       "        vertical-align: top;\n",
       "    }\n",
       "\n",
       "    .dataframe thead tr th {\n",
       "        text-align: left;\n",
       "    }\n",
       "\n",
       "    .dataframe thead tr:last-of-type th {\n",
       "        text-align: right;\n",
       "    }\n",
       "</style>\n",
       "<table border=\"1\" class=\"dataframe\">\n",
       "  <thead>\n",
       "    <tr>\n",
       "      <th></th>\n",
       "      <th colspan=\"2\" halign=\"left\">price</th>\n",
       "    </tr>\n",
       "    <tr>\n",
       "      <th></th>\n",
       "      <th>min</th>\n",
       "      <th>max</th>\n",
       "    </tr>\n",
       "    <tr>\n",
       "      <th>genre</th>\n",
       "      <th></th>\n",
       "      <th></th>\n",
       "    </tr>\n",
       "  </thead>\n",
       "  <tbody>\n",
       "    <tr>\n",
       "      <th>Fiction</th>\n",
       "      <td>0</td>\n",
       "      <td>82</td>\n",
       "    </tr>\n",
       "    <tr>\n",
       "      <th>Non Fiction</th>\n",
       "      <td>0</td>\n",
       "      <td>105</td>\n",
       "    </tr>\n",
       "  </tbody>\n",
       "</table>\n",
       "</div>"
      ],
      "text/plain": [
       "            price     \n",
       "              min  max\n",
       "genre                 \n",
       "Fiction         0   82\n",
       "Non Fiction     0  105"
      ]
     },
     "execution_count": 27,
     "metadata": {},
     "output_type": "execute_result"
    }
   ],
   "source": [
    "# Для початку давайте подивимося на максимальну та мінімальну ціни для кожного з\n",
    "# жанрів (використовуйте функції groupby та agg, для підрахунку мінімальних та максимальних\n",
    "# значень використовуйте max та min). Не беріть усі стовпці, виберіть тільки потрібні вам\n",
    "tabl_genre_groupby = tabl.groupby(['genre']).agg({'price': ['min', 'max']})\n",
    "tabl_genre_groupby"
   ]
  },
  {
   "cell_type": "code",
   "execution_count": 28,
   "id": "54a29b08-7539-476b-98c9-5c2a45850a32",
   "metadata": {},
   "outputs": [
    {
     "name": "stdout",
     "output_type": "stream",
     "text": [
      "Максимальна ціна для жанру Fiction (82) доларa\n"
     ]
    }
   ],
   "source": [
    "# Відповідь: Максимальна ціна для жанру Fiction: Відповідь\n",
    "max_price_fiction = tabl_genre_groupby.loc['Fiction'].max()\n",
    "print(f\"Максимальна ціна для жанру Fiction ({max_price_fiction}) доларa\")"
   ]
  },
  {
   "cell_type": "code",
   "execution_count": 29,
   "id": "995af705-e9ff-4aa2-b1bb-628ef1d0f2cc",
   "metadata": {},
   "outputs": [
    {
     "name": "stdout",
     "output_type": "stream",
     "text": [
      "Мінімальна ціна для жанру Fiction (0) доларa\n"
     ]
    }
   ],
   "source": [
    "# Відповідь: Мінімальна ціна для жанру Fiction: Відповідь \n",
    "min_price_fiction = tabl_genre_groupby.loc['Fiction'].min()\n",
    "print(f\"Мінімальна ціна для жанру Fiction ({min_price_fiction}) доларa\")"
   ]
  },
  {
   "cell_type": "code",
   "execution_count": 30,
   "id": "cc214214-e4a5-447d-894a-7f5cf390b9ec",
   "metadata": {},
   "outputs": [
    {
     "name": "stdout",
     "output_type": "stream",
     "text": [
      "Максимальна ціна для жанру Non Fiction (105) доларa\n"
     ]
    }
   ],
   "source": [
    "# Відповідь: Максимальна ціна для жанру Non Fiction: Відповідь\n",
    "max_price_nofiction = tabl_genre_groupby.loc['Non Fiction'].max()\n",
    "print(f\"Максимальна ціна для жанру Non Fiction ({max_price_nofiction}) доларa\")"
   ]
  },
  {
   "cell_type": "code",
   "execution_count": 31,
   "id": "bd3d70d7-f038-4c3b-acea-33544bf5874a",
   "metadata": {},
   "outputs": [
    {
     "name": "stdout",
     "output_type": "stream",
     "text": [
      "Мінімальна ціна для жанру Non Fiction (0) доларa\n"
     ]
    }
   ],
   "source": [
    "min_price_nofiction = tabl_genre_groupby.loc['Non Fiction'].min()\n",
    "print(f\"Мінімальна ціна для жанру Non Fiction ({min_price_nofiction}) доларa\")"
   ]
  },
  {
   "cell_type": "code",
   "execution_count": 32,
   "id": "ee2a8100-94b1-4d37-81ac-4ad406a4dd84",
   "metadata": {},
   "outputs": [
    {
     "data": {
      "text/html": [
       "<div>\n",
       "<style scoped>\n",
       "    .dataframe tbody tr th:only-of-type {\n",
       "        vertical-align: middle;\n",
       "    }\n",
       "\n",
       "    .dataframe tbody tr th {\n",
       "        vertical-align: top;\n",
       "    }\n",
       "\n",
       "    .dataframe thead th {\n",
       "        text-align: right;\n",
       "    }\n",
       "</style>\n",
       "<table border=\"1\" class=\"dataframe\">\n",
       "  <thead>\n",
       "    <tr style=\"text-align: right;\">\n",
       "      <th></th>\n",
       "      <th>count</th>\n",
       "    </tr>\n",
       "    <tr>\n",
       "      <th>author</th>\n",
       "      <th></th>\n",
       "    </tr>\n",
       "  </thead>\n",
       "  <tbody>\n",
       "    <tr>\n",
       "      <th>Abraham Verghese</th>\n",
       "      <td>2</td>\n",
       "    </tr>\n",
       "    <tr>\n",
       "      <th>Adam Gasiewski</th>\n",
       "      <td>1</td>\n",
       "    </tr>\n",
       "    <tr>\n",
       "      <th>Adam Mansbach</th>\n",
       "      <td>1</td>\n",
       "    </tr>\n",
       "    <tr>\n",
       "      <th>Adir Levy</th>\n",
       "      <td>1</td>\n",
       "    </tr>\n",
       "    <tr>\n",
       "      <th>Admiral William H. McRaven</th>\n",
       "      <td>1</td>\n",
       "    </tr>\n",
       "    <tr>\n",
       "      <th>...</th>\n",
       "      <td>...</td>\n",
       "    </tr>\n",
       "    <tr>\n",
       "      <th>Walter Isaacson</th>\n",
       "      <td>3</td>\n",
       "    </tr>\n",
       "    <tr>\n",
       "      <th>William Davis</th>\n",
       "      <td>2</td>\n",
       "    </tr>\n",
       "    <tr>\n",
       "      <th>William P. Young</th>\n",
       "      <td>2</td>\n",
       "    </tr>\n",
       "    <tr>\n",
       "      <th>Wizards RPG Team</th>\n",
       "      <td>3</td>\n",
       "    </tr>\n",
       "    <tr>\n",
       "      <th>Zhi Gang Sha</th>\n",
       "      <td>2</td>\n",
       "    </tr>\n",
       "  </tbody>\n",
       "</table>\n",
       "<p>248 rows × 1 columns</p>\n",
       "</div>"
      ],
      "text/plain": [
       "                            count\n",
       "author                           \n",
       "Abraham Verghese                2\n",
       "Adam Gasiewski                  1\n",
       "Adam Mansbach                   1\n",
       "Adir Levy                       1\n",
       "Admiral William H. McRaven      1\n",
       "...                           ...\n",
       "Walter Isaacson                 3\n",
       "William Davis                   2\n",
       "William P. Young                2\n",
       "Wizards RPG Team                3\n",
       "Zhi Gang Sha                    2\n",
       "\n",
       "[248 rows x 1 columns]"
      ]
     },
     "execution_count": 32,
     "metadata": {},
     "output_type": "execute_result"
    }
   ],
   "source": [
    "# Тепер створіть новий датафрейм, який вміщатиме кількість книг для кожного з авторів \n",
    "#(використовуйте функції groupby та agg, для підрахунку кількості \n",
    "#використовуйте count). Не беріть усі стовпці, виберете тільки потрібні\n",
    "tabl_author = tabl.groupby(\"author\")[\"name\"].agg([\"count\"])\n",
    "tabl_author"
   ]
  },
  {
   "cell_type": "code",
   "execution_count": 33,
   "id": "8563aa5f-a4a4-4a1e-8506-176295a8dc29",
   "metadata": {},
   "outputs": [
    {
     "data": {
      "text/plain": [
       "550"
      ]
     },
     "execution_count": 33,
     "metadata": {},
     "output_type": "execute_result"
    }
   ],
   "source": [
    "tabl_author['count'].sum()"
   ]
  },
  {
   "cell_type": "code",
   "execution_count": 34,
   "id": "04a14e8f-c8c8-4a8d-8cd5-88aebe4598d0",
   "metadata": {},
   "outputs": [
    {
     "data": {
      "text/plain": [
       "(248, 1)"
      ]
     },
     "execution_count": 34,
     "metadata": {},
     "output_type": "execute_result"
    }
   ],
   "source": [
    "# Відповідь: Якої розмірності вийшла таблиця? Відповідь:\n",
    "tabl_author.shape"
   ]
  },
  {
   "cell_type": "code",
   "execution_count": 35,
   "id": "fa2ff47d-9850-449e-a871-e40279c45465",
   "metadata": {},
   "outputs": [
    {
     "name": "stdout",
     "output_type": "stream",
     "text": [
      "автор з найбільшою кількістю книг - \n",
      "author\n",
      "Jeff Kinney    12\n",
      "Name: name, dtype: int64\n"
     ]
    }
   ],
   "source": [
    "# Відповідь: Який автор має найбільше книг? Відповідь:\n",
    "max_books_by_author = tabl.groupby(['author'])['name'].count().sort_values().tail(1)\n",
    "print(f\"автор з найбільшою кількістю книг - \\n{max_books_by_author}\")"
   ]
  },
  {
   "cell_type": "code",
   "execution_count": 36,
   "id": "f4e730e5-b5c9-4d54-ac74-5263b592ad1a",
   "metadata": {},
   "outputs": [
    {
     "data": {
      "text/plain": [
       "'Відповідь: кількістb книг (12)'"
      ]
     },
     "execution_count": 36,
     "metadata": {},
     "output_type": "execute_result"
    }
   ],
   "source": [
    "# Відповідь: Скільки книг цього автора? Відповідь:\n",
    "'Відповідь: кількістb книг (12)'"
   ]
  },
  {
   "cell_type": "code",
   "execution_count": 37,
   "id": "50635833-0d5e-45fc-b542-700ba9ca31a7",
   "metadata": {},
   "outputs": [
    {
     "data": {
      "text/html": [
       "<div>\n",
       "<style scoped>\n",
       "    .dataframe tbody tr th:only-of-type {\n",
       "        vertical-align: middle;\n",
       "    }\n",
       "\n",
       "    .dataframe tbody tr th {\n",
       "        vertical-align: top;\n",
       "    }\n",
       "\n",
       "    .dataframe thead th {\n",
       "        text-align: right;\n",
       "    }\n",
       "</style>\n",
       "<table border=\"1\" class=\"dataframe\">\n",
       "  <thead>\n",
       "    <tr style=\"text-align: right;\">\n",
       "      <th></th>\n",
       "      <th>mean</th>\n",
       "    </tr>\n",
       "    <tr>\n",
       "      <th>author</th>\n",
       "      <th></th>\n",
       "    </tr>\n",
       "  </thead>\n",
       "  <tbody>\n",
       "    <tr>\n",
       "      <th>Abraham Verghese</th>\n",
       "      <td>4.600000</td>\n",
       "    </tr>\n",
       "    <tr>\n",
       "      <th>Adam Gasiewski</th>\n",
       "      <td>4.400000</td>\n",
       "    </tr>\n",
       "    <tr>\n",
       "      <th>Adam Mansbach</th>\n",
       "      <td>4.800000</td>\n",
       "    </tr>\n",
       "    <tr>\n",
       "      <th>Adir Levy</th>\n",
       "      <td>4.800000</td>\n",
       "    </tr>\n",
       "    <tr>\n",
       "      <th>Admiral William H. McRaven</th>\n",
       "      <td>4.700000</td>\n",
       "    </tr>\n",
       "    <tr>\n",
       "      <th>...</th>\n",
       "      <td>...</td>\n",
       "    </tr>\n",
       "    <tr>\n",
       "      <th>Walter Isaacson</th>\n",
       "      <td>4.566667</td>\n",
       "    </tr>\n",
       "    <tr>\n",
       "      <th>William Davis</th>\n",
       "      <td>4.400000</td>\n",
       "    </tr>\n",
       "    <tr>\n",
       "      <th>William P. Young</th>\n",
       "      <td>4.600000</td>\n",
       "    </tr>\n",
       "    <tr>\n",
       "      <th>Wizards RPG Team</th>\n",
       "      <td>4.800000</td>\n",
       "    </tr>\n",
       "    <tr>\n",
       "      <th>Zhi Gang Sha</th>\n",
       "      <td>4.600000</td>\n",
       "    </tr>\n",
       "  </tbody>\n",
       "</table>\n",
       "<p>248 rows × 1 columns</p>\n",
       "</div>"
      ],
      "text/plain": [
       "                                mean\n",
       "author                              \n",
       "Abraham Verghese            4.600000\n",
       "Adam Gasiewski              4.400000\n",
       "Adam Mansbach               4.800000\n",
       "Adir Levy                   4.800000\n",
       "Admiral William H. McRaven  4.700000\n",
       "...                              ...\n",
       "Walter Isaacson             4.566667\n",
       "William Davis               4.400000\n",
       "William P. Young            4.600000\n",
       "Wizards RPG Team            4.800000\n",
       "Zhi Gang Sha                4.600000\n",
       "\n",
       "[248 rows x 1 columns]"
      ]
     },
     "execution_count": 37,
     "metadata": {},
     "output_type": "execute_result"
    }
   ],
   "source": [
    "# Тепер створіть другий датафрейм, який буде вміщати середній рейтинг для кожного автора \n",
    "# (використовуйте функції groupby та agg, для підрахунку середнього значення використовуйте mean).\n",
    "# Не беріть усі стовпці, виберете тільки потрібні\n",
    "author_rating = tabl.groupby(['author'])['user_rating'].agg(['mean'])\n",
    "author_rating\n"
   ]
  },
  {
   "cell_type": "code",
   "execution_count": 38,
   "id": "717a9f6b-9157-4593-b0cf-1c0a45bf4c2e",
   "metadata": {},
   "outputs": [
    {
     "data": {
      "text/html": [
       "<div>\n",
       "<style scoped>\n",
       "    .dataframe tbody tr th:only-of-type {\n",
       "        vertical-align: middle;\n",
       "    }\n",
       "\n",
       "    .dataframe tbody tr th {\n",
       "        vertical-align: top;\n",
       "    }\n",
       "\n",
       "    .dataframe thead th {\n",
       "        text-align: right;\n",
       "    }\n",
       "</style>\n",
       "<table border=\"1\" class=\"dataframe\">\n",
       "  <thead>\n",
       "    <tr style=\"text-align: right;\">\n",
       "      <th></th>\n",
       "      <th>mean</th>\n",
       "    </tr>\n",
       "    <tr>\n",
       "      <th>author</th>\n",
       "      <th></th>\n",
       "    </tr>\n",
       "  </thead>\n",
       "  <tbody>\n",
       "    <tr>\n",
       "      <th>Donna Tartt</th>\n",
       "      <td>3.9</td>\n",
       "    </tr>\n",
       "  </tbody>\n",
       "</table>\n",
       "</div>"
      ],
      "text/plain": [
       "             mean\n",
       "author           \n",
       "Donna Tartt   3.9"
      ]
     },
     "execution_count": 38,
     "metadata": {},
     "output_type": "execute_result"
    }
   ],
   "source": [
    "# Відповідь: У якого автора середній рейтинг мінімальний? Відповідь:\n",
    "min_author = author_rating.sort_values(by=['mean']).head(1)\n",
    "min_author"
   ]
  },
  {
   "cell_type": "code",
   "execution_count": 39,
   "id": "4601e3df-faac-44eb-a287-9e5b93506034",
   "metadata": {},
   "outputs": [
    {
     "name": "stdout",
     "output_type": "stream",
     "text": [
      "у цього автора середній рейтинг mean    3.9\n",
      "dtype: float64\n"
     ]
    }
   ],
   "source": [
    "# Відповідь: Який у цього автора середній рейтинг? Відповідь:\n",
    "min_rating = author_rating.min()\n",
    "print(f'у цього автора середній рейтинг {min_rating}')"
   ]
  },
  {
   "cell_type": "code",
   "execution_count": 40,
   "id": "3ef685d9-967d-4ead-8519-7c759b259b97",
   "metadata": {},
   "outputs": [
    {
     "data": {
      "text/html": [
       "<div>\n",
       "<style scoped>\n",
       "    .dataframe tbody tr th:only-of-type {\n",
       "        vertical-align: middle;\n",
       "    }\n",
       "\n",
       "    .dataframe tbody tr th {\n",
       "        vertical-align: top;\n",
       "    }\n",
       "\n",
       "    .dataframe thead th {\n",
       "        text-align: right;\n",
       "    }\n",
       "</style>\n",
       "<table border=\"1\" class=\"dataframe\">\n",
       "  <thead>\n",
       "    <tr style=\"text-align: right;\">\n",
       "      <th></th>\n",
       "      <th>count</th>\n",
       "      <th>mean</th>\n",
       "    </tr>\n",
       "    <tr>\n",
       "      <th>author</th>\n",
       "      <th></th>\n",
       "      <th></th>\n",
       "    </tr>\n",
       "  </thead>\n",
       "  <tbody>\n",
       "    <tr>\n",
       "      <th>Abraham Verghese</th>\n",
       "      <td>2</td>\n",
       "      <td>4.600000</td>\n",
       "    </tr>\n",
       "    <tr>\n",
       "      <th>Adam Gasiewski</th>\n",
       "      <td>1</td>\n",
       "      <td>4.400000</td>\n",
       "    </tr>\n",
       "    <tr>\n",
       "      <th>Adam Mansbach</th>\n",
       "      <td>1</td>\n",
       "      <td>4.800000</td>\n",
       "    </tr>\n",
       "    <tr>\n",
       "      <th>Adir Levy</th>\n",
       "      <td>1</td>\n",
       "      <td>4.800000</td>\n",
       "    </tr>\n",
       "    <tr>\n",
       "      <th>Admiral William H. McRaven</th>\n",
       "      <td>1</td>\n",
       "      <td>4.700000</td>\n",
       "    </tr>\n",
       "    <tr>\n",
       "      <th>...</th>\n",
       "      <td>...</td>\n",
       "      <td>...</td>\n",
       "    </tr>\n",
       "    <tr>\n",
       "      <th>Walter Isaacson</th>\n",
       "      <td>3</td>\n",
       "      <td>4.566667</td>\n",
       "    </tr>\n",
       "    <tr>\n",
       "      <th>William Davis</th>\n",
       "      <td>2</td>\n",
       "      <td>4.400000</td>\n",
       "    </tr>\n",
       "    <tr>\n",
       "      <th>William P. Young</th>\n",
       "      <td>2</td>\n",
       "      <td>4.600000</td>\n",
       "    </tr>\n",
       "    <tr>\n",
       "      <th>Wizards RPG Team</th>\n",
       "      <td>3</td>\n",
       "      <td>4.800000</td>\n",
       "    </tr>\n",
       "    <tr>\n",
       "      <th>Zhi Gang Sha</th>\n",
       "      <td>2</td>\n",
       "      <td>4.600000</td>\n",
       "    </tr>\n",
       "  </tbody>\n",
       "</table>\n",
       "<p>248 rows × 2 columns</p>\n",
       "</div>"
      ],
      "text/plain": [
       "                            count      mean\n",
       "author                                     \n",
       "Abraham Verghese                2  4.600000\n",
       "Adam Gasiewski                  1  4.400000\n",
       "Adam Mansbach                   1  4.800000\n",
       "Adir Levy                       1  4.800000\n",
       "Admiral William H. McRaven      1  4.700000\n",
       "...                           ...       ...\n",
       "Walter Isaacson                 3  4.566667\n",
       "William Davis                   2  4.400000\n",
       "William P. Young                2  4.600000\n",
       "Wizards RPG Team                3  4.800000\n",
       "Zhi Gang Sha                    2  4.600000\n",
       "\n",
       "[248 rows x 2 columns]"
      ]
     },
     "execution_count": 40,
     "metadata": {},
     "output_type": "execute_result"
    }
   ],
   "source": [
    "# З'єднайте останні два датафрейми так, щоб для кожного автора було видно кількість книг та \n",
    "# середній рейтинг (Використовуйте функцію concat з параметром axis=1). Збережіть результат у змінну\n",
    "tabl_auth_book_reit = pd.concat([ tabl_author, author_rating], axis=1)\n",
    "tabl_auth_book_reit"
   ]
  },
  {
   "cell_type": "code",
   "execution_count": 41,
   "id": "2082ac6f-64f0-464e-9d65-7c5c4753afce",
   "metadata": {},
   "outputs": [
    {
     "data": {
      "text/html": [
       "<div>\n",
       "<style scoped>\n",
       "    .dataframe tbody tr th:only-of-type {\n",
       "        vertical-align: middle;\n",
       "    }\n",
       "\n",
       "    .dataframe tbody tr th {\n",
       "        vertical-align: top;\n",
       "    }\n",
       "\n",
       "    .dataframe thead th {\n",
       "        text-align: right;\n",
       "    }\n",
       "</style>\n",
       "<table border=\"1\" class=\"dataframe\">\n",
       "  <thead>\n",
       "    <tr style=\"text-align: right;\">\n",
       "      <th></th>\n",
       "      <th>count</th>\n",
       "      <th>mean</th>\n",
       "    </tr>\n",
       "    <tr>\n",
       "      <th>author</th>\n",
       "      <th></th>\n",
       "      <th></th>\n",
       "    </tr>\n",
       "  </thead>\n",
       "  <tbody>\n",
       "    <tr>\n",
       "      <th>Muriel Barbery</th>\n",
       "      <td>1</td>\n",
       "      <td>4.000000</td>\n",
       "    </tr>\n",
       "    <tr>\n",
       "      <th>Chris Cleave</th>\n",
       "      <td>1</td>\n",
       "      <td>4.100000</td>\n",
       "    </tr>\n",
       "    <tr>\n",
       "      <th>Ian K. Smith M.D.</th>\n",
       "      <td>1</td>\n",
       "      <td>4.100000</td>\n",
       "    </tr>\n",
       "    <tr>\n",
       "      <th>Pierre Dukan</th>\n",
       "      <td>1</td>\n",
       "      <td>4.100000</td>\n",
       "    </tr>\n",
       "    <tr>\n",
       "      <th>Elizabeth Strout</th>\n",
       "      <td>1</td>\n",
       "      <td>4.200000</td>\n",
       "    </tr>\n",
       "    <tr>\n",
       "      <th>...</th>\n",
       "      <td>...</td>\n",
       "      <td>...</td>\n",
       "    </tr>\n",
       "    <tr>\n",
       "      <th>American Psychological Association</th>\n",
       "      <td>10</td>\n",
       "      <td>4.500000</td>\n",
       "    </tr>\n",
       "    <tr>\n",
       "      <th>Suzanne Collins</th>\n",
       "      <td>11</td>\n",
       "      <td>4.663636</td>\n",
       "    </tr>\n",
       "    <tr>\n",
       "      <th>Gary Chapman</th>\n",
       "      <td>11</td>\n",
       "      <td>4.736364</td>\n",
       "    </tr>\n",
       "    <tr>\n",
       "      <th>Rick Riordan</th>\n",
       "      <td>11</td>\n",
       "      <td>4.772727</td>\n",
       "    </tr>\n",
       "    <tr>\n",
       "      <th>Jeff Kinney</th>\n",
       "      <td>12</td>\n",
       "      <td>4.800000</td>\n",
       "    </tr>\n",
       "  </tbody>\n",
       "</table>\n",
       "<p>248 rows × 2 columns</p>\n",
       "</div>"
      ],
      "text/plain": [
       "                                    count      mean\n",
       "author                                             \n",
       "Muriel Barbery                          1  4.000000\n",
       "Chris Cleave                            1  4.100000\n",
       "Ian K. Smith M.D.                       1  4.100000\n",
       "Pierre Dukan                            1  4.100000\n",
       "Elizabeth Strout                        1  4.200000\n",
       "...                                   ...       ...\n",
       "American Psychological Association     10  4.500000\n",
       "Suzanne Collins                        11  4.663636\n",
       "Gary Chapman                           11  4.736364\n",
       "Rick Riordan                           11  4.772727\n",
       "Jeff Kinney                            12  4.800000\n",
       "\n",
       "[248 rows x 2 columns]"
      ]
     },
     "execution_count": 41,
     "metadata": {},
     "output_type": "execute_result"
    }
   ],
   "source": [
    "# Відсортуйте датафрейм за зростаючою кількістю книг та зростаючим \n",
    "# рейтингом (використовуйте функцію sort_values)\n",
    "tabl_auth_book_reit_sorted = tabl_auth_book_reit.sort_values(by=[\"count\", \"mean\"])\n",
    "tabl_auth_book_reit_sorted"
   ]
  },
  {
   "cell_type": "code",
   "execution_count": 42,
   "id": "ada21c09-a45f-497c-8e57-c3f000ebf14e",
   "metadata": {},
   "outputs": [
    {
     "data": {
      "text/html": [
       "<div>\n",
       "<style scoped>\n",
       "    .dataframe tbody tr th:only-of-type {\n",
       "        vertical-align: middle;\n",
       "    }\n",
       "\n",
       "    .dataframe tbody tr th {\n",
       "        vertical-align: top;\n",
       "    }\n",
       "\n",
       "    .dataframe thead th {\n",
       "        text-align: right;\n",
       "    }\n",
       "</style>\n",
       "<table border=\"1\" class=\"dataframe\">\n",
       "  <thead>\n",
       "    <tr style=\"text-align: right;\">\n",
       "      <th></th>\n",
       "      <th>count</th>\n",
       "      <th>mean</th>\n",
       "    </tr>\n",
       "    <tr>\n",
       "      <th>author</th>\n",
       "      <th></th>\n",
       "      <th></th>\n",
       "    </tr>\n",
       "  </thead>\n",
       "  <tbody>\n",
       "    <tr>\n",
       "      <th>Muriel Barbery</th>\n",
       "      <td>1</td>\n",
       "      <td>4.0</td>\n",
       "    </tr>\n",
       "  </tbody>\n",
       "</table>\n",
       "</div>"
      ],
      "text/plain": [
       "                count  mean\n",
       "author                     \n",
       "Muriel Barbery      1   4.0"
      ]
     },
     "execution_count": 42,
     "metadata": {},
     "output_type": "execute_result"
    }
   ],
   "source": [
    "# Відповідь: Який автор перший у списку?\n",
    "first_in_tabl = tabl_auth_book_reit_sorted.head(1)\n",
    "first_in_tabl"
   ]
  },
  {
   "cell_type": "code",
   "execution_count": 43,
   "id": "a69d00b1-e387-4161-9331-e5fee469853f",
   "metadata": {},
   "outputs": [
    {
     "data": {
      "text/plain": [
       "'Візуалізація'"
      ]
     },
     "execution_count": 43,
     "metadata": {},
     "output_type": "execute_result"
    }
   ],
   "source": [
    "'Візуалізація'"
   ]
  },
  {
   "cell_type": "code",
   "execution_count": 44,
   "id": "875c8f66-d590-4865-9919-47f7c1417451",
   "metadata": {},
   "outputs": [
    {
     "data": {
      "image/png": "[encoded data removed]",
      "text/plain": [
       "<Figure size 640x480 with 1 Axes>"
      ]
     },
     "metadata": {},
     "output_type": "display_data"
    }
   ],
   "source": [
    "# data = sort_tabl\n",
    "# labels = sort_tabl['author']\n",
    "book_price = tabl[\"price\"][tabl[\"year\"] == 2015]\n",
    "plt.bar(x=[i for i in range(1, 51)], height=book_price)\n",
    "plt.xlabel(\"Книги 2015\", color=\"midnightblue\")\n",
    "plt.ylabel(\"Ціна\", color=\"midnightblue\")\n",
    "plt.subplots_adjust(right=1)\n",
    "plt.show() "
   ]
  },
  {
   "cell_type": "code",
   "execution_count": 45,
   "id": "f653bf67-500b-497c-8e6f-6a4f213b7806",
   "metadata": {},
   "outputs": [
    {
     "data": {
      "text/plain": [
       "<Axes: xlabel='genre', ylabel='year'>"
      ]
     },
     "execution_count": 45,
     "metadata": {},
     "output_type": "execute_result"
    },
    {
     "data": {
      "image/png": "[encoded data removed]",
      "text/plain": [
       "<Figure size 640x480 with 2 Axes>"
      ]
     },
     "metadata": {},
     "output_type": "display_data"
    }
   ],
   "source": [
    "'2'\n",
    "table_separate = tabl[[\"year\", \"genre\", \"reviews\"]]\n",
    "table_aggregate = table_separate.groupby([\"year\", \"genre\"]).sum()\n",
    "table_transform = table_aggregate.reset_index()\n",
    "new_transform = table_transform.pivot(index=\"year\", columns=\"genre\", values=\"reviews\")\n",
    "sns.heatmap(new_transform, cmap=\"YlGnBu\")"
   ]
  },
  {
   "cell_type": "code",
   "execution_count": 46,
   "id": "59e342dc-f9fd-4a7f-a9b0-46b646954220",
   "metadata": {},
   "outputs": [
    {
     "data": {
      "image/png": "[encoded data removed]",
      "text/plain": [
       "<Figure size 640x480 with 1 Axes>"
      ]
     },
     "metadata": {},
     "output_type": "display_data"
    }
   ],
   "source": [
    "\n",
    "plt.plot([i for i in range(1, 51)], book_price, linestyle=\"-\", marker=\"D\")\n",
    "plt.subplots_adjust(right=1.2)\n",
    "plt.title(\"Цінu книг за 2015\", fontsize=10)\n",
    "plt.xlabel(\"Книги\", color=\"blue\", fontsize=10)\n",
    "plt.ylabel(\"Ціна\", color=\"blue\", fontsize=10)\n",
    "plt.show()"
   ]
  },
  {
   "cell_type": "code",
   "execution_count": null,
   "id": "2e6b092e-86bc-45c4-afcb-2367324a53fc",
   "metadata": {},
   "outputs": [],
   "source": []
  }
 ],
 "metadata": {
  "kernelspec": {
   "display_name": "Python 3 (ipykernel)",
   "language": "python",
   "name": "python3"
  },
  "language_info": {
   "codemirror_mode": {
    "name": "ipython",
    "version": 3
   },
   "file_extension": ".py",
   "mimetype": "text/x-python",
   "name": "python",
   "nbconvert_exporter": "python",
   "pygments_lexer": "ipython3",
   "version": "3.10.8"
  }
 },
 "nbformat": 4,
 "nbformat_minor": 5
}
