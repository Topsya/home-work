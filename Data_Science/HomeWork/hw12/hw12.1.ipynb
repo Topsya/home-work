{
 "cells": [
  {
   "cell_type": "code",
   "execution_count": 635,
   "id": "9730c54c-23e8-49a7-a94f-523b1cd3d17f",
   "metadata": {},
   "outputs": [],
   "source": [
    "from heapq import nlargest\n",
    "from pathlib import Path\n",
    "import spacy\n",
    "from spacy import load\n",
    "import nltk\n",
    "from nltk.corpus import stopwords \n",
    "from nltk.tokenize import word_tokenize, sent_tokenize\n",
    "import pandas as pd\n",
    "import string"
   ]
  },
  {
   "cell_type": "code",
   "execution_count": 636,
   "id": "875f1236",
   "metadata": {},
   "outputs": [],
   "source": [
    "with open('hw.txt', 'r') as f:\n",
    "  text =  f.read() "
   ]
  },
  {
   "cell_type": "code",
   "execution_count": 637,
   "id": "7207bda6",
   "metadata": {},
   "outputs": [],
   "source": [
    "nlp = spacy.load(Path(r'C:\\users\\38050\\miniconda3\\envs\\tf\\lib\\site-packages\\en_core_web_sm\\en_core_web_sm-3.0.0'))\n",
    "# nlp = spacy.load('en_core_web_sm')\n"
   ]
  },
  {
   "cell_type": "code",
   "execution_count": 638,
   "id": "55f07acc",
   "metadata": {},
   "outputs": [
    {
     "name": "stdout",
     "output_type": "stream",
     "text": [
      "['The', 'Orbiter', 'Discovery', ',', 'OV-103', ',', 'is', 'considered', 'eligible', 'for', 'listing', 'in', 'the', 'National', 'Register', 'of', 'Historic', 'Places', '(', 'NRHP', ')', 'in', 'the', 'context', 'of', 'the', 'U.S.', 'Space', 'Shuttle', 'Program', '(', '1969', '-', '2011', ')', 'under', 'Criterion', 'A', 'in', 'the', 'areas', 'of', 'Space', 'Exploration', 'and', 'Transportation', 'and', 'under', 'Criterion', 'C', 'in', 'the', 'area', 'of', 'Engineering', '.', 'Because', 'it', 'has', 'achieved', 'significance', 'within', 'the', 'past', 'fifty', 'years', ',', 'Criteria', 'Consideration', 'G', 'applies', '.', 'Under', 'Criterion', 'A', ',', 'Discovery', 'is', 'significant', 'as', 'the', 'oldest', 'of', 'the', 'three', 'extant', 'orbiter', 'vehicles', 'constructed', 'for', 'the', 'Space', 'Shuttle', 'Program', '(', 'SSP', ')', ',', 'the', 'longest', 'running', 'American', 'space', 'program', 'to', 'date', ';', 'she', 'was', 'the', 'third', 'of', 'five', 'orbiters', 'built', 'by', 'NASA', '.', 'Unlike', 'the', 'Mercury', ',', 'Gemini', ',', 'and', 'Apollo', 'programs', ',', 'the', 'SSP', '’s', 'emphasis', 'was', 'on', 'cost', 'effectiveness', 'and', 'reusability', ',', 'and', 'eventually', 'the', 'construction', 'of', 'a', 'space', 'station', '.', 'Including', 'her', 'maiden', 'voyage', '(', 'launched', 'August', '30', ',', '1984', ')', ',', 'Discovery', 'flew', 'to', 'space', 'thirty', '-', 'nine', 'times', ',', 'more', 'than', 'any', 'of', 'the', 'other', 'four', 'orbiters', ';', 'she', 'was', 'also', 'the', 'first', 'orbiter', 'to', 'fly', 'twenty', 'missions', '.', 'She', 'had', 'the', 'honor', 'of', 'being', 'chosen', 'as', 'the', 'Return', 'to', 'Flight', 'vehicle', 'after', 'both', 'the', 'Challenger', 'and', 'Columbia', 'accidents', '.', 'Discovery', 'was', 'the', 'first', 'shuttle', 'to', 'fly', 'with', 'the', 'redesigned', 'SRBs', ',', 'a', 'result', 'of', 'the', 'Challenger', 'accident', ',', 'and', 'the', 'first', 'shuttle', 'to', 'fly', 'with', 'the', 'Phase', 'II', 'and', 'Block', 'I', 'SSME', '.', 'Discovery', 'also', 'carried', 'the', 'Hubble', 'Space', 'Telescope', 'to', 'orbit', 'and', 'performed', 'two', 'of', 'the', 'five', 'servicing', 'missions', 'to', 'the', 'observatory', '.', 'She', 'flew', 'the', 'first', 'and', 'last', 'dedicated', 'Department', 'of', 'Defense', '(', 'DoD', ')', 'missions', ',', 'as', 'well', 'as', 'the', 'first', 'unclassified', 'defense', '-', 'related', 'mission', '.', 'In', 'addition', ',', 'Discovery', 'was', 'vital', 'to', 'the', 'construction', 'of', 'the', 'International', 'Space', 'Station', '(', 'ISS', ')', ';', 'she', 'flew', 'thirteen', 'of', 'the', 'thirty', '-', 'seven', 'total', 'missions', 'flown', 'to', 'the', 'station', 'by', 'a', 'U.S.', 'Space', 'Shuttle', '.', 'She', 'was', 'the', 'first', 'orbiter', 'to', 'dock', 'to', 'the', 'ISS', ',', 'and', 'the', 'first', 'to', 'perform', 'an', 'exchange', 'of', 'a', 'resident', 'crew', '.', 'Under', 'Criterion', 'C', ',', 'Discovery', 'is', 'significant', 'as', 'a', 'feat', 'of', 'engineering', '.', 'According', 'to', 'Wayne', 'Hale', ',', 'a', 'flight', 'director', 'from', 'Johnson', 'Space', 'Center', ',', 'the', 'Space', 'Shuttle', 'orbiter', 'represents', 'a', '“', 'huge', 'technological', 'leap', 'from', 'expendable', 'rockets', 'and', 'capsules', 'to', 'a', 'reusable', ',', 'winged', ',', 'hypersonic', ',', 'cargo', '-', 'carrying', 'spacecraft', '.', '”', 'Although', 'her', 'base', 'structure', 'followed', 'a', 'conventional', 'aircraft', 'design', ',', 'she', 'used', 'advanced', 'materials', 'that', 'both', 'minimized', 'her', 'weight', 'for', 'cargo', '-', 'carrying', 'purposes', 'and', 'featured', 'low', 'thermal', 'expansion', 'ratios', ',', 'which', 'provided', 'a', 'stable', 'base', 'for', 'her', 'Thermal', 'Protection', 'System', '(', 'TPS', ')', 'materials', '.', 'The', 'Space', 'Shuttle', 'orbiter', 'also', 'featured', 'the', 'first', 'reusable', 'TPS', ';', 'all', 'previous', 'spaceflight', 'vehicles', 'had', 'a', 'single', '-', 'use', ',', 'ablative', 'heat', 'shield', '.', 'Other', 'notable', 'engineering', 'achievements', 'of', 'the', 'orbiter', 'included', 'the', 'first', 'reusable', 'orbital', 'propulsion', 'system', ',', 'and', 'the', 'first', 'two', '-', 'fault', '-', 'tolerant', 'Integrated', 'Avionics', 'System', '.', 'As', 'Hale', 'stated', ',', 'the', 'Space', 'Shuttle', 'remains', '“', 'the', 'largest', ',', 'fastest', ',', 'winged', 'hypersonic', 'aircraft', 'in', 'history', ',', '”', 'having', 'regularly', 'flown', 'at', 'twenty', '-', 'five', 'times', 'the', 'speed', 'of', 'sound', '.', '\\n']\n"
     ]
    }
   ],
   "source": [
    "# Токенізація\n",
    "doc = nlp(text)\n",
    "tokens = [token.text for token in doc]\n",
    "print(tokens)"
   ]
  },
  {
   "cell_type": "markdown",
   "id": "3e4b3333",
   "metadata": {},
   "source": [
    "SpaCy"
   ]
  },
  {
   "cell_type": "code",
   "execution_count": 639,
   "id": "90250db3",
   "metadata": {},
   "outputs": [
    {
     "name": "stdout",
     "output_type": "stream",
     "text": [
      "17\n"
     ]
    }
   ],
   "source": [
    "sentences = list(doc.sents)\n",
    "print(len(sentences))\n",
    "# sentences"
   ]
  },
  {
   "cell_type": "code",
   "execution_count": 640,
   "id": "7aa9ab03",
   "metadata": {},
   "outputs": [],
   "source": [
    "word_frequencies = {}\n",
    "\n",
    "for sent in sentences:\n",
    "  word_frequencies[sent] = len(sent)\n",
    "\n",
    "# word_frequencies[sent] "
   ]
  },
  {
   "cell_type": "code",
   "execution_count": 641,
   "id": "6da9b565",
   "metadata": {},
   "outputs": [
    {
     "data": {
      "text/plain": [
       "824"
      ]
     },
     "execution_count": 641,
     "metadata": {},
     "output_type": "execute_result"
    }
   ],
   "source": [
    "\n",
    "summary_sent = nlargest(3, word_frequencies, key=word_frequencies.get) # найбільші елементи з ітерабельного об’єкту\n",
    "\n",
    "summary = ''\n",
    "for sent  in summary_sent:\n",
    "    summary = summary + ''.join(f'\\n{sent.text}')\n",
    "# summary = f\"\\n\".join([sent.text for sent in summary_sent])\n",
    " \n",
    "len(summary)"
   ]
  },
  {
   "cell_type": "code",
   "execution_count": 652,
   "id": "149b323a",
   "metadata": {},
   "outputs": [
    {
     "name": "stdout",
     "output_type": "stream",
     "text": [
      "Summary of text SpaCy : \n",
      "The Orbiter Discovery, OV-103, is considered eligible for listing in the National Register of Historic Places (NRHP) in the context of the U.S. Space Shuttle Program (1969-2011) under Criterion A in the areas of Space Exploration and Transportation and under Criterion C in the area of Engineering.\n",
      "Under Criterion A, Discovery is significant as the oldest of the three extant orbiter vehicles constructed for the Space Shuttle Program (SSP), the longest running American space program to date; she was the third of five orbiters built by NASA.\n",
      "Although her base structure followed a conventional aircraft design, she used advanced materials that both minimized her weight for cargo-carrying purposes and featured low thermal expansion ratios, which provided a stable base for her Thermal Protection System (TPS) materials.\n"
     ]
    }
   ],
   "source": [
    "print(\"Summary of text SpaCy :\", summary)"
   ]
  },
  {
   "cell_type": "markdown",
   "id": "9fcd0252",
   "metadata": {},
   "source": [
    "NLTK"
   ]
  },
  {
   "cell_type": "code",
   "execution_count": 643,
   "id": "f8054178",
   "metadata": {},
   "outputs": [
    {
     "name": "stderr",
     "output_type": "stream",
     "text": [
      "[nltk_data] Downloading package punkt to\n",
      "[nltk_data]     C:\\Users\\38050\\AppData\\Roaming\\nltk_data...\n",
      "[nltk_data]   Package punkt is already up-to-date!\n",
      "[nltk_data] Downloading package stopwords to\n",
      "[nltk_data]     C:\\Users\\38050\\AppData\\Roaming\\nltk_data...\n",
      "[nltk_data]   Package stopwords is already up-to-date!\n"
     ]
    },
    {
     "data": {
      "text/plain": [
       "True"
      ]
     },
     "execution_count": 643,
     "metadata": {},
     "output_type": "execute_result"
    }
   ],
   "source": [
    "nltk.download(\"punkt\")\n",
    "nltk.download(\"stopwords\")"
   ]
  },
  {
   "cell_type": "code",
   "execution_count": 644,
   "id": "be8c4989",
   "metadata": {},
   "outputs": [],
   "source": [
    "tokens = word_tokenize(text,  language=\"english\", preserve_line= False)\n",
    "sentences = sent_tokenize(text)\n",
    "stop_words = set(stopwords.words('english'))\n",
    "# sentences"
   ]
  },
  {
   "cell_type": "code",
   "execution_count": 645,
   "id": "cbf6f404",
   "metadata": {},
   "outputs": [
    {
     "data": {
      "text/plain": [
       "{'Orbiter': 1,\n",
       " 'Discovery': 7,\n",
       " 'OV-103': 1,\n",
       " 'considered': 1,\n",
       " 'eligible': 1,\n",
       " 'listing': 1,\n",
       " 'National': 1,\n",
       " 'Register': 1,\n",
       " 'Historic': 1,\n",
       " 'Places': 1,\n",
       " 'NRHP': 1,\n",
       " 'context': 1,\n",
       " 'U.S.': 2,\n",
       " 'Space': 10,\n",
       " 'Shuttle': 6,\n",
       " 'Program': 2,\n",
       " '1969': 1,\n",
       " '2011': 1,\n",
       " 'Criterion': 4,\n",
       " 'areas': 1,\n",
       " 'Exploration': 1,\n",
       " 'Transportation': 1,\n",
       " 'C': 2,\n",
       " 'area': 1,\n",
       " 'Engineering': 1,\n",
       " 'achieved': 1,\n",
       " 'significance': 1,\n",
       " 'within': 1,\n",
       " 'past': 1,\n",
       " 'fifty': 1,\n",
       " 'years': 1,\n",
       " 'Criteria': 1,\n",
       " 'Consideration': 1,\n",
       " 'G': 1,\n",
       " 'applies': 1,\n",
       " 'significant': 2,\n",
       " 'oldest': 1,\n",
       " 'three': 1,\n",
       " 'extant': 1,\n",
       " 'orbiter': 6,\n",
       " 'vehicles': 2,\n",
       " 'constructed': 1,\n",
       " 'SSP': 2,\n",
       " 'longest': 1,\n",
       " 'running': 1,\n",
       " 'American': 1,\n",
       " 'space': 3,\n",
       " 'program': 1,\n",
       " 'date': 1,\n",
       " ';': 4,\n",
       " 'third': 1,\n",
       " 'five': 3,\n",
       " 'orbiters': 2,\n",
       " 'built': 1,\n",
       " 'NASA': 1,\n",
       " 'Unlike': 1,\n",
       " 'Mercury': 1,\n",
       " 'Gemini': 1,\n",
       " 'Apollo': 1,\n",
       " 'programs': 1,\n",
       " '’s': 1,\n",
       " 'emphasis': 1,\n",
       " 'cost': 1,\n",
       " 'effectiveness': 1,\n",
       " 'reusability': 1,\n",
       " 'eventually': 1,\n",
       " 'construction': 2,\n",
       " 'station': 2,\n",
       " 'Including': 1,\n",
       " 'maiden': 1,\n",
       " 'voyage': 1,\n",
       " 'launched': 1,\n",
       " 'August': 1,\n",
       " '30': 1,\n",
       " '1984': 1,\n",
       " 'flew': 3,\n",
       " 'thirty': 2,\n",
       " 'nine': 1,\n",
       " 'times': 2,\n",
       " 'four': 1,\n",
       " 'also': 3,\n",
       " 'first': 10,\n",
       " 'fly': 3,\n",
       " 'twenty': 2,\n",
       " 'missions': 4,\n",
       " 'honor': 1,\n",
       " 'chosen': 1,\n",
       " 'Return': 1,\n",
       " 'Flight': 1,\n",
       " 'vehicle': 1,\n",
       " 'Challenger': 2,\n",
       " 'Columbia': 1,\n",
       " 'accidents': 1,\n",
       " 'shuttle': 2,\n",
       " 'redesigned': 1,\n",
       " 'SRBs': 1,\n",
       " 'result': 1,\n",
       " 'accident': 1,\n",
       " 'Phase': 1,\n",
       " 'II': 1,\n",
       " 'Block': 1,\n",
       " 'SSME': 1,\n",
       " 'carried': 1,\n",
       " 'Hubble': 1,\n",
       " 'Telescope': 1,\n",
       " 'orbit': 1,\n",
       " 'performed': 1,\n",
       " 'two': 2,\n",
       " 'servicing': 1,\n",
       " 'observatory': 1,\n",
       " 'last': 1,\n",
       " 'dedicated': 1,\n",
       " 'Department': 1,\n",
       " 'Defense': 1,\n",
       " 'DoD': 1,\n",
       " 'well': 1,\n",
       " 'unclassified': 1,\n",
       " 'defense': 1,\n",
       " 'related': 1,\n",
       " 'mission': 1,\n",
       " 'addition': 1,\n",
       " 'vital': 1,\n",
       " 'International': 1,\n",
       " 'Station': 1,\n",
       " 'ISS': 2,\n",
       " 'thirteen': 1,\n",
       " 'seven': 1,\n",
       " 'total': 1,\n",
       " 'flown': 2,\n",
       " 'dock': 1,\n",
       " 'perform': 1,\n",
       " 'exchange': 1,\n",
       " 'resident': 1,\n",
       " 'crew': 1,\n",
       " 'feat': 1,\n",
       " 'engineering': 2,\n",
       " 'According': 1,\n",
       " 'Wayne': 1,\n",
       " 'Hale': 2,\n",
       " 'flight': 1,\n",
       " 'director': 1,\n",
       " 'Johnson': 1,\n",
       " 'Center': 1,\n",
       " 'represents': 1,\n",
       " '“': 2,\n",
       " 'huge': 1,\n",
       " 'technological': 1,\n",
       " 'leap': 1,\n",
       " 'expendable': 1,\n",
       " 'rockets': 1,\n",
       " 'capsules': 1,\n",
       " 'reusable': 3,\n",
       " 'winged': 2,\n",
       " 'hypersonic': 2,\n",
       " 'cargo': 2,\n",
       " 'carrying': 2,\n",
       " 'spacecraft': 1,\n",
       " '”': 2,\n",
       " 'Although': 1,\n",
       " 'base': 2,\n",
       " 'structure': 1,\n",
       " 'followed': 1,\n",
       " 'conventional': 1,\n",
       " 'aircraft': 2,\n",
       " 'design': 1,\n",
       " 'used': 1,\n",
       " 'advanced': 1,\n",
       " 'materials': 2,\n",
       " 'minimized': 1,\n",
       " 'weight': 1,\n",
       " 'purposes': 1,\n",
       " 'featured': 2,\n",
       " 'low': 1,\n",
       " 'thermal': 1,\n",
       " 'expansion': 1,\n",
       " 'ratios': 1,\n",
       " 'provided': 1,\n",
       " 'stable': 1,\n",
       " 'Thermal': 1,\n",
       " 'Protection': 1,\n",
       " 'System': 2,\n",
       " 'TPS': 2,\n",
       " 'previous': 1,\n",
       " 'spaceflight': 1,\n",
       " 'single': 1,\n",
       " 'use': 1,\n",
       " 'ablative': 1,\n",
       " 'heat': 1,\n",
       " 'shield': 1,\n",
       " 'notable': 1,\n",
       " 'achievements': 1,\n",
       " 'included': 1,\n",
       " 'orbital': 1,\n",
       " 'propulsion': 1,\n",
       " 'system': 1,\n",
       " 'fault': 1,\n",
       " 'tolerant': 1,\n",
       " 'Integrated': 1,\n",
       " 'Avionics': 1,\n",
       " 'stated': 1,\n",
       " 'remains': 1,\n",
       " 'largest': 1,\n",
       " 'fastest': 1,\n",
       " 'history': 1,\n",
       " 'regularly': 1,\n",
       " 'speed': 1,\n",
       " 'sound': 1}"
      ]
     },
     "execution_count": 645,
     "metadata": {},
     "output_type": "execute_result"
    }
   ],
   "source": [
    "word_frequencies = {}\n",
    "for word in doc:\n",
    "  if word.text.lower() not in stop_words:\n",
    "    if word.text.lower() not in  ['\\n',',', '.', ' ', '-','(', ')'] :\n",
    "      if word.text not in word_frequencies.keys():\n",
    "        word_frequencies[word.text] = 1\n",
    "      else:\n",
    "        word_frequencies[word.text] += 1\n",
    "word_frequencies\n"
   ]
  },
  {
   "cell_type": "code",
   "execution_count": 646,
   "id": "248f172a",
   "metadata": {},
   "outputs": [
    {
     "data": {
      "text/plain": [
       "['Space', 'first', 'Discovery']"
      ]
     },
     "execution_count": 646,
     "metadata": {},
     "output_type": "execute_result"
    }
   ],
   "source": [
    "summary_word = nlargest(3, word_frequencies, key= word_frequencies.get)\n",
    "summary_word \n"
   ]
  },
  {
   "cell_type": "code",
   "execution_count": 647,
   "id": "2a0d911b",
   "metadata": {},
   "outputs": [],
   "source": [
    "sentences = list(doc.sents)"
   ]
  },
  {
   "cell_type": "code",
   "execution_count": 648,
   "id": "0c81aac0",
   "metadata": {},
   "outputs": [],
   "source": [
    "\n",
    "summary_sent1 = nlargest(3, sentences, key=summary_word.sort())\n",
    "# summary_sent1 "
   ]
  },
  {
   "cell_type": "code",
   "execution_count": 649,
   "id": "71062b54",
   "metadata": {},
   "outputs": [
    {
     "data": {
      "text/plain": [
       "824"
      ]
     },
     "execution_count": 649,
     "metadata": {},
     "output_type": "execute_result"
    }
   ],
   "source": [
    "summary2 = ''\n",
    "for word  in summary_sent1:\n",
    "    summary2 = summary2 + ''.join(f'\\n{word.text}')\n",
    "    # summary2 = f\"\\n\".join([word.text for word in summary_sent1])\n",
    "len(summary)\n"
   ]
  },
  {
   "cell_type": "code",
   "execution_count": 651,
   "metadata": {},
   "outputs": [
    {
     "name": "stdout",
     "output_type": "stream",
     "text": [
      "Summary of text NLTK :\n",
      " \n",
      "As Hale stated, the Space Shuttle remains “the largest, fastest, winged hypersonic aircraft in history,” having regularly flown at twenty-five times the speed of sound.\n",
      "\n",
      "Other notable engineering achievements of the orbiter included the first reusable orbital propulsion system, and the first two-fault-tolerant Integrated Avionics System.\n",
      "The Space Shuttle orbiter also featured the first reusable TPS; all previous spaceflight vehicles had a single-use, ablative heat shield.\n"
     ]
    }
   ],
   "source": [
    "print(\"Summary of text NLTK :\\n\", summary2)"
   ]
  }
 ],
 "metadata": {
  "kernelspec": {
   "display_name": "Python 3 (ipykernel)",
   "language": "python",
   "name": "python3"
  },
  "language_info": {
   "codemirror_mode": {
    "name": "ipython",
    "version": 3
   },
   "file_extension": ".py",
   "mimetype": "text/x-python",
   "name": "python",
   "nbconvert_exporter": "python",
   "pygments_lexer": "ipython3",
   "version": "3.9.18"
  }
 },
 "nbformat": 4,
 "nbformat_minor": 5
}
