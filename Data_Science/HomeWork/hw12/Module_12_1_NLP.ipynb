{
 "cells": [
  {
   "cell_type": "markdown",
   "id": "6e99d2d2-015d-4305-a487-7a0d0b36a263",
   "metadata": {},
   "source": [
    "# Introduction to NLP"
   ]
  },
  {
   "cell_type": "markdown",
   "id": "a4967310-0a20-4ac9-a4ea-72b84ab84237",
   "metadata": {},
   "source": [
    "Main building blocks of an NLP application:\n",
    "- tokenization\n",
    "- word embeddings\n",
    "- sequence modeling\n",
    "- common applications"
   ]
  },
  {
   "cell_type": "markdown",
   "id": "1d401f27-7701-44f8-b6bb-0ff5771ee766",
   "metadata": {},
   "source": [
    "### Lemmatization\n",
    " Lemmatization reduces words to their base or dictionary form (i.e., lemma). "
   ]
  },
  {
   "cell_type": "code",
   "execution_count": 1,
   "id": "5a6d6f60-7b99-46bd-a614-cc3b97261bf1",
   "metadata": {},
   "outputs": [
    {
     "name": "stderr",
     "output_type": "stream",
     "text": [
      "[nltk_data] Downloading package wordnet to\n",
      "[nltk_data]     /Users/nataliakees/nltk_data...\n",
      "[nltk_data]   Package wordnet is already up-to-date!\n"
     ]
    },
    {
     "name": "stdout",
     "output_type": "stream",
     "text": [
      "Original words: ['Running', 'wild', 'cats', 'run', 'in', 'the', 'forest', '.', 'They', 'ran', 'away', 'when', 'they', 'saw', 'a', 'pack', 'of', 'wolves', '.']\n",
      "Lemmatized words: ['Running', 'wild', 'cat', 'run', 'in', 'the', 'forest', '.', 'They', 'ran', 'away', 'when', 'they', 'saw', 'a', 'pack', 'of', 'wolf', '.']\n"
     ]
    }
   ],
   "source": [
    "import nltk\n",
    "from nltk.stem import WordNetLemmatizer\n",
    "nltk.download('wordnet')  # https://www.nltk.org/api/nltk.corpus.reader.wordnet.html\n",
    "\n",
    "# Sample text\n",
    "text = \"Running wild cats run in the forest. They ran away when they saw a pack of wolves.\"\n",
    "\n",
    "# Tokenize the text into words\n",
    "words = nltk.word_tokenize(text)\n",
    "\n",
    "# Initialize WordNetLemmatizer\n",
    "lemmatizer = WordNetLemmatizer()\n",
    "\n",
    "# Lemmatize each word\n",
    "lemmatized_words = [lemmatizer.lemmatize(word) for word in words]\n",
    "\n",
    "print(\"Original words:\", words)\n",
    "print(\"Lemmatized words:\", lemmatized_words)\n"
   ]
  },
  {
   "cell_type": "markdown",
   "id": "a5057eaa-47d4-4774-8a84-0728c85e9416",
   "metadata": {},
   "source": [
    "### Stemming\n",
    "Stemming is a text processing technique that reduces words to their base or root form, called a stem. \n",
    "Stemming removes suffixes and prefixes from words to achieve this normalization."
   ]
  },
  {
   "cell_type": "code",
   "execution_count": 2,
   "id": "363cc498-f594-4b5c-a687-ec6ff22da1bb",
   "metadata": {},
   "outputs": [
    {
     "name": "stdout",
     "output_type": "stream",
     "text": [
      "Original words: ['Running', 'wild', 'cats', 'run', 'in', 'the', 'forest', '.', 'They', 'ran', 'away', 'when', 'they', 'saw', 'a', 'pack', 'of', 'wolves', '.']\n",
      "Stemmed words: ['run', 'wild', 'cat', 'run', 'in', 'the', 'forest', '.', 'they', 'ran', 'away', 'when', 'they', 'saw', 'a', 'pack', 'of', 'wolv', '.']\n"
     ]
    }
   ],
   "source": [
    "import nltk\n",
    "from nltk.stem import SnowballStemmer\n",
    "\n",
    "# Sample text\n",
    "text = \"Running wild cats run in the forest. They ran away when they saw a pack of wolves.\"\n",
    "\n",
    "# Tokenize the text into words\n",
    "words = nltk.word_tokenize(text)\n",
    "\n",
    "# Initialize PorterStemmer\n",
    "stemmer = SnowballStemmer('english')\n",
    "\n",
    "# Stem each word\n",
    "stemmed_words = [stemmer.stem(word) for word in words]\n",
    "\n",
    "print(\"Original words:\", words)\n",
    "print(\"Stemmed words:\", stemmed_words)"
   ]
  },
  {
   "cell_type": "markdown",
   "id": "234187dc-9920-4507-8336-7cba7aec6a6f",
   "metadata": {},
   "source": [
    "## Tokenization"
   ]
  },
  {
   "cell_type": "code",
   "execution_count": 3,
   "id": "bae6ab29-41b3-49ea-9bfb-c0658efc68e7",
   "metadata": {},
   "outputs": [
    {
     "name": "stdout",
     "output_type": "stream",
     "text": [
      "Character-level tokenization: ['T', 'o', 'k', 'e', 'n', 'i', 'z', 'a', 't', 'i', 'o', 'n', ' ', 'i', 's', ' ', 'a', 'n', ' ', 'i', 'm', 'p', 'o', 'r', 't', 'a', 'n', 't', ' ', 's', 't', 'e', 'p', ' ', 'i', 'n', ' ', 'n', 'a', 't', 'u', 'r', 'a', 'l', ' ', 'l', 'a', 'n', 'g', 'u', 'a', 'g', 'e', ' ', 'p', 'r', 'o', 'c', 'e', 's', 's', 'i', 'n', 'g', '.']\n",
      "Word level tokenization: ['Tokenization', 'is', 'an', 'important', 'step', 'in', 'natural', 'language', 'processing', '.']\n",
      "N-gram level tokenization (2-grams): [('Tokenization', 'is'), ('is', 'an'), ('an', 'important'), ('important', 'step'), ('step', 'in'), ('in', 'natural'), ('natural', 'language'), ('language', 'processing'), ('processing', '.')]\n"
     ]
    },
    {
     "name": "stderr",
     "output_type": "stream",
     "text": [
      "[nltk_data] Downloading package punkt to\n",
      "[nltk_data]     /Users/nataliakees/nltk_data...\n",
      "[nltk_data]   Package punkt is already up-to-date!\n"
     ]
    }
   ],
   "source": [
    "import nltk\n",
    "from nltk.tokenize import word_tokenize\n",
    "from nltk.tokenize import WordPunctTokenizer\n",
    "from nltk.util import ngrams\n",
    "nltk.download('punkt')  # https://www.nltk.org/_modules/nltk/tokenize/punkt.html\n",
    "\n",
    "# Sample text\n",
    "text = \"Tokenization is an important step in natural language processing.\"\n",
    "\n",
    "# Character-level tokenization\n",
    "char_tokens = list(text)\n",
    "print(\"Character-level tokenization:\", char_tokens)\n",
    "\n",
    "# Word level tokenization\n",
    "word_tokens = word_tokenize(text)\n",
    "print(\"Word level tokenization:\", word_tokens)\n",
    "\n",
    "# N-gram level tokenization\n",
    "n = 2\n",
    "n_grams = list(ngrams(word_tokenize(text), n))\n",
    "print(\"N-gram level tokenization (2-grams):\", n_grams)\n"
   ]
  },
  {
   "cell_type": "code",
   "execution_count": 4,
   "id": "47f62e32-f98c-4adf-8ab8-4ffb48d9a21a",
   "metadata": {},
   "outputs": [
    {
     "name": "stdout",
     "output_type": "stream",
     "text": [
      "\n",
      "\n",
      "\n",
      "Sub-word level tokenization (Byte-pair encoding): ['Tokenization', 'Ġis', 'Ġan', 'Ġimportant', 'Ġstep', 'Ġin', 'Ġ', 'n', 'at', 'u', 'r', 'a', 'l', 'Ġ', 'l', 'an', 'g', 'u', 'a', 'g', 'e', 'Ġprocess', 'ing', '.', 'Ċ', 'Tokenization', 'Ġis', 'Ġan', 'Ġimportant', 'Ġstep', 'Ġin', 'Ġ', 'N', 'L', 'P', '.', 'Ċ', 'Tokenization', 'Ġis', 'Ġan', 'Ġimportant', 'Ġprocess', '.', 'Ċ', 'P', 'rocess', 'Ġ', 'o', 'f', 'Ġ', 't', 'okeniz', 'ing', 'Ġ', 'te', 'x', 't', 'Ġs', 'e', 'q', 'u', 'en', 'ces', 'Ġis', 'Ġimportant', '.']\n"
     ]
    }
   ],
   "source": [
    "# Trained tokenizer\n",
    "# BPE ensures that the most common words are represented in the vocabulary as a single token while the rare words are broken down \n",
    "# into two or more subword tokens and this is in agreement with what a subword-based tokenization algorithm does.\n",
    "\n",
    "from tokenizers import ByteLevelBPETokenizer\n",
    "\n",
    "# Sample text\n",
    "text = \"\"\"Tokenization is an important step in natural language processing.\n",
    "Tokenization is an important step in NLP.\n",
    "Tokenization is an important process.\n",
    "Process of tokenizing text sequences is important.\"\"\"\n",
    "\n",
    "# Initialize ByteLevelBPETokenizer, used in GPT-2\n",
    "# https://towardsdatascience.com/byte-pair-encoding-subword-based-tokenization-algorithm-77828a70bee0\n",
    "tokenizer = ByteLevelBPETokenizer()\n",
    "\n",
    "# Train tokenizer on text\n",
    "tokenizer.train_from_iterator([text])\n",
    "\n",
    "# Sub-word level tokenization (Byte-pair encoding)\n",
    "subword_tokens = tokenizer.encode(text).tokens\n",
    "print(\"Sub-word level tokenization (Byte-pair encoding):\", subword_tokens)\n"
   ]
  },
  {
   "cell_type": "code",
   "execution_count": 5,
   "id": "fb694052-8b7c-4b15-b4e1-11b42e4c9dde",
   "metadata": {},
   "outputs": [
    {
     "data": {
      "text/plain": [
       "292"
      ]
     },
     "execution_count": 5,
     "metadata": {},
     "output_type": "execute_result"
    }
   ],
   "source": [
    "len(tokenizer.get_vocab())"
   ]
  },
  {
   "cell_type": "code",
   "execution_count": 6,
   "id": "2f295eee-0894-467e-8b52-cfe410905795",
   "metadata": {},
   "outputs": [
    {
     "data": {
      "text/plain": [
       "{'î': 170,\n",
       " 'I': 40,\n",
       " 'ô': 176,\n",
       " 'at': 259,\n",
       " '¦': 99,\n",
       " '®': 106,\n",
       " '¾': 122,\n",
       " 'Ł': 253,\n",
       " 'ī': 231,\n",
       " 'à': 156,\n",
       " '(': 7,\n",
       " '!': 0,\n",
       " 'Ġimportant': 273,\n",
       " 'Ñ': 141,\n",
       " 'µ': 113,\n",
       " '$': 3,\n",
       " '¸': 116,\n",
       " '&': 5,\n",
       " 'o': 78,\n",
       " ')': 8,\n",
       " 'Ġan': 280,\n",
       " '5': 20,\n",
       " 'e': 68,\n",
       " 'l': 75,\n",
       " 'Č': 200,\n",
       " 'ď': 203,\n",
       " 'Q': 48,\n",
       " 'tan': 266,\n",
       " '@': 31,\n",
       " 'i': 72,\n",
       " 'R': 49,\n",
       " 'J': 41,\n",
       " 'ï': 171,\n",
       " 'okeniz': 271,\n",
       " 'ĺ': 246,\n",
       " '+': 10,\n",
       " 'v': 85,\n",
       " 'ē': 207,\n",
       " 'z': 89,\n",
       " 'ì': 168,\n",
       " '}': 92,\n",
       " 'Ã': 127,\n",
       " '¿': 123,\n",
       " '?': 30,\n",
       " 'Â': 126,\n",
       " 'Ġi': 256,\n",
       " '¼': 120,\n",
       " 'º': 118,\n",
       " 'en': 258,\n",
       " '^': 61,\n",
       " 'Ú': 150,\n",
       " 'Ĳ': 238,\n",
       " 'k': 74,\n",
       " 'Û': 151,\n",
       " 'Tokenizatio': 282,\n",
       " '±': 109,\n",
       " 'ò': 174,\n",
       " 'ä': 160,\n",
       " 'ĳ': 239,\n",
       " 'oken': 265,\n",
       " 'or': 264,\n",
       " 'Ė': 210,\n",
       " 'À': 124,\n",
       " 'ó': 175,\n",
       " 'ğ': 219,\n",
       " '_': 62,\n",
       " 'Ġis': 267,\n",
       " ']': 60,\n",
       " 'M': 44,\n",
       " 'y': 88,\n",
       " 'Ĝ': 216,\n",
       " 'Ô': 144,\n",
       " 'ĸ': 244,\n",
       " 'Y': 56,\n",
       " 'ù': 181,\n",
       " 'X': 55,\n",
       " 'ċ': 199,\n",
       " '>': 29,\n",
       " 'Z': 57,\n",
       " 'ħ': 227,\n",
       " 'đ': 205,\n",
       " '·': 115,\n",
       " '\\\\': 59,\n",
       " 'Ď': 202,\n",
       " 'b': 65,\n",
       " 'Ĩ': 228,\n",
       " 'â': 158,\n",
       " 'ĥ': 225,\n",
       " 'ing': 291,\n",
       " 'r': 81,\n",
       " '³': 111,\n",
       " 'Ġ': 220,\n",
       " 'Ü': 152,\n",
       " 'ç': 163,\n",
       " 'ă': 191,\n",
       " 'Ý': 153,\n",
       " '¹': 117,\n",
       " 'roces': 277,\n",
       " 'Ē': 206,\n",
       " '<': 27,\n",
       " 'ñ': 173,\n",
       " 'g': 70,\n",
       " 'O': 46,\n",
       " 'í': 169,\n",
       " 'oces': 276,\n",
       " 'n': 77,\n",
       " 'ł': 254,\n",
       " 'ľ': 250,\n",
       " 't': 83,\n",
       " 'Ŀ': 251,\n",
       " '»': 119,\n",
       " 'Ġstep': 290,\n",
       " 'ı': 237,\n",
       " 'ortan': 270,\n",
       " '{': 90,\n",
       " 'Ê': 134,\n",
       " 'Þ': 154,\n",
       " 'd': 67,\n",
       " 'Õ': 145,\n",
       " '9': 24,\n",
       " 'Ċ': 198,\n",
       " '¤': 97,\n",
       " '[': 58,\n",
       " 'Ó': 143,\n",
       " 'f': 69,\n",
       " 's': 82,\n",
       " 'q': 80,\n",
       " 'S': 50,\n",
       " '´': 112,\n",
       " 'C': 34,\n",
       " 'ë': 167,\n",
       " 'ĝ': 217,\n",
       " '¶': 114,\n",
       " 'Ķ': 242,\n",
       " 'ĵ': 241,\n",
       " '=': 28,\n",
       " \"'\": 6,\n",
       " 'u': 84,\n",
       " 'ą': 193,\n",
       " 'ę': 213,\n",
       " '÷': 179,\n",
       " 'Ġimp': 268,\n",
       " 'ļ': 248,\n",
       " 'Ĉ': 196,\n",
       " '#': 2,\n",
       " 'W': 54,\n",
       " 'N': 45,\n",
       " 'Í': 137,\n",
       " '.': 13,\n",
       " '×': 147,\n",
       " 'Ġin': 288,\n",
       " 'P': 47,\n",
       " 'tep': 289,\n",
       " 'F': 37,\n",
       " '¡': 94,\n",
       " 'ģ': 223,\n",
       " '/': 14,\n",
       " 'm': 76,\n",
       " '1': 16,\n",
       " 'A': 32,\n",
       " 'į': 235,\n",
       " 'è': 164,\n",
       " 'ŀ': 252,\n",
       " 'Ī': 230,\n",
       " 'Æ': 130,\n",
       " 'ª': 103,\n",
       " 'ð': 172,\n",
       " 'ĭ': 233,\n",
       " '\"': 1,\n",
       " 'õ': 177,\n",
       " 'Ā': 188,\n",
       " '2': 17,\n",
       " 'Ð': 140,\n",
       " 'ê': 166,\n",
       " 'Ò': 142,\n",
       " '¢': 95,\n",
       " '°': 108,\n",
       " 'û': 183,\n",
       " '`': 63,\n",
       " 'ā': 189,\n",
       " 'ġ': 221,\n",
       " 'G': 38,\n",
       " '|': 91,\n",
       " 'j': 73,\n",
       " 'Ï': 139,\n",
       " 'ć': 195,\n",
       " 'å': 161,\n",
       " 'Đ': 204,\n",
       " 'Ġprocess': 287,\n",
       " 'Î': 138,\n",
       " '~': 93,\n",
       " 'ß': 155,\n",
       " 'ces': 269,\n",
       " 'iz': 261,\n",
       " 'Ą': 192,\n",
       " 'ce': 260,\n",
       " 'w': 86,\n",
       " 'ú': 182,\n",
       " '8': 23,\n",
       " '¨': 101,\n",
       " 'Ń': 255,\n",
       " 'Ç': 131,\n",
       " 'Ă': 190,\n",
       " 'Ğ': 218,\n",
       " 'Á': 125,\n",
       " 'È': 132,\n",
       " 'L': 43,\n",
       " 'Ĭ': 232,\n",
       " 'Ĺ': 245,\n",
       " 'Ä': 128,\n",
       " '½': 121,\n",
       " 'é': 165,\n",
       " 'Ć': 194,\n",
       " 'Į': 234,\n",
       " 'ĉ': 197,\n",
       " '©': 102,\n",
       " 'Ĵ': 240,\n",
       " 'T': 51,\n",
       " 'É': 133,\n",
       " 'Ĕ': 208,\n",
       " 'Ĥ': 224,\n",
       " 'ė': 211,\n",
       " '3': 18,\n",
       " '*': 9,\n",
       " 'an': 257,\n",
       " 'a': 64,\n",
       " 'ø': 180,\n",
       " '%': 4,\n",
       " 'þ': 186,\n",
       " '-': 12,\n",
       " 'Ë': 135,\n",
       " 'Ļ': 247,\n",
       " 'Tokenization': 284,\n",
       " 'ě': 215,\n",
       " 'te': 278,\n",
       " 'atio': 281,\n",
       " 'ĕ': 209,\n",
       " 'V': 53,\n",
       " '§': 100,\n",
       " 'Ø': 148,\n",
       " '¥': 98,\n",
       " '¬': 105,\n",
       " '£': 96,\n",
       " 'rocess': 283,\n",
       " '0': 15,\n",
       " 'E': 36,\n",
       " 'B': 33,\n",
       " 'Ġs': 279,\n",
       " 'p': 79,\n",
       " '²': 110,\n",
       " 'Ì': 136,\n",
       " ',': 11,\n",
       " 'c': 66,\n",
       " 'mp': 263,\n",
       " 'İ': 236,\n",
       " 'Å': 129,\n",
       " 'in': 285,\n",
       " '4': 19,\n",
       " 'Ľ': 249,\n",
       " 'Ö': 146,\n",
       " '¯': 107,\n",
       " 'Ħ': 226,\n",
       " 'ÿ': 187,\n",
       " 'Ù': 149,\n",
       " 'h': 71,\n",
       " 'io': 275,\n",
       " 'č': 201,\n",
       " 'á': 157,\n",
       " 'ü': 184,\n",
       " 'ö': 178,\n",
       " 'x': 87,\n",
       " ':': 25,\n",
       " '7': 22,\n",
       " 'H': 39,\n",
       " 'Ę': 212,\n",
       " 'ý': 185,\n",
       " 'ĩ': 229,\n",
       " 'ken': 262,\n",
       " '«': 104,\n",
       " '6': 21,\n",
       " 'Ġimportan': 272,\n",
       " 'K': 42,\n",
       " 'ķ': 243,\n",
       " 'U': 52,\n",
       " 'process': 286,\n",
       " 'Ģ': 222,\n",
       " 'Tokeniz': 274,\n",
       " 'æ': 162,\n",
       " 'Ě': 214,\n",
       " 'ã': 159,\n",
       " 'D': 35,\n",
       " ';': 26}"
      ]
     },
     "execution_count": 6,
     "metadata": {},
     "output_type": "execute_result"
    }
   ],
   "source": [
    "tokenizer.get_vocab()"
   ]
  },
  {
   "cell_type": "code",
   "execution_count": 8,
   "id": "8a3209d0-7ebb-47b4-b927-e68f9de6a9dd",
   "metadata": {},
   "outputs": [
    {
     "data": {
      "text/plain": [
       "'ce'"
      ]
     },
     "execution_count": 8,
     "metadata": {},
     "output_type": "execute_result"
    }
   ],
   "source": [
    "tokenizer.id_to_token(260)"
   ]
  },
  {
   "cell_type": "markdown",
   "id": "e39e25dd-7f0e-4356-94b3-8854e8cfddf0",
   "metadata": {},
   "source": [
    "Training your own tokenizer: https://huggingface.co/learn/nlp-course/en/chapter6/8"
   ]
  },
  {
   "cell_type": "code",
   "execution_count": 9,
   "id": "c5aaed23-2116-4bd3-94a0-98a006f18a57",
   "metadata": {},
   "outputs": [
    {
     "name": "stdout",
     "output_type": "stream",
     "text": [
      "hello how are u?\n"
     ]
    }
   ],
   "source": [
    "# Training from scratch\n",
    "## WordPiece Tokenizer: https://huggingface.co/learn/nlp-course/en/chapter6/6\n",
    "\n",
    "from tokenizers import (\n",
    "    decoders,\n",
    "    models,\n",
    "    normalizers,\n",
    "    pre_tokenizers,\n",
    "    processors,\n",
    "    trainers,\n",
    "    Tokenizer,\n",
    ")\n",
    "from tokenizers.pre_tokenizers import Whitespace\n",
    "\n",
    "\n",
    "tokenizer = Tokenizer(models.WordPiece(unk_token=\"[UNK]\"))\n",
    "\n",
    "tokenizer.normalizer = normalizers.Sequence(\n",
    "    [normalizers.NFD(), normalizers.Lowercase(), normalizers.StripAccents()]\n",
    ")\n",
    "\n",
    "print(tokenizer.normalizer.normalize_str(\"Héllò hôw are ü?\"))\n"
   ]
  },
  {
   "cell_type": "code",
   "execution_count": 10,
   "id": "18dd3015-b254-4202-a9af-995b389a84df",
   "metadata": {},
   "outputs": [
    {
     "data": {
      "text/plain": [
       "[('Let', (0, 3)),\n",
       " (\"'\", (3, 4)),\n",
       " ('s', (4, 5)),\n",
       " ('test', (6, 10)),\n",
       " ('my', (11, 13)),\n",
       " ('pre', (14, 17)),\n",
       " ('-', (17, 18)),\n",
       " ('tokenizer', (18, 27)),\n",
       " ('.', (27, 28))]"
      ]
     },
     "execution_count": 10,
     "metadata": {},
     "output_type": "execute_result"
    }
   ],
   "source": [
    "tokenizer.pre_tokenizer = pre_tokenizers.Whitespace()\n",
    "tokenizer.pre_tokenizer.pre_tokenize_str(\"Let's test my pre-tokenizer.\")"
   ]
  },
  {
   "cell_type": "code",
   "execution_count": 11,
   "id": "c438f38d-dfcb-4282-8715-c4d27d31470b",
   "metadata": {},
   "outputs": [
    {
     "name": "stdout",
     "output_type": "stream",
     "text": [
      "\n",
      "\n",
      "\n"
     ]
    }
   ],
   "source": [
    "corpus = [\n",
    "    \"The quick brown fox jumps over the lazy dog\",\n",
    "    \"The cat sits on the window sill\",\n",
    "    \"The dog barks loudly in the night\",\n",
    "    \"Birds of a feather flock together\",\n",
    "    \"Tokenization is an important step in natural language processing.\",\n",
    "    \"Tokenization is an important step in NLP.\",\n",
    "    \"Tokenization is an important process.\",\n",
    "    \"Process of tokenizing text sequences is important.\"\n",
    "\n",
    "]\n",
    "special_tokens = [\"[UNK]\", \"[PAD]\", \"[CLS]\", \"[SEP]\", \"[MASK]\"]\n",
    "trainer = trainers.WordPieceTrainer(vocab_size=1000, special_tokens=special_tokens)\n",
    "tokenizer.train_from_iterator(corpus, trainer=trainer)\n",
    "tokenizer.decoder = decoders.WordPiece(prefix=\"##\")\n",
    "tokenizer.save(\"./tokenizer-trained.json\")\n",
    "#tokenizer = Tokenizer.from_file(\"./tokenizer-trained.json\")"
   ]
  },
  {
   "cell_type": "code",
   "execution_count": 12,
   "id": "ef88a6bb-a9c4-4da6-95d8-aa44fb31c462",
   "metadata": {},
   "outputs": [
    {
     "name": "stdout",
     "output_type": "stream",
     "text": [
      "['the', 'quick', 'brown', 'fox']\n"
     ]
    }
   ],
   "source": [
    "encoding = tokenizer.encode(\"The quick brown fox\")\n",
    "print(encoding.tokens)"
   ]
  },
  {
   "cell_type": "code",
   "execution_count": 13,
   "id": "d2061b70-cbb0-4e97-9954-27006a515a6f",
   "metadata": {},
   "outputs": [
    {
     "data": {
      "text/plain": [
       "[57, 172, 150, 151]"
      ]
     },
     "execution_count": 13,
     "metadata": {},
     "output_type": "execute_result"
    }
   ],
   "source": [
    "encoding.ids"
   ]
  },
  {
   "cell_type": "code",
   "execution_count": 14,
   "id": "949c5559-483b-44d0-acac-71586d2fb61c",
   "metadata": {},
   "outputs": [
    {
     "data": {
      "text/plain": [
       "'the quick brown fox'"
      ]
     },
     "execution_count": 14,
     "metadata": {},
     "output_type": "execute_result"
    }
   ],
   "source": [
    "tokenizer.decode(encoding.ids)"
   ]
  },
  {
   "cell_type": "code",
   "execution_count": 15,
   "id": "5ce50c8a-f62d-44a9-8eb3-6d4cb9372937",
   "metadata": {},
   "outputs": [
    {
     "data": {
      "text/plain": [
       "{'##al': 126,\n",
       " 'ba': 99,\n",
       " '##p': 34,\n",
       " '##z': 41,\n",
       " 'langua': 157,\n",
       " 'the': 57,\n",
       " 'of': 88,\n",
       " '##he': 56,\n",
       " 'over': 161,\n",
       " '##ather': 139,\n",
       " 'h': 13,\n",
       " '##c': 46,\n",
       " 'step': 97,\n",
       " '##u': 32,\n",
       " 'r': 23,\n",
       " 'quic': 162,\n",
       " 'lan': 108,\n",
       " '##ts': 127,\n",
       " 'i': 14,\n",
       " 'window': 165,\n",
       " 'm': 18,\n",
       " 'sits': 145,\n",
       " 'sill': 146,\n",
       " 'p': 21,\n",
       " '##oces': 83,\n",
       " '##ther': 128,\n",
       " '##ion': 81,\n",
       " '##an': 62,\n",
       " 'lo': 106,\n",
       " 'brown': 150,\n",
       " 'fl': 104,\n",
       " 'quick': 172,\n",
       " '##ces': 133,\n",
       " '##o': 36,\n",
       " 'x': 29,\n",
       " 'an': 76,\n",
       " '##ation': 82,\n",
       " '##r': 44,\n",
       " '[PAD]': 1,\n",
       " 'jumps': 154,\n",
       " 'nlp': 159,\n",
       " 'on': 112,\n",
       " 'u': 26,\n",
       " '##ge': 93,\n",
       " '[UNK]': 0,\n",
       " 'a': 6,\n",
       " '##ken': 67,\n",
       " '.': 5,\n",
       " '##ow': 91,\n",
       " '##n': 39,\n",
       " '##ur': 119,\n",
       " '##ic': 124,\n",
       " '##tant': 73,\n",
       " '##gh': 134,\n",
       " 'e': 10,\n",
       " '##ing': 95,\n",
       " 'nigh': 158,\n",
       " '##or': 65,\n",
       " '##w': 50,\n",
       " 'sequen': 163,\n",
       " '##q': 53,\n",
       " 'n': 19,\n",
       " '##on': 79,\n",
       " '##er': 123,\n",
       " 'qu': 114,\n",
       " '##i': 40,\n",
       " '##ock': 142,\n",
       " '##e': 38,\n",
       " '##quen': 138,\n",
       " 'l': 17,\n",
       " '##k': 37,\n",
       " 'important': 75,\n",
       " 'st': 90,\n",
       " 'd': 9,\n",
       " 'win': 117,\n",
       " 'f': 11,\n",
       " 'is': 63,\n",
       " '##ud': 120,\n",
       " 'tokeniz': 74,\n",
       " 'o': 20,\n",
       " 'token': 71,\n",
       " 'loudly': 168,\n",
       " 'natur': 160,\n",
       " 'fe': 103,\n",
       " '##t': 43,\n",
       " 'birds': 167,\n",
       " 'fo': 102,\n",
       " '##ll': 131,\n",
       " 'cat': 101,\n",
       " '##rks': 130,\n",
       " 'ju': 105,\n",
       " '##v': 51,\n",
       " 'tokenization': 84,\n",
       " '##iz': 69,\n",
       " '##her': 94,\n",
       " 'bird': 148,\n",
       " '##own': 147,\n",
       " '##d': 52,\n",
       " 'te': 116,\n",
       " '##uen': 121,\n",
       " '##g': 47,\n",
       " '##ly': 132,\n",
       " '##dow': 137,\n",
       " 'fox': 151,\n",
       " 'c': 8,\n",
       " 'natural': 171,\n",
       " 'to': 59,\n",
       " 'in': 77,\n",
       " 'night': 170,\n",
       " 'ni': 109,\n",
       " '##gua': 135,\n",
       " 'si': 89,\n",
       " '##at': 58,\n",
       " 'nat': 111,\n",
       " 'v': 27,\n",
       " 'pr': 78,\n",
       " '##f': 55,\n",
       " 'processing': 144,\n",
       " 'imp': 64,\n",
       " '##x': 48,\n",
       " '##ua': 118,\n",
       " 'b': 7,\n",
       " '[MASK]': 4,\n",
       " 't': 25,\n",
       " 'lazy': 156,\n",
       " 'language': 169,\n",
       " '##s': 35,\n",
       " 'loud': 155,\n",
       " 'do': 87,\n",
       " '##m': 33,\n",
       " 'br': 100,\n",
       " 'se': 115,\n",
       " 'sequences': 173,\n",
       " '##l': 45,\n",
       " '##mps': 141,\n",
       " 'feather': 152,\n",
       " '##zy': 125,\n",
       " '##ep': 92,\n",
       " 'tokenizing': 143,\n",
       " 'k': 16,\n",
       " 'y': 30,\n",
       " 'barks': 149,\n",
       " '##a': 42,\n",
       " 'q': 22,\n",
       " 'g': 12,\n",
       " 'w': 28,\n",
       " 'z': 31,\n",
       " 'impor': 72,\n",
       " 'ov': 113,\n",
       " 'la': 107,\n",
       " 'flock': 153,\n",
       " 'text': 164,\n",
       " '##rd': 129,\n",
       " 'process': 86,\n",
       " '##xt': 136,\n",
       " 's': 24,\n",
       " 'bi': 98,\n",
       " 'together': 166,\n",
       " '##tan': 70,\n",
       " '##in': 80,\n",
       " 'j': 15,\n",
       " '##mp': 60,\n",
       " '##oc': 66,\n",
       " '[SEP]': 3,\n",
       " '[CLS]': 2,\n",
       " '##y': 54,\n",
       " 'dog': 96,\n",
       " '##es': 68,\n",
       " '##en': 61,\n",
       " 'proces': 85,\n",
       " 'toge': 140,\n",
       " '##h': 49,\n",
       " '##ks': 122,\n",
       " 'nl': 110}"
      ]
     },
     "execution_count": 15,
     "metadata": {},
     "output_type": "execute_result"
    }
   ],
   "source": [
    "tokenizer.get_vocab()"
   ]
  },
  {
   "cell_type": "code",
   "execution_count": 16,
   "id": "fd63dae7-9084-4ad6-a161-be3551c351ea",
   "metadata": {},
   "outputs": [
    {
     "data": {
      "text/plain": [
       "174"
      ]
     },
     "execution_count": 16,
     "metadata": {},
     "output_type": "execute_result"
    }
   ],
   "source": [
    "tokenizer.get_vocab_size()"
   ]
  },
  {
   "cell_type": "markdown",
   "id": "fc6b2302-3acd-4c9d-bc74-be65e15798b0",
   "metadata": {},
   "source": [
    "# Text Embeddings\n",
    "\n",
    "https://www.deepset.ai/blog/the-beginners-guide-to-text-embeddings"
   ]
  },
  {
   "cell_type": "markdown",
   "id": "34b9feb1-6368-4405-ae8f-952eb096806b",
   "metadata": {},
   "source": [
    "## Sparse (розріджені) vectors: One hot encoding, Bag of words, Tf-idf"
   ]
  },
  {
   "cell_type": "code",
   "execution_count": 17,
   "id": "d2fb9c95-5dfe-4f66-ab23-120fa9f7429f",
   "metadata": {},
   "outputs": [
    {
     "name": "stdout",
     "output_type": "stream",
     "text": [
      "tokens ['the', 'quick', 'brown', 'fox', 'jumps', 'over', 'the', 'lazy', 'dog']\n",
      "vocab ['brown', 'dog', 'fox', 'jumps', 'lazy', 'over', 'quick', 'the']\n"
     ]
    }
   ],
   "source": [
    "from nltk.tokenize import word_tokenize\n",
    "import numpy as np\n",
    "import nltk\n",
    "\n",
    "# Sample text\n",
    "text = \"The quick brown fox jumps over the lazy dog\"\n",
    "\n",
    "# Tokenize the text\n",
    "tokens = word_tokenize(text.lower())\n",
    "print(\"tokens\", tokens)\n",
    "# Create vocabulary\n",
    "vocab = sorted(set(tokens))\n",
    "print(\"vocab\", vocab)"
   ]
  },
  {
   "cell_type": "code",
   "execution_count": 18,
   "id": "fa728d8a-1d86-44d2-b98f-02d03abf471d",
   "metadata": {},
   "outputs": [
    {
     "data": {
      "text/plain": [
       "[[0, 0, 0, 0, 0, 0, 0, 1],\n",
       " [0, 0, 0, 0, 0, 0, 1, 0],\n",
       " [1, 0, 0, 0, 0, 0, 0, 0],\n",
       " [0, 0, 1, 0, 0, 0, 0, 0],\n",
       " [0, 0, 0, 1, 0, 0, 0, 0],\n",
       " [0, 0, 0, 0, 0, 1, 0, 0],\n",
       " [0, 0, 0, 0, 0, 0, 0, 1],\n",
       " [0, 0, 0, 0, 1, 0, 0, 0],\n",
       " [0, 1, 0, 0, 0, 0, 0, 0]]"
      ]
     },
     "execution_count": 18,
     "metadata": {},
     "output_type": "execute_result"
    }
   ],
   "source": [
    "# Create one-hot encoding\n",
    "one_hot_encoded = []\n",
    "for token in tokens:\n",
    "    one_hot_vector = [0] * len(vocab)\n",
    "    one_hot_vector[vocab.index(token)] = 1\n",
    "    one_hot_encoded.append(one_hot_vector)\n",
    "one_hot_encoded"
   ]
  },
  {
   "cell_type": "code",
   "execution_count": 19,
   "id": "9efe46ba-3fc1-40e3-b4ae-45273a9d7068",
   "metadata": {},
   "outputs": [
    {
     "name": "stdout",
     "output_type": "stream",
     "text": [
      "Original text: The quick brown fox jumps over the lazy dog\n",
      "Tokens: ['the', 'quick', 'brown', 'fox', 'jumps', 'over', 'the', 'lazy', 'dog']\n",
      "Vocabulary: ['brown', 'dog', 'fox', 'jumps', 'lazy', 'over', 'quick', 'the']\n",
      "One-hot encoded text:\n",
      " [[0 0 0 0 0 0 0 1]\n",
      " [0 0 0 0 0 0 1 0]\n",
      " [1 0 0 0 0 0 0 0]\n",
      " [0 0 1 0 0 0 0 0]\n",
      " [0 0 0 1 0 0 0 0]\n",
      " [0 0 0 0 0 1 0 0]\n",
      " [0 0 0 0 0 0 0 1]\n",
      " [0 0 0 0 1 0 0 0]\n",
      " [0 1 0 0 0 0 0 0]]\n"
     ]
    }
   ],
   "source": [
    "# Convert to numpy array for easier manipulation\n",
    "one_hot_encoded = np.array(one_hot_encoded)\n",
    "\n",
    "# Print results\n",
    "print(\"Original text:\", text)\n",
    "print(\"Tokens:\", tokens)\n",
    "print(\"Vocabulary:\", vocab)\n",
    "print(\"One-hot encoded text:\\n\", one_hot_encoded)"
   ]
  },
  {
   "cell_type": "code",
   "execution_count": 20,
   "id": "b62ce7ac-987a-4448-abc6-ec6456918a3c",
   "metadata": {},
   "outputs": [
    {
     "name": "stdout",
     "output_type": "stream",
     "text": [
      "Original text: The quick brown fox jumps over the lazy dog\n",
      "Tokens: ['the', 'quick', 'brown', 'fox', 'jumps', 'over', 'the', 'lazy', 'dog']\n",
      "Vocabulary: ['brown', 'dog', 'fox', 'jumps', 'lazy', 'over', 'quick', 'the']\n",
      "Bag of Words:\n",
      " [1. 1. 1. 1. 1. 1. 1. 2.]\n"
     ]
    }
   ],
   "source": [
    "# Bag of words\n",
    "\n",
    "# Initialize Bag of Words\n",
    "bow = np.zeros(len(vocab))\n",
    "\n",
    "# Count occurrences of each word\n",
    "for token in tokens:\n",
    "    bow[vocab.index(token)] += 1\n",
    "\n",
    "# Print results\n",
    "print(\"Original text:\", text)\n",
    "print(\"Tokens:\", tokens)\n",
    "print(\"Vocabulary:\", vocab)\n",
    "print(\"Bag of Words:\\n\", bow)\n",
    "\n",
    "# And just like that, we have managed to encode our text as a vector \n",
    "# (also known as a “bag of words” or “BoW” embedding — because it ignores the order of the words in the sentence)."
   ]
  },
  {
   "cell_type": "code",
   "execution_count": 21,
   "id": "3310fa21-a40b-4687-9fc8-18acfc7d2c6f",
   "metadata": {},
   "outputs": [
    {
     "name": "stdout",
     "output_type": "stream",
     "text": [
      "Sample corpus: ['The quick brown fox jumps over the lazy dog', 'The cat sits on the window sill', 'The dog barks loudly in the night', 'Birds of a feather flock together']\n",
      "Vocabulary: ['barks' 'birds' 'brown' 'cat' 'dog' 'feather' 'flock' 'fox' 'in' 'jumps'\n",
      " 'lazy' 'loudly' 'night' 'of' 'on' 'over' 'quick' 'sill' 'sits' 'the'\n",
      " 'together' 'window']\n",
      "TF-IDF matrix:\n",
      " [[0.         0.         0.34812928 0.         0.27446912 0.\n",
      "  0.         0.34812928 0.         0.34812928 0.34812928 0.\n",
      "  0.         0.         0.         0.34812928 0.34812928 0.\n",
      "  0.         0.44441281 0.         0.        ]\n",
      " [0.         0.         0.         0.38837832 0.         0.\n",
      "  0.         0.         0.         0.         0.         0.\n",
      "  0.         0.         0.38837832 0.         0.         0.38837832\n",
      "  0.38837832 0.4957937  0.         0.38837832]\n",
      " [0.39996052 0.         0.         0.         0.31533346 0.\n",
      "  0.         0.         0.39996052 0.         0.         0.39996052\n",
      "  0.39996052 0.         0.         0.         0.         0.\n",
      "  0.         0.51057923 0.         0.        ]\n",
      " [0.         0.4472136  0.         0.         0.         0.4472136\n",
      "  0.4472136  0.         0.         0.         0.         0.\n",
      "  0.         0.4472136  0.         0.         0.         0.\n",
      "  0.         0.         0.4472136  0.        ]]\n"
     ]
    }
   ],
   "source": [
    "# TF-idf\n",
    "# see module 7 lesson 1\n",
    "from sklearn.feature_extraction.text import TfidfVectorizer\n",
    "\n",
    "# Sample corpus\n",
    "corpus = [\n",
    "    \"The quick brown fox jumps over the lazy dog\",\n",
    "    \"The cat sits on the window sill\",\n",
    "    \"The dog barks loudly in the night\",\n",
    "    \"Birds of a feather flock together\"\n",
    "]\n",
    "\n",
    "# Initialize TF-IDF vectorizer\n",
    "tfidf_vectorizer = TfidfVectorizer()\n",
    "\n",
    "# Fit and transform the corpus\n",
    "tfidf_matrix = tfidf_vectorizer.fit_transform(corpus)\n",
    "\n",
    "# Get feature names (vocabulary)\n",
    "vocab = tfidf_vectorizer.get_feature_names_out()\n",
    "\n",
    "# Convert TF-IDF matrix to dense array for easier manipulation\n",
    "tfidf_matrix_dense = tfidf_matrix.toarray()\n",
    "\n",
    "# Print results\n",
    "print(\"Sample corpus:\", corpus)\n",
    "print(\"Vocabulary:\", vocab)\n",
    "print(\"TF-IDF matrix:\\n\", tfidf_matrix_dense)\n"
   ]
  },
  {
   "cell_type": "markdown",
   "id": "0f2d2720-f916-43ac-b2c8-cae5360734b7",
   "metadata": {},
   "source": [
    "### Cosine similarity\n",
    "https://github.com/saqemlas/deep-learning-specialization/blob/main/5_SequenceModels/week_2/Assignment/Operations_on_word_vectors.ipynb\n"
   ]
  },
  {
   "cell_type": "code",
   "execution_count": 22,
   "id": "c1a9e075-7500-4714-a3fd-396ecb8ee86b",
   "metadata": {},
   "outputs": [
    {
     "name": "stdout",
     "output_type": "stream",
     "text": [
      "Vector 1: [[1 2 3]]\n",
      "Vector 2: [[4 5 6]]\n",
      "Cosine similarity: 0.9746318461970762\n"
     ]
    }
   ],
   "source": [
    "# show vector similarity\n",
    "import numpy as np\n",
    "from sklearn.metrics.pairwise import cosine_similarity\n",
    "\n",
    "# Sample vectors\n",
    "vector1 = np.array([1, 2, 3])\n",
    "vector2 = np.array([4, 5, 6])\n",
    "\n",
    "# Reshape the vectors to ensure they are 2D arrays\n",
    "vector1 = vector1.reshape(1, -1)\n",
    "vector2 = vector2.reshape(1, -1)\n",
    "\n",
    "# Compute cosine similarity\n",
    "similarity = cosine_similarity(vector1, vector2)\n",
    "\n",
    "print(\"Vector 1:\", vector1)\n",
    "print(\"Vector 2:\", vector2)\n",
    "print(\"Cosine similarity:\", similarity[0][0])\n"
   ]
  },
  {
   "cell_type": "code",
   "execution_count": null,
   "id": "9c49fe42-287e-42a6-975b-2516b1cafdc2",
   "metadata": {},
   "outputs": [],
   "source": [
    "def cosine_similarity(u, v):\n",
    "    \"\"\"\n",
    "    Cosine similarity reflects the degree of similarity between u and v\n",
    "        \n",
    "    Arguments:\n",
    "        u -- a word vector of shape (n,)          \n",
    "        v -- a word vector of shape (n,)\n",
    "\n",
    "    Returns:\n",
    "        cosine_similarity -- the cosine similarity between u and v defined by the formula above.\n",
    "    \"\"\"\n",
    "    \n",
    "    # Special case. Consider the case u = [0, 0], v=[0, 0]\n",
    "    if np.all(u == v):\n",
    "        return 1\n",
    "    \n",
    "    ### START CODE HERE ###\n",
    "    # Compute the dot product between u and v (≈1 line)\n",
    "    dot = np.dot(u, v) \n",
    "    # Compute the L2 norm of u (≈1 line)\n",
    "    norm_u = np.sqrt(np.sum( np.dot(u,u)))\n",
    "    \n",
    "    # Compute the L2 norm of v (≈1 line)\n",
    "    norm_v = np.sqrt(np.sum( np.dot(v,v)))\n",
    "    \n",
    "    # Avoid division by 0\n",
    "    if np.isclose(norm_u * norm_v, 0, atol=1e-32):\n",
    "        return 0\n",
    "    \n",
    "    # Compute the cosine similarity defined by formula (1) (≈1 line)\n",
    "    cosine_similarity = dot / (norm_u * norm_v)\n",
    "    ### END CODE HERE ###\n",
    "    \n",
    "    return cosine_similarity"
   ]
  },
  {
   "cell_type": "code",
   "execution_count": 23,
   "id": "d96a5729-c023-4cbb-9359-4c7e0063ff3e",
   "metadata": {},
   "outputs": [
    {
     "data": {
      "image/png": "[encoded data removed]",
      "text/plain": [
       "<Figure size 800x600 with 1 Axes>"
      ]
     },
     "metadata": {},
     "output_type": "display_data"
    }
   ],
   "source": [
    "import numpy as np\n",
    "import matplotlib.pyplot as plt\n",
    "from sklearn.metrics.pairwise import cosine_similarity\n",
    "\n",
    "# Sample text vectors\n",
    "vector1 = np.array([1, 2])\n",
    "vector2 = np.array([4, 5])\n",
    "\n",
    "# Reshape the vectors to ensure they are 2D arrays\n",
    "vector1 = vector1.reshape(1, -1)\n",
    "vector2 = vector2.reshape(1, -1)\n",
    "\n",
    "# Compute cosine similarity\n",
    "similarity = cosine_similarity(vector1, vector2)[0][0]\n",
    "\n",
    "# Plot vectors\n",
    "plt.figure(figsize=(8, 6))\n",
    "plt.plot([0, vector1[0][0]], [0, vector1[0][1]], label='Vector 1', marker='o')\n",
    "plt.plot([0, vector2[0][0]], [0, vector2[0][1]], label='Vector 2', marker='o')\n",
    "plt.xlabel('X')\n",
    "plt.ylabel('Y')\n",
    "plt.title('Visualization of Text Vectors')\n",
    "plt.legend()\n",
    "\n",
    "# Annotate cosine similarity\n",
    "plt.text(1, 4, f'Cosine Similarity: {similarity:.2f}', fontsize=12)\n",
    "\n",
    "# Set aspect ratio to be equal\n",
    "plt.gca().set_aspect('equal', adjustable='box')\n",
    "\n",
    "# Show plot\n",
    "plt.grid()\n",
    "plt.show()\n"
   ]
  },
  {
   "cell_type": "code",
   "execution_count": 24,
   "id": "bb49c273-79fa-437f-8a44-ab94535e5173",
   "metadata": {},
   "outputs": [
    {
     "data": {
      "image/png": "[encoded data removed]",
      "text/plain": [
       "<Figure size 1500x1000 with 6 Axes>"
      ]
     },
     "metadata": {},
     "output_type": "display_data"
    }
   ],
   "source": [
    "import numpy as np\n",
    "import matplotlib.pyplot as plt\n",
    "from sklearn.feature_extraction.text import TfidfVectorizer\n",
    "from sklearn.decomposition import PCA\n",
    "from sklearn.metrics.pairwise import cosine_similarity\n",
    "\n",
    "# Sample corpus\n",
    "corpus = [\n",
    "    \"The quick brown fox jumps over the lazy dog\",\n",
    "    \"The cat sits on the window sill\",\n",
    "    \"The dog barks loudly in the night\",\n",
    "    \"Birds of a feather flock together\"\n",
    "]\n",
    "\n",
    "# Initialize TF-IDF vectorizer\n",
    "tfidf_vectorizer = TfidfVectorizer()\n",
    "\n",
    "# Fit and transform the corpus\n",
    "tfidf_matrix = tfidf_vectorizer.fit_transform(corpus)\n",
    "\n",
    "# Convert TF-IDF matrix to dense array for easier manipulation\n",
    "tfidf_matrix_dense = tfidf_matrix.toarray()\n",
    "\n",
    "# Compute cosine similarity\n",
    "cos_sim = cosine_similarity(tfidf_matrix_dense)\n",
    "\n",
    "# Perform PCA to reduce dimensions to 2 for visualization\n",
    "pca = PCA(n_components=2)\n",
    "tfidf_matrix_pca = pca.fit_transform(tfidf_matrix_dense)\n",
    "\n",
    "# Plot one graph per pair of text\n",
    "num_pairs = len(corpus) * (len(corpus) - 1) // 2\n",
    "plt.figure(figsize=(15, 10))\n",
    "subplot_index = 1\n",
    "for i in range(len(corpus)):\n",
    "    for j in range(i + 1, len(corpus)):\n",
    "        plt.subplot(2, num_pairs // 2, subplot_index)\n",
    "        plt.scatter(tfidf_matrix_pca[:, 0], tfidf_matrix_pca[:, 1])\n",
    "        plt.plot([tfidf_matrix_pca[i, 0], tfidf_matrix_pca[j, 0]], \n",
    "                 [tfidf_matrix_pca[i, 1], tfidf_matrix_pca[j, 1]], \n",
    "                 linestyle='-', color='red')\n",
    "        plt.xlabel('Principal Component 1')\n",
    "        plt.ylabel('Principal Component 2')\n",
    "        plt.title(f'Cosine Similarity: {cos_sim[i, j]:.2f}')\n",
    "        plt.xticks([])\n",
    "        plt.yticks([])\n",
    "        subplot_index += 1\n",
    "plt.tight_layout()\n",
    "plt.show()\n"
   ]
  },
  {
   "cell_type": "code",
   "execution_count": 25,
   "id": "3b6c6036-825a-4277-962a-31f3d8a979ca",
   "metadata": {},
   "outputs": [
    {
     "data": {
      "image/png": "[encoded data removed]",
      "text/plain": [
       "<Figure size 1500x1000 with 6 Axes>"
      ]
     },
     "metadata": {},
     "output_type": "display_data"
    }
   ],
   "source": [
    "import numpy as np\n",
    "import matplotlib.pyplot as plt\n",
    "from sklearn.feature_extraction.text import TfidfVectorizer\n",
    "from sklearn.decomposition import PCA\n",
    "from sklearn.metrics.pairwise import cosine_similarity\n",
    "\n",
    "# Sample corpus\n",
    "corpus = [\n",
    "    \"The quick brown fox jumps over the lazy dog\",\n",
    "    \"The cat sits on the window sill\",\n",
    "    \"The dog barks loudly in the night\",\n",
    "    \"Birds of a feather flock together\"\n",
    "]\n",
    "\n",
    "# Initialize TF-IDF vectorizer\n",
    "tfidf_vectorizer = TfidfVectorizer()\n",
    "\n",
    "# Fit and transform the corpus\n",
    "tfidf_matrix = tfidf_vectorizer.fit_transform(corpus)\n",
    "\n",
    "# Convert TF-IDF matrix to dense array for easier manipulation\n",
    "tfidf_matrix_dense = tfidf_matrix.toarray()\n",
    "\n",
    "# Compute cosine similarity\n",
    "cos_sim = cosine_similarity(tfidf_matrix_dense)\n",
    "\n",
    "# Perform PCA to reduce dimensions to 2 for visualization\n",
    "pca = PCA(n_components=2)\n",
    "tfidf_matrix_pca = pca.fit_transform(tfidf_matrix_dense)\n",
    "\n",
    "# Plot one graph per pair of text\n",
    "num_pairs = len(corpus) * (len(corpus) - 1) // 2\n",
    "plt.figure(figsize=(15, 10))\n",
    "subplot_index = 1\n",
    "for i in range(len(corpus)):\n",
    "    for j in range(i + 1, len(corpus)):\n",
    "        plt.subplot(2, num_pairs // 2, subplot_index)\n",
    "        plt.scatter(tfidf_matrix_pca[:, 0], tfidf_matrix_pca[:, 1])\n",
    "        plt.plot([0, tfidf_matrix_pca[i, 0]], \n",
    "                 [0, tfidf_matrix_pca[i, 1]], \n",
    "                 linestyle='-', color='blue', alpha=0.5)\n",
    "        plt.plot([0, tfidf_matrix_pca[j, 0]], \n",
    "                 [0, tfidf_matrix_pca[j, 1]], \n",
    "                 linestyle='-', color='red', alpha=0.5)\n",
    "        plt.xlabel('Principal Component 1')\n",
    "        plt.ylabel('Principal Component 2')\n",
    "        plt.title(f'Cosine Similarity: {cos_sim[i, j]:.2f}.\\nText: {corpus[i]}, \\n{corpus[j]}')\n",
    "        plt.xticks(np.arange(-0.5, 1.5, 0.5))\n",
    "        plt.yticks(np.arange(-0.5, 1.5, 0.5))\n",
    "        subplot_index += 1\n",
    "plt.tight_layout()\n",
    "plt.show()\n"
   ]
  },
  {
   "cell_type": "markdown",
   "id": "872607d3-09af-4722-b31e-2f34ddc808e4",
   "metadata": {},
   "source": [
    "\n",
    "## Word2Vec\n",
    "https://www.tensorflow.org/text/tutorials/word2vec"
   ]
  },
  {
   "cell_type": "code",
   "execution_count": 26,
   "id": "db4d9f05-7a47-483f-abda-bfef1a850fe0",
   "metadata": {},
   "outputs": [],
   "source": [
    "from gensim.models import Word2Vec\n",
    "from nltk.tokenize import word_tokenize\n",
    "import nltk\n",
    "\n",
    "# Sample corpus\n",
    "corpus = [\n",
    "    \"The quick brown fox jumps over the lazy dog\",\n",
    "    \"The cat sits on the window sill\",\n",
    "    \"The dog barks loudly in the night\",\n",
    "    \"Birds of a feather flock together\"\n",
    "]\n",
    "\n",
    "# Tokenize the corpus\n",
    "tokenized_corpus = [word_tokenize(doc.lower()) for doc in corpus]\n",
    "\n",
    "# Define Word2Vec model parameters\n",
    "vector_size = 100  # Dimensionality of word vectors\n",
    "window_size = 5  # Context window size\n",
    "min_count = 1  # Minimum frequency count of words\n",
    "\n",
    "# Initialize Word2Vec model\n",
    "model = Word2Vec(\n",
    "    sentences=tokenized_corpus,\n",
    "    vector_size=vector_size,\n",
    "    window=window_size,\n",
    "    min_count=min_count,\n",
    "    sg=1  # Use Skip-gram model\n",
    ")\n",
    "\n",
    "# Train Word2Vec model\n",
    "model.train(tokenized_corpus, total_examples=len(tokenized_corpus), epochs=10)\n",
    "\n",
    "# Save trained model\n",
    "model.save(\"word2vec_model.bin\")\n",
    "\n",
    "# To load the trained model:\n",
    "# loaded_model = Word2Vec.load(\"word2vec_model.bin\")\n"
   ]
  },
  {
   "cell_type": "code",
   "execution_count": 27,
   "id": "6e6390a2-fc4b-47ed-a2ea-6443e7753c3b",
   "metadata": {},
   "outputs": [
    {
     "data": {
      "text/plain": [
       "0.0"
      ]
     },
     "execution_count": 27,
     "metadata": {},
     "output_type": "execute_result"
    }
   ],
   "source": [
    "model.get_latest_training_loss()"
   ]
  },
  {
   "cell_type": "code",
   "execution_count": 28,
   "id": "62e49a33-41b4-4b84-bcf6-ce348c59ecb6",
   "metadata": {},
   "outputs": [
    {
     "data": {
      "text/plain": [
       "['the',\n",
       " 'dog',\n",
       " 'on',\n",
       " 'quick',\n",
       " 'brown',\n",
       " 'fox',\n",
       " 'jumps',\n",
       " 'over',\n",
       " 'lazy',\n",
       " 'cat',\n",
       " 'sits',\n",
       " 'together',\n",
       " 'flock',\n",
       " 'sill',\n",
       " 'barks',\n",
       " 'loudly',\n",
       " 'in',\n",
       " 'night',\n",
       " 'birds',\n",
       " 'of',\n",
       " 'a',\n",
       " 'feather',\n",
       " 'window']"
      ]
     },
     "execution_count": 28,
     "metadata": {},
     "output_type": "execute_result"
    }
   ],
   "source": [
    "vocab = model.wv.index_to_key\n",
    "vocab"
   ]
  },
  {
   "cell_type": "code",
   "execution_count": 29,
   "id": "55158a2f-4c74-4ac7-8412-a65a97df6424",
   "metadata": {},
   "outputs": [
    {
     "data": {
      "text/plain": [
       "{'the': 0,\n",
       " 'dog': 1,\n",
       " 'on': 2,\n",
       " 'quick': 3,\n",
       " 'brown': 4,\n",
       " 'fox': 5,\n",
       " 'jumps': 6,\n",
       " 'over': 7,\n",
       " 'lazy': 8,\n",
       " 'cat': 9,\n",
       " 'sits': 10,\n",
       " 'together': 11,\n",
       " 'flock': 12,\n",
       " 'sill': 13,\n",
       " 'barks': 14,\n",
       " 'loudly': 15,\n",
       " 'in': 16,\n",
       " 'night': 17,\n",
       " 'birds': 18,\n",
       " 'of': 19,\n",
       " 'a': 20,\n",
       " 'feather': 21,\n",
       " 'window': 22}"
      ]
     },
     "execution_count": 29,
     "metadata": {},
     "output_type": "execute_result"
    }
   ],
   "source": [
    "model.wv.key_to_index"
   ]
  },
  {
   "cell_type": "code",
   "execution_count": 30,
   "id": "d0b7878d-b1f0-40a9-b635-da38851f23be",
   "metadata": {},
   "outputs": [
    {
     "name": "stdout",
     "output_type": "stream",
     "text": [
      "Encoded text: [-5.7837130e-03  3.6055234e-03 -1.1196737e-03 -2.8097830e-03\n",
      " -2.8719611e-03 -7.0699293e-04  2.6095505e-03  3.8145164e-03\n",
      " -7.9738325e-05 -5.4969932e-03  6.8189099e-04 -1.4582998e-04\n",
      " -1.3211543e-03 -5.4508923e-03  1.3903377e-03 -6.0473527e-03\n",
      " -1.9872782e-03 -3.0967137e-03 -4.6811528e-03  8.0425956e-04\n",
      " -4.2174198e-03 -4.5109104e-05  4.3470562e-03  8.4203994e-03\n",
      " -6.4081289e-03 -2.5391351e-03  4.1090897e-03 -4.3012709e-03\n",
      " -6.9752458e-04  2.2456504e-03  2.9471819e-03 -7.5734332e-03\n",
      " -3.9005887e-03 -3.9829547e-03  1.9817776e-04  7.4805738e-03\n",
      "  5.9208330e-03  3.5381594e-03  5.3898769e-04  1.3247874e-03\n",
      "  6.3319178e-03 -2.9090638e-03 -4.2396868e-03  1.7294538e-04\n",
      "  9.4775180e-04 -3.3222700e-03 -1.2171406e-03  2.1610172e-03\n",
      " -1.4244010e-04 -1.4622757e-04  3.9652893e-03 -5.8537191e-03\n",
      "  1.7046125e-03  1.1576598e-03 -7.6312432e-03  2.9356885e-03\n",
      "  6.4427285e-03 -2.2514747e-03 -4.1565108e-03 -6.2255692e-03\n",
      "  4.1021248e-03  2.8511437e-03  8.0073569e-03 -6.4787325e-03\n",
      "  5.6215742e-04  1.6493114e-03 -4.0970658e-04  2.2664848e-03\n",
      " -2.8875321e-03 -8.5552642e-03  3.8926641e-03  2.0300383e-03\n",
      "  1.9701226e-03  5.2832584e-03  6.3883403e-04  5.2871415e-03\n",
      " -5.4455949e-03  4.7128513e-03 -2.5366058e-03  2.2575292e-03\n",
      "  1.0458532e-03 -1.5349012e-03  3.4360723e-03 -5.0181551e-03\n",
      " -2.5273790e-03 -2.6176926e-03  4.4689316e-04  5.3753294e-03\n",
      " -2.5152280e-03  1.0179973e-03  1.0599518e-03  4.9833823e-03\n",
      " -4.1055828e-03 -6.8912515e-05  9.0744589e-03  1.7112888e-03\n",
      "  1.3106380e-03 -6.6236723e-03 -1.5099205e-03 -5.3768512e-03]\n"
     ]
    }
   ],
   "source": [
    "# Sample text to encode\n",
    "text = \"This fox is a very quick fox\"\n",
    "\n",
    "# Tokenize the text\n",
    "tokens = word_tokenize(text.lower())\n",
    "\n",
    "# Encode the text\n",
    "word_vectors = [model.wv[word] for word in tokens if word in model.wv.key_to_index.keys()]\n",
    "\n",
    "# Average the word vectors to get the text encoding\n",
    "if word_vectors:\n",
    "    encoded_text = np.mean(word_vectors, axis=0)\n",
    "else:\n",
    "    encoded_text = np.zeros(model.vector_size)  # Default encoding for empty text\n",
    "\n",
    "# Print the encoded text\n",
    "print(\"Encoded text:\", encoded_text)"
   ]
  },
  {
   "cell_type": "code",
   "execution_count": 31,
   "id": "9788fb60-7dcc-4559-8de2-b34908c90147",
   "metadata": {},
   "outputs": [
    {
     "data": {
      "text/plain": [
       "array([-8.7303966e-03,  2.1338260e-03, -8.6989487e-04, -9.3153063e-03,\n",
       "       -9.4249453e-03, -1.4130132e-03,  4.4353926e-03,  3.7065155e-03,\n",
       "       -6.5010372e-03, -6.8745739e-03, -4.9988101e-03, -2.2927478e-03,\n",
       "       -7.2501772e-03, -9.6010659e-03, -2.7425932e-03, -8.3613321e-03,\n",
       "       -6.0380176e-03, -5.6690061e-03, -2.3454595e-03, -1.7098236e-03,\n",
       "       -8.9545315e-03, -7.3318754e-04,  8.1551401e-03,  7.6862290e-03,\n",
       "       -7.2053238e-03, -3.6646274e-03,  3.1163865e-03, -9.5714321e-03,\n",
       "        1.4766052e-03,  6.5234560e-03,  5.7482058e-03, -8.7657180e-03,\n",
       "       -4.5163231e-03, -8.1407391e-03,  4.5828525e-05,  9.2666261e-03,\n",
       "        5.9757768e-03,  5.0690323e-03,  5.0621354e-03, -3.2418757e-03,\n",
       "        9.5563205e-03, -7.3593128e-03, -7.2727809e-03, -2.2640207e-03,\n",
       "       -7.7806215e-04, -3.2131982e-03, -5.9398660e-04,  7.4867732e-03,\n",
       "       -6.9700117e-04, -1.6254039e-03,  2.7459452e-03, -8.3612744e-03,\n",
       "        7.8570945e-03,  8.5364711e-03, -9.5832711e-03,  2.4480862e-03,\n",
       "        9.9091465e-03, -7.6650358e-03, -6.9658090e-03, -7.7343341e-03,\n",
       "        8.3918860e-03, -6.8286300e-04,  9.1437800e-03, -8.1588542e-03,\n",
       "        3.7442038e-03,  2.6371577e-03,  7.4225024e-04,  2.3290166e-03,\n",
       "       -7.4681873e-03, -9.3562761e-03,  2.3514798e-03,  6.1465777e-03,\n",
       "        7.9895919e-03,  5.7381527e-03, -7.7733892e-04,  8.3037699e-03,\n",
       "       -9.3365861e-03,  3.4045114e-03,  2.6756845e-04,  3.8561511e-03,\n",
       "        7.3809219e-03, -6.7254063e-03,  5.5867429e-03, -9.5241209e-03,\n",
       "       -8.0368709e-04, -8.6878464e-03, -5.0973990e-03,  9.2846500e-03,\n",
       "       -1.8567530e-03,  2.9145598e-03,  9.0723084e-03,  8.9388005e-03,\n",
       "       -8.2072513e-03, -3.0144947e-03,  9.8873582e-03,  5.1076198e-03,\n",
       "       -1.5868897e-03, -8.6902045e-03,  2.9604919e-03, -6.6736788e-03],\n",
       "      dtype=float32)"
      ]
     },
     "execution_count": 31,
     "metadata": {},
     "output_type": "execute_result"
    }
   ],
   "source": [
    "model.wv[\"fox\"]"
   ]
  },
  {
   "cell_type": "code",
   "execution_count": 32,
   "id": "8c25601a-0e03-4e0a-8b25-933005d7bd13",
   "metadata": {},
   "outputs": [
    {
     "data": {
      "text/plain": [
       "[array([-8.7303966e-03,  2.1338260e-03, -8.6989487e-04, -9.3153063e-03,\n",
       "        -9.4249453e-03, -1.4130132e-03,  4.4353926e-03,  3.7065155e-03,\n",
       "        -6.5010372e-03, -6.8745739e-03, -4.9988101e-03, -2.2927478e-03,\n",
       "        -7.2501772e-03, -9.6010659e-03, -2.7425932e-03, -8.3613321e-03,\n",
       "        -6.0380176e-03, -5.6690061e-03, -2.3454595e-03, -1.7098236e-03,\n",
       "        -8.9545315e-03, -7.3318754e-04,  8.1551401e-03,  7.6862290e-03,\n",
       "        -7.2053238e-03, -3.6646274e-03,  3.1163865e-03, -9.5714321e-03,\n",
       "         1.4766052e-03,  6.5234560e-03,  5.7482058e-03, -8.7657180e-03,\n",
       "        -4.5163231e-03, -8.1407391e-03,  4.5828525e-05,  9.2666261e-03,\n",
       "         5.9757768e-03,  5.0690323e-03,  5.0621354e-03, -3.2418757e-03,\n",
       "         9.5563205e-03, -7.3593128e-03, -7.2727809e-03, -2.2640207e-03,\n",
       "        -7.7806215e-04, -3.2131982e-03, -5.9398660e-04,  7.4867732e-03,\n",
       "        -6.9700117e-04, -1.6254039e-03,  2.7459452e-03, -8.3612744e-03,\n",
       "         7.8570945e-03,  8.5364711e-03, -9.5832711e-03,  2.4480862e-03,\n",
       "         9.9091465e-03, -7.6650358e-03, -6.9658090e-03, -7.7343341e-03,\n",
       "         8.3918860e-03, -6.8286300e-04,  9.1437800e-03, -8.1588542e-03,\n",
       "         3.7442038e-03,  2.6371577e-03,  7.4225024e-04,  2.3290166e-03,\n",
       "        -7.4681873e-03, -9.3562761e-03,  2.3514798e-03,  6.1465777e-03,\n",
       "         7.9895919e-03,  5.7381527e-03, -7.7733892e-04,  8.3037699e-03,\n",
       "        -9.3365861e-03,  3.4045114e-03,  2.6756845e-04,  3.8561511e-03,\n",
       "         7.3809219e-03, -6.7254063e-03,  5.5867429e-03, -9.5241209e-03,\n",
       "        -8.0368709e-04, -8.6878464e-03, -5.0973990e-03,  9.2846500e-03,\n",
       "        -1.8567530e-03,  2.9145598e-03,  9.0723084e-03,  8.9388005e-03,\n",
       "        -8.2072513e-03, -3.0144947e-03,  9.8873582e-03,  5.1076198e-03,\n",
       "        -1.5868897e-03, -8.6902045e-03,  2.9604919e-03, -6.6736788e-03],\n",
       "       dtype=float32),\n",
       " array([ 0.00257018,  0.00084653, -0.00253944,  0.00935767,  0.00275751,\n",
       "         0.00409565, -0.00118294,  0.0009045 ,  0.00662431, -0.0007265 ,\n",
       "         0.00334151, -0.00067202,  0.0052484 ,  0.00363993,  0.00258253,\n",
       "        -0.00530989, -0.0047081 ,  0.00430802, -0.00590717, -0.00018021,\n",
       "        -0.00063352,  0.00349324, -0.00844227,  0.00881723, -0.00144874,\n",
       "        -0.00533093,  0.00405447, -0.00193549, -0.00776548, -0.0044968 ,\n",
       "        -0.00038773, -0.00894647,  0.00057056,  0.00244179, -0.00322527,\n",
       "         0.0025704 ,  0.0024808 ,  0.00998822,  0.00143051,  0.00202054,\n",
       "         0.00277956, -0.00207787, -0.00869862,  0.00802317, -0.0019747 ,\n",
       "        -0.00969231, -0.006552  , -0.00394586,  0.00395435,  0.00503858,\n",
       "         0.00608601, -0.00677026,  0.00068884, -0.00277528, -0.0052092 ,\n",
       "         0.00698127,  0.00395197, -0.00310651, -0.00827691, -0.00514079,\n",
       "        -0.00064953,  0.00781176,  0.00604419, -0.00845166, -0.00956354,\n",
       "         0.00713384, -0.00232757, -0.00369231,  0.00574983, -0.00584431,\n",
       "         0.00509395, -0.00024243, -0.00687516, -0.00033164,  0.00635899,\n",
       "         0.00929394,  0.00222091,  0.00505009, -0.00497452, -0.00079755,\n",
       "        -0.00531764,  0.00118896, -0.00179321, -0.00363263, -0.00701438,\n",
       "         0.00965443,  0.00297583, -0.00228122, -0.00418409,  0.00771379,\n",
       "        -0.00648185,  0.00312154,  0.00078736,  0.00832288,  0.00683618,\n",
       "        -0.00290865,  0.0025351 , -0.00166607, -0.00945466, -0.00261346],\n",
       "       dtype=float32),\n",
       " array([-8.2442360e-03,  9.3079126e-03, -1.9946479e-04, -1.9661877e-03,\n",
       "         4.6045375e-03, -4.0975935e-03,  2.7503525e-03,  6.9405301e-03,\n",
       "         6.0588135e-03, -7.5123231e-03,  9.3836766e-03,  4.6741967e-03,\n",
       "         3.9673396e-03, -6.2413723e-03,  8.4640076e-03, -2.1568530e-03,\n",
       "         8.8350223e-03, -5.3568641e-03, -8.1265215e-03,  6.8168915e-03,\n",
       "         1.6729007e-03, -2.2073048e-03,  9.5202103e-03,  9.4919056e-03,\n",
       "        -9.7731231e-03,  2.5036419e-03,  6.1491164e-03,  3.8732709e-03,\n",
       "         2.0221742e-03,  4.3248836e-04,  6.8004237e-04, -3.8158237e-03,\n",
       "        -7.1402723e-03, -2.0921347e-03,  3.9263270e-03,  8.8186422e-03,\n",
       "         9.2509799e-03, -5.9736427e-03, -9.3988255e-03,  9.7623635e-03,\n",
       "         3.4354709e-03,  5.1602428e-03,  6.2854285e-03, -2.8033503e-03,\n",
       "         7.3218290e-03,  2.8296295e-03,  2.8714153e-03, -2.3836172e-03,\n",
       "        -3.1301053e-03, -2.3726835e-03,  4.2832550e-03,  7.7933619e-05,\n",
       "        -9.5845768e-03, -9.6670212e-03, -6.1492315e-03, -1.3469196e-04,\n",
       "         2.0006532e-03,  9.4306795e-03,  5.5824826e-03, -4.2928220e-03,\n",
       "         2.7426111e-04,  4.9585369e-03,  7.6976810e-03, -1.1455661e-03,\n",
       "         4.3237577e-03, -5.8109052e-03, -7.9576083e-04,  8.1002153e-03,\n",
       "        -2.3635861e-03, -9.6642012e-03,  5.7737418e-03, -3.9305775e-03,\n",
       "        -1.2235304e-03,  9.9883657e-03, -2.2489778e-03, -4.7529112e-03,\n",
       "        -5.3301193e-03,  6.9922889e-03, -5.7070367e-03,  2.1153658e-03,\n",
       "        -5.2607954e-03,  6.1222450e-03,  4.3640165e-03,  2.6082553e-03,\n",
       "        -1.4877630e-03, -2.7495094e-03,  9.0065431e-03,  5.2132430e-03,\n",
       "        -2.1633164e-03, -9.4709182e-03, -7.4229548e-03, -1.0656143e-03,\n",
       "        -7.9518557e-04, -2.5695413e-03,  9.6869441e-03, -4.6143739e-04,\n",
       "         5.8812317e-03, -7.4482085e-03, -2.5060037e-03, -5.5465866e-03],\n",
       "       dtype=float32),\n",
       " array([-8.7303966e-03,  2.1338260e-03, -8.6989487e-04, -9.3153063e-03,\n",
       "        -9.4249453e-03, -1.4130132e-03,  4.4353926e-03,  3.7065155e-03,\n",
       "        -6.5010372e-03, -6.8745739e-03, -4.9988101e-03, -2.2927478e-03,\n",
       "        -7.2501772e-03, -9.6010659e-03, -2.7425932e-03, -8.3613321e-03,\n",
       "        -6.0380176e-03, -5.6690061e-03, -2.3454595e-03, -1.7098236e-03,\n",
       "        -8.9545315e-03, -7.3318754e-04,  8.1551401e-03,  7.6862290e-03,\n",
       "        -7.2053238e-03, -3.6646274e-03,  3.1163865e-03, -9.5714321e-03,\n",
       "         1.4766052e-03,  6.5234560e-03,  5.7482058e-03, -8.7657180e-03,\n",
       "        -4.5163231e-03, -8.1407391e-03,  4.5828525e-05,  9.2666261e-03,\n",
       "         5.9757768e-03,  5.0690323e-03,  5.0621354e-03, -3.2418757e-03,\n",
       "         9.5563205e-03, -7.3593128e-03, -7.2727809e-03, -2.2640207e-03,\n",
       "        -7.7806215e-04, -3.2131982e-03, -5.9398660e-04,  7.4867732e-03,\n",
       "        -6.9700117e-04, -1.6254039e-03,  2.7459452e-03, -8.3612744e-03,\n",
       "         7.8570945e-03,  8.5364711e-03, -9.5832711e-03,  2.4480862e-03,\n",
       "         9.9091465e-03, -7.6650358e-03, -6.9658090e-03, -7.7343341e-03,\n",
       "         8.3918860e-03, -6.8286300e-04,  9.1437800e-03, -8.1588542e-03,\n",
       "         3.7442038e-03,  2.6371577e-03,  7.4225024e-04,  2.3290166e-03,\n",
       "        -7.4681873e-03, -9.3562761e-03,  2.3514798e-03,  6.1465777e-03,\n",
       "         7.9895919e-03,  5.7381527e-03, -7.7733892e-04,  8.3037699e-03,\n",
       "        -9.3365861e-03,  3.4045114e-03,  2.6756845e-04,  3.8561511e-03,\n",
       "         7.3809219e-03, -6.7254063e-03,  5.5867429e-03, -9.5241209e-03,\n",
       "        -8.0368709e-04, -8.6878464e-03, -5.0973990e-03,  9.2846500e-03,\n",
       "        -1.8567530e-03,  2.9145598e-03,  9.0723084e-03,  8.9388005e-03,\n",
       "        -8.2072513e-03, -3.0144947e-03,  9.8873582e-03,  5.1076198e-03,\n",
       "        -1.5868897e-03, -8.6902045e-03,  2.9604919e-03, -6.6736788e-03],\n",
       "       dtype=float32)]"
      ]
     },
     "execution_count": 32,
     "metadata": {},
     "output_type": "execute_result"
    }
   ],
   "source": [
    "word_vectors"
   ]
  },
  {
   "cell_type": "code",
   "execution_count": 33,
   "id": "22ec35aa-f805-4964-b7f6-5004e9bf33b5",
   "metadata": {},
   "outputs": [
    {
     "name": "stdout",
     "output_type": "stream",
     "text": [
      "[[-3.02164210e-03  1.89832866e-03  2.15289090e-03  3.20686353e-03\n",
      "  -1.11083256e-03 -1.75773562e-03  4.75414470e-03  3.17298039e-03\n",
      "  -3.68613470e-03 -2.75018392e-03  2.37560179e-03 -1.01659715e-03\n",
      "  -1.42359012e-03  1.09140936e-03 -1.29408974e-04 -9.63047380e-04\n",
      "   2.22297013e-03  1.00127282e-03 -4.13676212e-03 -4.52535972e-03\n",
      "   1.43021275e-03  8.96953687e-04  7.52904918e-03  4.00429068e-04\n",
      "  -3.63082770e-04  7.91001366e-04 -5.60646877e-04  8.58399086e-04\n",
      "  -3.03859985e-03  5.15196240e-04  1.63753203e-03 -1.13723904e-03\n",
      "   1.30756141e-03 -3.78204556e-03  2.37615241e-04  1.76724629e-03\n",
      "   2.35172780e-03 -6.21972256e-04 -5.57403779e-04 -8.41784815e-04\n",
      "   1.96546223e-03 -1.19838538e-03 -3.37014510e-03 -1.10164937e-03\n",
      "   2.30246922e-03  2.42356415e-04 -1.98529824e-03  1.56971696e-03\n",
      "   1.45108299e-03  3.83097446e-04 -7.01911747e-04 -1.61443965e-03\n",
      "   6.89904846e-05 -1.11698417e-03 -1.14473468e-03 -8.28506541e-04\n",
      "   1.24320318e-03 -2.05909787e-03 -1.18120201e-03 -5.84182417e-05\n",
      "   3.17209284e-04 -1.12013018e-03  2.05514533e-03 -2.23886129e-03\n",
      "  -5.95707970e-04  2.01425981e-03 -4.39603493e-04  3.99786793e-03\n",
      "  -3.38460552e-03 -6.87575666e-04  1.58764728e-04  2.59259832e-03\n",
      "   1.59104704e-03  1.93803175e-03  3.50761809e-04 -7.12506531e-04\n",
      "  -3.45587381e-04  9.22397419e-04 -8.46466981e-04 -3.14880605e-03\n",
      "  -2.08810228e-03 -1.44078233e-03  2.21371348e-03  4.73005173e-04\n",
      "  -1.51153980e-03 -2.75979587e-03  4.43388522e-03 -6.57696801e-04\n",
      "  -1.90130679e-03 -2.66352563e-05  3.96517426e-04 -5.00267051e-05\n",
      "  -3.74186784e-04 -1.44832931e-03  5.12041198e-03  1.99616933e-03\n",
      "   7.70365295e-04 -3.42723029e-03  1.93765591e-04  4.41728160e-04]\n",
      " [-1.25790387e-03  1.30493846e-03 -2.95026432e-04  3.26136919e-03\n",
      "  -3.59644368e-03 -4.40611131e-03 -1.15553674e-03  3.57832597e-03\n",
      "  -4.71264636e-03 -3.21959867e-03  1.34697219e-03 -1.91814022e-03\n",
      "   5.82945533e-04  1.25710724e-03  2.33888091e-03  2.46531377e-03\n",
      "   2.68111704e-03  8.72130622e-04 -9.89209162e-04 -6.21373951e-03\n",
      "   2.09974940e-03  2.22021900e-03  1.53773080e-03  4.15918417e-04\n",
      "   5.27186925e-03  8.06535303e-04 -2.81823124e-03  3.12373741e-03\n",
      "  -1.27308734e-03  4.64354125e-05 -5.40577457e-04  9.42746759e-04\n",
      "   3.70478374e-03 -1.51043409e-03 -7.51704851e-04  1.21054461e-03\n",
      "   2.83122854e-03 -2.06830111e-04 -1.57232897e-03  8.97922364e-05\n",
      "  -2.57215509e-03  1.28847733e-03 -4.50854003e-03  8.65535258e-05\n",
      "  -1.38509471e-03 -1.62572239e-03 -3.23999813e-03  2.91403010e-03\n",
      "   7.33601744e-04  2.43668491e-03 -1.18694420e-03  1.33274437e-03\n",
      "  -5.48717473e-03  1.94704940e-03  2.28055520e-03 -1.63985242e-03\n",
      "  -2.56588013e-04 -4.33595898e-03 -4.82595322e-04  3.50533100e-03\n",
      "  -2.13604397e-03  9.15621815e-04  2.76091159e-03  2.77769956e-04\n",
      "  -1.50427851e-03  2.34300154e-03 -4.76767571e-04  3.39786202e-04\n",
      "  -8.50062817e-04  1.00828672e-03  1.79805967e-03  4.86439560e-03\n",
      "  -2.30272417e-03 -2.78454297e-03  1.49840512e-03  3.91756510e-03\n",
      "   3.20220413e-03 -7.64583703e-04  3.28168418e-04 -9.86535917e-04\n",
      "   4.77531285e-04  1.46516264e-04  3.68975475e-03  3.99747863e-03\n",
      "  -2.70435750e-03  8.09347664e-04  1.21709204e-03 -4.75045148e-04\n",
      "   3.11224093e-03  2.48610834e-03  1.08452863e-03  3.11602978e-03\n",
      "   1.78585923e-03  1.63850666e-03  3.91269242e-03 -7.14940485e-04\n",
      "  -5.08464465e-04 -2.32323841e-03  2.40800530e-03  2.82448414e-03]\n",
      " [-8.83319124e-04  2.14216509e-03  3.77406389e-03  2.21269554e-03\n",
      "   9.59239143e-04 -4.72053234e-03  2.82025221e-03  6.08935254e-03\n",
      "  -1.47131830e-03 -2.75055575e-03  1.46303349e-03 -6.39841193e-03\n",
      "  -3.55192204e-03  3.38075659e-03 -2.77185743e-03  7.32318382e-04\n",
      "   1.04547979e-03  1.54564972e-03 -1.08998758e-03 -5.51049644e-03\n",
      "   5.43443626e-03  2.74942769e-03  1.84986938e-03 -2.13579135e-03\n",
      "   4.22888203e-04  8.66154791e-04 -5.31226455e-04  6.27028348e-04\n",
      "  -1.80072163e-03 -2.24254327e-03 -2.59693130e-03 -2.28907191e-03\n",
      "   2.16271519e-03 -4.11287416e-03 -5.87777642e-04  1.72415213e-03\n",
      "   5.14693977e-03 -1.75251364e-04 -3.82930448e-04  5.02011913e-04\n",
      "   1.88186101e-03 -2.75947573e-03 -3.78197548e-03  2.02265754e-03\n",
      "   2.03687977e-03  2.81022349e-03 -4.84432001e-03 -4.65934776e-04\n",
      "   3.38528655e-03  2.88507924e-03 -1.11177179e-03  5.18497254e-04\n",
      "   2.22153636e-03  6.77274831e-04  3.11409449e-03  7.90356789e-05\n",
      "   5.05797612e-03 -1.66580605e-03 -8.26345698e-04  5.97246131e-03\n",
      "  -2.60103238e-03 -1.09425758e-03 -2.95448094e-03 -1.40361697e-03\n",
      "   2.70562549e-03  2.19023740e-03 -9.65109968e-04  3.17356503e-03\n",
      "   2.85269273e-03  1.65169651e-03  4.21119243e-04  4.35451839e-05\n",
      "   2.75017438e-03 -1.38732349e-03  3.09688551e-03 -1.00352406e-03\n",
      "   4.74878401e-03 -7.30508124e-04  2.35891202e-03 -2.87174550e-03\n",
      "  -4.50239982e-03  1.37823331e-03  1.67465687e-03 -9.51825758e-04\n",
      "  -1.61503756e-03  2.14119093e-03  2.22698203e-03 -3.51005071e-03\n",
      "   9.42099025e-04  1.06414617e-03  3.47678876e-03  1.80944835e-03\n",
      "   3.41936247e-03 -9.16598015e-04  2.01425632e-03  4.00257390e-03\n",
      "  -2.49389303e-03 -4.48115665e-04 -1.57511234e-03  4.40346915e-03]\n",
      " [ 4.51264950e-03  1.00307271e-03  2.25340272e-03  3.79554532e-03\n",
      "  -3.09819385e-04  1.78585539e-03  3.77569115e-04  3.38770985e-03\n",
      "   1.19034864e-03 -2.49172747e-03  4.63351578e-04 -1.73898414e-04\n",
      "   2.49814731e-03  1.39154994e-03  9.92217800e-04 -4.00063163e-03\n",
      "   1.69005990e-03 -2.79466301e-04 -6.18758844e-04 -8.92549986e-04\n",
      "  -1.36287080e-03 -2.06076005e-03 -3.48182931e-03  1.65805381e-04\n",
      "  -1.83594658e-03  4.48665116e-04 -4.59266501e-03  2.46645184e-03\n",
      "   2.30505876e-03  2.07365584e-03  8.83587272e-05 -4.33508726e-03\n",
      "   1.28556241e-03 -9.07812733e-04 -2.40328372e-03 -1.70190213e-03\n",
      "  -1.85355952e-03 -1.04987330e-03 -3.41279112e-04 -3.85052618e-03\n",
      "  -1.96839287e-03  1.51356496e-03  9.20114573e-04  4.52956418e-03\n",
      "  -4.30383114e-03 -4.14616987e-03  6.76927622e-04 -3.68834939e-03\n",
      "  -2.24446107e-04  2.92433985e-03  1.24519947e-03 -4.22458444e-03\n",
      "  -2.38472596e-03 -1.28927617e-03 -1.50109688e-03  1.92891748e-03\n",
      "   3.74939293e-04  1.45503029e-03  1.58636004e-03 -1.18005637e-03\n",
      "  -1.90457923e-03  1.86219672e-03  2.79047503e-03  6.23792119e-04\n",
      "  -4.34371037e-03  5.57158748e-03  3.84424464e-03  2.23072781e-03\n",
      "  -4.08412283e-03  3.26483045e-04  2.46435613e-03  3.37466854e-03\n",
      "   1.69648649e-03 -1.35656691e-03  2.41238018e-03  1.42142142e-03\n",
      "   8.02401628e-04  3.56986676e-03 -3.71357822e-03 -1.24163984e-03\n",
      "  -5.94096398e-03  1.67202542e-03 -5.01940667e-04  2.30527855e-03\n",
      "   7.69289152e-04  1.05890573e-03  1.41312613e-03 -3.13478708e-03\n",
      "  -1.40126247e-03  8.32089223e-04  2.84353201e-03 -2.17519444e-03\n",
      "  -1.02545810e-03  3.28534748e-03  8.11645237e-04 -2.64900737e-03\n",
      "  -1.04856945e-03  2.50342092e-03 -6.79588702e-04  2.69745849e-03]]\n"
     ]
    }
   ],
   "source": [
    "# Sample corpus\n",
    "corpus = [\n",
    "    \"The quick brown fox jumps over the lazy dog\",\n",
    "    \"The cat sits on the window sill\",\n",
    "    \"The dog barks loudly in the night\",\n",
    "    \"Birds of a feather flock together\"\n",
    "]\n",
    "\n",
    "embeddings = np.zeros((len(corpus), model.vector_size))\n",
    "\n",
    "for i in range(len(corpus)):\n",
    "    # Tokenize the text\n",
    "    tokens = word_tokenize(corpus[i].lower())\n",
    "    \n",
    "    # Encode the text\n",
    "    word_vectors = [model.wv[word] for word in tokens if word in model.wv.key_to_index.keys()]\n",
    "    \n",
    "    # Average the word vectors to get the text encoding\n",
    "    if word_vectors:\n",
    "        encoded_text = np.mean(word_vectors, axis=0)\n",
    "    else:\n",
    "        encoded_text = np.zeros(model.vector_size)  # Default encoding for empty text\n",
    "    embeddings[i] = encoded_text\n",
    "\n",
    "print(embeddings)\n"
   ]
  },
  {
   "cell_type": "code",
   "execution_count": 34,
   "id": "96fbee82-d05e-4648-bcd7-99f76ee2e7f3",
   "metadata": {},
   "outputs": [
    {
     "data": {
      "image/png": "[encoded data removed]",
      "text/plain": [
       "<Figure size 1500x1000 with 6 Axes>"
      ]
     },
     "metadata": {},
     "output_type": "display_data"
    }
   ],
   "source": [
    "# Compute cosine similarity\n",
    "cos_sim = cosine_similarity(embeddings)\n",
    "\n",
    "# Perform PCA to reduce dimensions to 2 for visualization\n",
    "pca = PCA(n_components=2)\n",
    "matrix_pca = pca.fit_transform(cos_sim)\n",
    "\n",
    "# Plot one graph per pair of text\n",
    "num_pairs = len(corpus) * (len(corpus) - 1) // 2\n",
    "plt.figure(figsize=(15, 10))\n",
    "subplot_index = 1\n",
    "for i in range(len(corpus)):\n",
    "    for j in range(i + 1, len(corpus)):\n",
    "        plt.subplot(2, num_pairs // 2, subplot_index)\n",
    "        plt.scatter(matrix_pca[:, 0], matrix_pca[:, 1])\n",
    "        plt.plot([0, matrix_pca[i, 0]], \n",
    "                 [0, matrix_pca[i, 1]], \n",
    "                 linestyle='-', color='blue', alpha=0.5)\n",
    "        plt.plot([0, matrix_pca[j, 0]], \n",
    "                 [0, matrix_pca[j, 1]], \n",
    "                 linestyle='-', color='red', alpha=0.5)\n",
    "        plt.xlabel('Principal Component 1')\n",
    "        plt.ylabel('Principal Component 2')\n",
    "        plt.title(f'Cosine Similarity: {cos_sim[i, j]:.2f}.\\nText: {corpus[i]}, \\n{corpus[j]}')\n",
    "        plt.xticks(np.arange(-0.5, 1.5, 0.5))\n",
    "        plt.yticks(np.arange(-0.5, 1.5, 0.5))\n",
    "        subplot_index += 1\n",
    "plt.tight_layout()\n",
    "plt.show()"
   ]
  },
  {
   "cell_type": "code",
   "execution_count": 35,
   "id": "663f2a9c-15e2-429a-99ab-7ca0966b8c82",
   "metadata": {},
   "outputs": [
    {
     "data": {
      "text/plain": [
       "array([[1.        , 0.42434464, 0.48983837, 0.07459558],\n",
       "       [0.42434464, 1.        , 0.43581208, 0.14574678],\n",
       "       [0.48983837, 0.43581208, 1.        , 0.01930317],\n",
       "       [0.07459558, 0.14574678, 0.01930317, 1.        ]])"
      ]
     },
     "execution_count": 35,
     "metadata": {},
     "output_type": "execute_result"
    }
   ],
   "source": [
    "cos_sim"
   ]
  },
  {
   "cell_type": "code",
   "execution_count": 36,
   "id": "f4d44063-cd06-4a6a-a586-adf37d907b81",
   "metadata": {},
   "outputs": [
    {
     "name": "stdout",
     "output_type": "stream",
     "text": [
      "Epoch 1/100\n",
      "1/1 [==============================] - 0s 202ms/step - loss: 2.2006\n",
      "Epoch 2/100\n",
      "1/1 [==============================] - 0s 2ms/step - loss: 2.1994\n",
      "Epoch 3/100\n",
      "1/1 [==============================] - 0s 3ms/step - loss: 2.1982\n",
      "Epoch 4/100\n",
      "1/1 [==============================] - 0s 2ms/step - loss: 2.1969\n",
      "Epoch 5/100\n",
      "1/1 [==============================] - 0s 3ms/step - loss: 2.1957\n",
      "Epoch 6/100\n",
      "1/1 [==============================] - 0s 2ms/step - loss: 2.1945\n",
      "Epoch 7/100\n",
      "1/1 [==============================] - 0s 2ms/step - loss: 2.1933\n",
      "Epoch 8/100\n",
      "1/1 [==============================] - 0s 4ms/step - loss: 2.1920\n",
      "Epoch 9/100\n",
      "1/1 [==============================] - 0s 2ms/step - loss: 2.1908\n",
      "Epoch 10/100\n",
      "1/1 [==============================] - 0s 2ms/step - loss: 2.1896\n",
      "Epoch 11/100\n",
      "1/1 [==============================] - 0s 2ms/step - loss: 2.1884\n",
      "Epoch 12/100\n",
      "1/1 [==============================] - 0s 2ms/step - loss: 2.1872\n",
      "Epoch 13/100\n",
      "1/1 [==============================] - 0s 2ms/step - loss: 2.1860\n",
      "Epoch 14/100\n",
      "1/1 [==============================] - 0s 2ms/step - loss: 2.1848\n",
      "Epoch 15/100\n",
      "1/1 [==============================] - 0s 2ms/step - loss: 2.1836\n",
      "Epoch 16/100\n",
      "1/1 [==============================] - 0s 2ms/step - loss: 2.1824\n",
      "Epoch 17/100\n",
      "1/1 [==============================] - 0s 2ms/step - loss: 2.1811\n",
      "Epoch 18/100\n",
      "1/1 [==============================] - 0s 2ms/step - loss: 2.1799\n",
      "Epoch 19/100\n",
      "1/1 [==============================] - 0s 2ms/step - loss: 2.1787\n",
      "Epoch 20/100\n",
      "1/1 [==============================] - 0s 4ms/step - loss: 2.1775\n",
      "Epoch 21/100\n",
      "1/1 [==============================] - 0s 2ms/step - loss: 2.1763\n",
      "Epoch 22/100\n",
      "1/1 [==============================] - 0s 3ms/step - loss: 2.1751\n",
      "Epoch 23/100\n",
      "1/1 [==============================] - 0s 2ms/step - loss: 2.1739\n",
      "Epoch 24/100\n",
      "1/1 [==============================] - 0s 2ms/step - loss: 2.1726\n",
      "Epoch 25/100\n",
      "1/1 [==============================] - 0s 2ms/step - loss: 2.1714\n",
      "Epoch 26/100\n",
      "1/1 [==============================] - 0s 2ms/step - loss: 2.1702\n",
      "Epoch 27/100\n",
      "1/1 [==============================] - 0s 3ms/step - loss: 2.1689\n",
      "Epoch 28/100\n",
      "1/1 [==============================] - 0s 2ms/step - loss: 2.1677\n",
      "Epoch 29/100\n",
      "1/1 [==============================] - 0s 5ms/step - loss: 2.1665\n",
      "Epoch 30/100\n",
      "1/1 [==============================] - 0s 3ms/step - loss: 2.1652\n",
      "Epoch 31/100\n",
      "1/1 [==============================] - 0s 2ms/step - loss: 2.1640\n",
      "Epoch 32/100\n",
      "1/1 [==============================] - 0s 2ms/step - loss: 2.1627\n",
      "Epoch 33/100\n",
      "1/1 [==============================] - 0s 3ms/step - loss: 2.1615\n",
      "Epoch 34/100\n",
      "1/1 [==============================] - 0s 2ms/step - loss: 2.1602\n",
      "Epoch 35/100\n",
      "1/1 [==============================] - 0s 2ms/step - loss: 2.1589\n",
      "Epoch 36/100\n",
      "1/1 [==============================] - 0s 2ms/step - loss: 2.1577\n",
      "Epoch 37/100\n",
      "1/1 [==============================] - 0s 2ms/step - loss: 2.1564\n",
      "Epoch 38/100\n",
      "1/1 [==============================] - 0s 2ms/step - loss: 2.1551\n",
      "Epoch 39/100\n",
      "1/1 [==============================] - 0s 2ms/step - loss: 2.1538\n",
      "Epoch 40/100\n",
      "1/1 [==============================] - 0s 5ms/step - loss: 2.1525\n",
      "Epoch 41/100\n",
      "1/1 [==============================] - 0s 2ms/step - loss: 2.1512\n",
      "Epoch 42/100\n",
      "1/1 [==============================] - 0s 2ms/step - loss: 2.1499\n",
      "Epoch 43/100\n",
      "1/1 [==============================] - 0s 2ms/step - loss: 2.1485\n",
      "Epoch 44/100\n",
      "1/1 [==============================] - 0s 2ms/step - loss: 2.1472\n",
      "Epoch 45/100\n",
      "1/1 [==============================] - 0s 2ms/step - loss: 2.1459\n",
      "Epoch 46/100\n",
      "1/1 [==============================] - 0s 3ms/step - loss: 2.1445\n",
      "Epoch 47/100\n",
      "1/1 [==============================] - 0s 2ms/step - loss: 2.1431\n",
      "Epoch 48/100\n",
      "1/1 [==============================] - 0s 2ms/step - loss: 2.1418\n",
      "Epoch 49/100\n",
      "1/1 [==============================] - 0s 2ms/step - loss: 2.1404\n",
      "Epoch 50/100\n",
      "1/1 [==============================] - 0s 2ms/step - loss: 2.1390\n",
      "Epoch 51/100\n",
      "1/1 [==============================] - 0s 2ms/step - loss: 2.1376\n",
      "Epoch 52/100\n",
      "1/1 [==============================] - 0s 2ms/step - loss: 2.1362\n",
      "Epoch 53/100\n",
      "1/1 [==============================] - 0s 2ms/step - loss: 2.1348\n",
      "Epoch 54/100\n",
      "1/1 [==============================] - 0s 2ms/step - loss: 2.1334\n",
      "Epoch 55/100\n",
      "1/1 [==============================] - 0s 2ms/step - loss: 2.1319\n",
      "Epoch 56/100\n",
      "1/1 [==============================] - 0s 2ms/step - loss: 2.1305\n",
      "Epoch 57/100\n",
      "1/1 [==============================] - 0s 2ms/step - loss: 2.1290\n",
      "Epoch 58/100\n",
      "1/1 [==============================] - 0s 3ms/step - loss: 2.1276\n",
      "Epoch 59/100\n",
      "1/1 [==============================] - 0s 2ms/step - loss: 2.1261\n",
      "Epoch 60/100\n",
      "1/1 [==============================] - 0s 2ms/step - loss: 2.1246\n",
      "Epoch 61/100\n",
      "1/1 [==============================] - 0s 2ms/step - loss: 2.1231\n",
      "Epoch 62/100\n",
      "1/1 [==============================] - 0s 2ms/step - loss: 2.1216\n",
      "Epoch 63/100\n",
      "1/1 [==============================] - 0s 2ms/step - loss: 2.1201\n",
      "Epoch 64/100\n",
      "1/1 [==============================] - 0s 2ms/step - loss: 2.1186\n",
      "Epoch 65/100\n",
      "1/1 [==============================] - 0s 2ms/step - loss: 2.1170\n",
      "Epoch 66/100\n",
      "1/1 [==============================] - 0s 2ms/step - loss: 2.1155\n",
      "Epoch 67/100\n",
      "1/1 [==============================] - 0s 2ms/step - loss: 2.1139\n",
      "Epoch 68/100\n",
      "1/1 [==============================] - 0s 2ms/step - loss: 2.1123\n",
      "Epoch 69/100\n",
      "1/1 [==============================] - 0s 2ms/step - loss: 2.1107\n",
      "Epoch 70/100\n",
      "1/1 [==============================] - 0s 2ms/step - loss: 2.1091\n",
      "Epoch 71/100\n",
      "1/1 [==============================] - 0s 2ms/step - loss: 2.1075\n",
      "Epoch 72/100\n",
      "1/1 [==============================] - 0s 2ms/step - loss: 2.1059\n",
      "Epoch 73/100\n",
      "1/1 [==============================] - 0s 2ms/step - loss: 2.1043\n",
      "Epoch 74/100\n",
      "1/1 [==============================] - 0s 2ms/step - loss: 2.1026\n",
      "Epoch 75/100\n",
      "1/1 [==============================] - 0s 2ms/step - loss: 2.1009\n",
      "Epoch 76/100\n",
      "1/1 [==============================] - 0s 2ms/step - loss: 2.0993\n",
      "Epoch 77/100\n",
      "1/1 [==============================] - 0s 2ms/step - loss: 2.0976\n",
      "Epoch 78/100\n",
      "1/1 [==============================] - 0s 2ms/step - loss: 2.0959\n",
      "Epoch 79/100\n",
      "1/1 [==============================] - 0s 1ms/step - loss: 2.0942\n",
      "Epoch 80/100\n",
      "1/1 [==============================] - 0s 2ms/step - loss: 2.0924\n",
      "Epoch 81/100\n",
      "1/1 [==============================] - 0s 1ms/step - loss: 2.0907\n",
      "Epoch 82/100\n",
      "1/1 [==============================] - 0s 2ms/step - loss: 2.0889\n",
      "Epoch 83/100\n",
      "1/1 [==============================] - 0s 2ms/step - loss: 2.0872\n",
      "Epoch 84/100\n",
      "1/1 [==============================] - 0s 1ms/step - loss: 2.0854\n",
      "Epoch 85/100\n",
      "1/1 [==============================] - 0s 2ms/step - loss: 2.0836\n",
      "Epoch 86/100\n",
      "1/1 [==============================] - 0s 2ms/step - loss: 2.0818\n",
      "Epoch 87/100\n",
      "1/1 [==============================] - 0s 2ms/step - loss: 2.0800\n",
      "Epoch 88/100\n",
      "1/1 [==============================] - 0s 2ms/step - loss: 2.0782\n",
      "Epoch 89/100\n",
      "1/1 [==============================] - 0s 2ms/step - loss: 2.0763\n",
      "Epoch 90/100\n",
      "1/1 [==============================] - 0s 1ms/step - loss: 2.0745\n",
      "Epoch 91/100\n",
      "1/1 [==============================] - 0s 2ms/step - loss: 2.0726\n",
      "Epoch 92/100\n",
      "1/1 [==============================] - 0s 2ms/step - loss: 2.0707\n",
      "Epoch 93/100\n",
      "1/1 [==============================] - 0s 2ms/step - loss: 2.0688\n",
      "Epoch 94/100\n",
      "1/1 [==============================] - 0s 2ms/step - loss: 2.0669\n",
      "Epoch 95/100\n",
      "1/1 [==============================] - 0s 2ms/step - loss: 2.0650\n",
      "Epoch 96/100\n",
      "1/1 [==============================] - 0s 2ms/step - loss: 2.0631\n",
      "Epoch 97/100\n",
      "1/1 [==============================] - 0s 2ms/step - loss: 2.0611\n",
      "Epoch 98/100\n",
      "1/1 [==============================] - 0s 2ms/step - loss: 2.0592\n",
      "Epoch 99/100\n",
      "1/1 [==============================] - 0s 1ms/step - loss: 2.0572\n",
      "Epoch 100/100\n",
      "1/1 [==============================] - 0s 2ms/step - loss: 2.0552\n",
      "Word: I, Embedding: [-0.05925569 -0.13025959 -0.13796449  0.06319984 -0.15054466 -0.12027587\n",
      "  0.16627347  0.06742363 -0.05608127  0.08814691]\n",
      "Word: love, Embedding: [ 0.10908163  0.08129096  0.0409969  -0.01724579  0.01458654 -0.10343365\n",
      " -0.12790735  0.05018117  0.04520573 -0.12871844]\n",
      "Word: machine, Embedding: [-0.1334985  -0.09811234 -0.07366778 -0.10887837  0.09196007 -0.14573422\n",
      "  0.04537668 -0.13898452  0.0409167  -0.07552384]\n",
      "Word: learning, Embedding: [-0.10094547 -0.074076   -0.13254626  0.07312541 -0.05358937 -0.06826245\n",
      "  0.09637494  0.1443908  -0.05897618 -0.12698266]\n",
      "Word: like, Embedding: [-0.11140779  0.1500508   0.14743745 -0.03462124  0.05927901 -0.06707536\n",
      " -0.08167173  0.13785033  0.09808692  0.11995307]\n",
      "Word: deep, Embedding: [ 0.12343556  0.08254056  0.09938826  0.15070856  0.17068382 -0.1409902\n",
      "  0.10456414  0.06220215  0.06547969 -0.06219406]\n",
      "Word: enjoy, Embedding: [ 0.15004636  0.04224472  0.09388385  0.04983911 -0.11461158  0.10961624\n",
      " -0.17349717 -0.09731276  0.09403715 -0.03792383]\n",
      "Word: neural, Embedding: [ 0.05324366 -0.1497881  -0.00858852 -0.12243851  0.11454014  0.12832616\n",
      " -0.14945528  0.04214804  0.14307995  0.13083702]\n",
      "Word: networks, Embedding: [-0.0761734   0.14967996  0.06594743 -0.12138739 -0.16773872  0.03306271\n",
      " -0.1576066   0.09584671  0.12606516  0.13811935]\n"
     ]
    }
   ],
   "source": [
    "# Training of Skip-gram model\n",
    "# source: https://colab.research.google.com/drive/1IxAnnFSqk3mL3A8n1PKYWdEzDSd2Y9rF?usp=sharing#scrollTo=13xBa01XEnpb\n",
    "\n",
    "import numpy as np\n",
    "import tensorflow as tf\n",
    "from tensorflow.keras.preprocessing import sequence\n",
    "from tensorflow.keras.models import Sequential\n",
    "from tensorflow.keras.layers import Embedding, Dense, Flatten\n",
    "\n",
    "# Set up the training data\n",
    "sentences = [[\"I\", \"love\", \"machine\", \"learning\"],\n",
    "             [\"I\", \"like\", \"deep\", \"learning\"],\n",
    "             [\"I\", \"enjoy\", \"neural\", \"networks\"]]\n",
    "\n",
    "# Create the skip-gram dataset\n",
    "skip_gram_pairs = []\n",
    "window_size = 2\n",
    "\n",
    "for sentence in sentences:\n",
    "    for i in range(len(sentence)):\n",
    "        target_word = sentence[i]\n",
    "        for j in range(i - window_size, i + window_size + 1):\n",
    "            if j >= 0 and j < len(sentence) and j != i:\n",
    "                context_word = sentence[j]\n",
    "                skip_gram_pairs.append((target_word, context_word))\n",
    "\n",
    "# Create word-to-index and index-to-word mappings\n",
    "word_to_index = {}\n",
    "index_to_word = {}\n",
    "index = 0\n",
    "\n",
    "for sentence in sentences:\n",
    "    for word in sentence:\n",
    "        if word not in word_to_index:\n",
    "            word_to_index[word] = index\n",
    "            index_to_word[index] = word\n",
    "            index += 1\n",
    "\n",
    "# Convert skip-gram pairs to indices\n",
    "skip_gram_pairs_indices = []\n",
    "for pair in skip_gram_pairs:\n",
    "    target_index = word_to_index[pair[0]]\n",
    "    context_index = word_to_index[pair[1]]\n",
    "    skip_gram_pairs_indices.append((target_index, context_index))\n",
    "\n",
    "# Define the model\n",
    "vocab_size = len(word_to_index)\n",
    "embedding_dim = 10\n",
    "\n",
    "model = Sequential()\n",
    "model.add(Embedding(vocab_size, embedding_dim, input_length=1))\n",
    "model.add(Flatten())\n",
    "model.add(Dense(vocab_size, activation='softmax'))\n",
    "\n",
    "# Compile and train the model\n",
    "model.compile(loss='categorical_crossentropy', optimizer='adam')\n",
    "target_words = []\n",
    "context_words = []\n",
    "\n",
    "for pair in skip_gram_pairs_indices:\n",
    "    target_words.append(pair[0])\n",
    "    context_words.append(pair[1])\n",
    "\n",
    "target_words = np.array(target_words)\n",
    "context_words = np.array(context_words)\n",
    "\n",
    "model.fit(target_words, tf.keras.utils.to_categorical(context_words, num_classes=vocab_size), epochs=100)\n",
    "\n",
    "# Get the word embeddings\n",
    "embeddings = model.get_weights()[0]\n",
    "\n",
    "# Print the word embeddings\n",
    "for i in range(vocab_size):\n",
    "    word = index_to_word[i]\n",
    "    embedding = embeddings[i]\n",
    "    print(f\"Word: {word}, Embedding: {embedding}\")"
   ]
  },
  {
   "cell_type": "markdown",
   "id": "ccd764d9-3293-4465-a9bc-4277b0b412eb",
   "metadata": {},
   "source": [
    "### Pretrained embeddings: GloVe\n",
    "\n",
    "https://nlp.stanford.edu/projects/glove/\n",
    "\n",
    "https://medium.com/analytics-vidhya/basics-of-using-pre-trained-glove-vectors-in-python-d38905f356db"
   ]
  },
  {
   "cell_type": "code",
   "execution_count": 37,
   "id": "01e0e0c4-af44-4d2b-a666-1eb567f137c0",
   "metadata": {},
   "outputs": [],
   "source": [
    "embeddings_dict = {}\n",
    "with open(\"glove.6B.300d.txt\", 'r', encoding=\"utf-8\") as f:\n",
    "    for line in f:\n",
    "        values = line.split()\n",
    "        word = values[0]\n",
    "        vector = np.asarray(values[1:], \"float32\")\n",
    "        embeddings_dict[word] = vector"
   ]
  },
  {
   "cell_type": "code",
   "execution_count": 42,
   "id": "cd841a5f-b524-4450-a8db-49dbe79c0edf",
   "metadata": {},
   "outputs": [
    {
     "data": {
      "text/plain": [
       "300"
      ]
     },
     "execution_count": 42,
     "metadata": {},
     "output_type": "execute_result"
    }
   ],
   "source": [
    "len(embeddings_dict[\"the\"])"
   ]
  },
  {
   "cell_type": "code",
   "execution_count": 43,
   "id": "4fb95a00-fcbc-40d3-8777-3ad8fd2858e0",
   "metadata": {},
   "outputs": [],
   "source": [
    "import numpy as np\n",
    "from scipy import spatial\n",
    "import matplotlib.pyplot as plt\n",
    "from sklearn.manifold import TSNE\n",
    "\n",
    "def find_closest_embeddings(embedding):\n",
    "    return sorted(embeddings_dict.keys(), key=lambda word: spatial.distance.euclidean(embeddings_dict[word], embedding))\n"
   ]
  },
  {
   "cell_type": "code",
   "execution_count": 45,
   "id": "27818c52-06a9-4eae-b205-abfdc64242a1",
   "metadata": {},
   "outputs": [
    {
     "data": {
      "text/plain": [
       "['queen',\n",
       " 'monarch',\n",
       " 'prince',\n",
       " 'kingdom',\n",
       " 'reign',\n",
       " 'ii',\n",
       " 'iii',\n",
       " 'brother',\n",
       " 'crown']"
      ]
     },
     "execution_count": 45,
     "metadata": {},
     "output_type": "execute_result"
    }
   ],
   "source": [
    "find_closest_embeddings(embeddings_dict[\"king\"])[1:10]"
   ]
  },
  {
   "cell_type": "code",
   "execution_count": 46,
   "id": "7c4b78bd-400e-4a7d-9245-3229e6adea7a",
   "metadata": {},
   "outputs": [
    {
     "data": {
      "text/plain": [
       "['queen', 'monarch', 'mother', 'princess']"
      ]
     },
     "execution_count": 46,
     "metadata": {},
     "output_type": "execute_result"
    }
   ],
   "source": [
    "find_closest_embeddings(\n",
    "        embeddings_dict[\"king\"] - embeddings_dict[\"man\"] + embeddings_dict[\"woman\"]\n",
    ")[1:5]"
   ]
  },
  {
   "cell_type": "code",
   "execution_count": 48,
   "id": "018832a5-b9b4-4e1a-ae82-603791a443b7",
   "metadata": {},
   "outputs": [
    {
     "data": {
      "text/plain": [
       "['kiev', 'city', 'lviv', 'kharkiv', 'ukrainian', 'dnipropetrovsk']"
      ]
     },
     "execution_count": 48,
     "metadata": {},
     "output_type": "execute_result"
    }
   ],
   "source": [
    "find_closest_embeddings(\n",
    "        embeddings_dict[\"ukraine\"] - embeddings_dict[\"country\"] + embeddings_dict[\"city\"]\n",
    ")[1:7]"
   ]
  },
  {
   "cell_type": "code",
   "execution_count": 49,
   "id": "33b6ccfe-5a57-4766-829e-05841aeeb910",
   "metadata": {},
   "outputs": [
    {
     "data": {
      "text/plain": [
       "['city', 'berlin', 'cologne', 'munich']"
      ]
     },
     "execution_count": 49,
     "metadata": {},
     "output_type": "execute_result"
    }
   ],
   "source": [
    "find_closest_embeddings(\n",
    "        embeddings_dict[\"germany\"] - embeddings_dict[\"country\"] + embeddings_dict[\"city\"]\n",
    ")[1:5]"
   ]
  },
  {
   "cell_type": "code",
   "execution_count": 50,
   "id": "a04c21bb-3d75-43d9-8f81-cfc274917b9a",
   "metadata": {},
   "outputs": [
    {
     "data": {
      "text/plain": [
       "['cat', 'cats', 'boar', 'dog']"
      ]
     },
     "execution_count": 50,
     "metadata": {},
     "output_type": "execute_result"
    }
   ],
   "source": [
    "find_closest_embeddings(\n",
    "        embeddings_dict[\"cat\"] - embeddings_dict[\"home\"] + embeddings_dict[\"wild\"]\n",
    ")[1:5]"
   ]
  },
  {
   "cell_type": "code",
   "execution_count": 52,
   "id": "37bcfd54-17f1-4656-ad4f-b870708f0474",
   "metadata": {},
   "outputs": [
    {
     "data": {
      "text/plain": [
       "['berlin', 'munich', 'cologne', 'frankfurt']"
      ]
     },
     "execution_count": 52,
     "metadata": {},
     "output_type": "execute_result"
    }
   ],
   "source": [
    "find_closest_embeddings(\n",
    "        embeddings_dict[\"kiev\"] - embeddings_dict[\"ukraine\"] + embeddings_dict[\"germany\"]\n",
    ")[1:5]"
   ]
  },
  {
   "cell_type": "code",
   "execution_count": 53,
   "id": "0d8c60ee-fcd0-4878-afa1-c8c359ac12d5",
   "metadata": {},
   "outputs": [
    {
     "data": {
      "text/plain": [
       "['water', 'birds', 'fish', 'animal']"
      ]
     },
     "execution_count": 53,
     "metadata": {},
     "output_type": "execute_result"
    }
   ],
   "source": [
    "find_closest_embeddings(\n",
    "        embeddings_dict[\"bird\"] - embeddings_dict[\"air\"] + embeddings_dict[\"water\"]\n",
    ")[1:5]"
   ]
  },
  {
   "cell_type": "code",
   "execution_count": 54,
   "id": "1a2ba7f9-3571-43b7-9c11-7375ff5d5d30",
   "metadata": {},
   "outputs": [
    {
     "data": {
      "text/plain": [
       "['apple', 'window', 'macintosh', 'doors']"
      ]
     },
     "execution_count": 54,
     "metadata": {},
     "output_type": "execute_result"
    }
   ],
   "source": [
    "find_closest_embeddings(\n",
    "        embeddings_dict[\"windows\"] - embeddings_dict[\"microsoft\"] + embeddings_dict[\"apple\"]\n",
    ")[1:5]"
   ]
  },
  {
   "cell_type": "code",
   "execution_count": 55,
   "id": "4139c494-9805-44a5-90c9-6bb9220ff5f2",
   "metadata": {},
   "outputs": [
    {
     "data": {
      "text/plain": [
       "['brazil', 'paraná', 'solimões', 'tagus']"
      ]
     },
     "execution_count": 55,
     "metadata": {},
     "output_type": "execute_result"
    }
   ],
   "source": [
    "find_closest_embeddings(\n",
    "        embeddings_dict[\"dnieper\"] - embeddings_dict[\"ukraine\"] + embeddings_dict[\"brazil\"]\n",
    ")[1:5]"
   ]
  },
  {
   "cell_type": "code",
   "execution_count": 57,
   "id": "569d1268-3d6a-4f23-98c4-48e16936b9b9",
   "metadata": {},
   "outputs": [
    {
     "name": "stdout",
     "output_type": "stream",
     "text": [
      "[[ 0.07709589  0.12983435  0.13242169 ... -0.05664708 -0.21447887\n",
      "   0.11380024]\n",
      " [-0.22179028  0.14226757 -0.13023783 ...  0.06353603 -0.06824572\n",
      "   0.2376723 ]\n",
      " [-0.08113571  0.25551346 -0.02470783 ... -0.01245897 -0.00191586\n",
      "   0.102447  ]\n",
      " [-0.16737916  0.2175075  -0.0702209  ... -0.02408216  0.05151166\n",
      "  -0.15667033]]\n"
     ]
    }
   ],
   "source": [
    "# Sample corpus\n",
    "corpus = [\n",
    "    \"The quick brown fox jumps over the lazy dog\",\n",
    "    \"The cat sits on the window sill\",\n",
    "    \"The dog barks loudly in the night\",\n",
    "    \"Birds of a feather flock together\"\n",
    "]\n",
    "\n",
    "embeddings = np.zeros((len(corpus), 300))\n",
    "\n",
    "for i in range(len(corpus)):\n",
    "    # Tokenize the text\n",
    "    tokens = word_tokenize(corpus[i].lower())\n",
    "    \n",
    "    # Encode the text\n",
    "    word_vectors = [embeddings_dict[word] for word in tokens if word in embeddings_dict]\n",
    "    \n",
    "    # Average the word vectors to get the text encoding\n",
    "    if word_vectors:\n",
    "        encoded_text = np.mean(word_vectors, axis=0)\n",
    "    else:\n",
    "        encoded_text = np.zeros(model.vector_size)  # Default encoding for empty text\n",
    "    embeddings[i] = encoded_text\n",
    "\n",
    "print(embeddings)"
   ]
  },
  {
   "cell_type": "code",
   "execution_count": 58,
   "id": "a85e0dbb-bcca-41be-86b8-3b8b5a6e6dcb",
   "metadata": {},
   "outputs": [
    {
     "data": {
      "image/png": "[encoded data removed]",
      "text/plain": [
       "<Figure size 1500x1000 with 6 Axes>"
      ]
     },
     "metadata": {},
     "output_type": "display_data"
    }
   ],
   "source": [
    "# Compute cosine similarity\n",
    "cos_sim = cosine_similarity(embeddings)\n",
    "\n",
    "# Perform PCA to reduce dimensions to 2 for visualization\n",
    "pca = PCA(n_components=2)\n",
    "matrix_pca = pca.fit_transform(cos_sim)\n",
    "\n",
    "# Plot one graph per pair of text\n",
    "num_pairs = len(corpus) * (len(corpus) - 1) // 2\n",
    "plt.figure(figsize=(15, 10))\n",
    "subplot_index = 1\n",
    "for i in range(len(corpus)):\n",
    "    for j in range(i + 1, len(corpus)):\n",
    "        plt.subplot(2, num_pairs // 2, subplot_index)\n",
    "        plt.scatter(matrix_pca[:, 0], matrix_pca[:, 1])\n",
    "        plt.plot([0, matrix_pca[i, 0]], \n",
    "                 [0, matrix_pca[i, 1]], \n",
    "                 linestyle='-', color='blue', alpha=0.5)\n",
    "        plt.plot([0, matrix_pca[j, 0]], \n",
    "                 [0, matrix_pca[j, 1]], \n",
    "                 linestyle='-', color='red', alpha=0.5)\n",
    "        plt.xlabel('Principal Component 1')\n",
    "        plt.ylabel('Principal Component 2')\n",
    "        plt.title(f'Cosine Similarity: {cos_sim[i, j]:.2f}.\\nText: {corpus[i]}, \\n{corpus[j]}')\n",
    "        plt.xticks(np.arange(-0.5, 1.5, 0.5))\n",
    "        plt.yticks(np.arange(-0.5, 1.5, 0.5))\n",
    "        subplot_index += 1\n",
    "plt.tight_layout()\n",
    "plt.show()"
   ]
  },
  {
   "cell_type": "code",
   "execution_count": 59,
   "id": "dc8467a5-ef7d-4c07-9cf9-c2dddaef851a",
   "metadata": {},
   "outputs": [],
   "source": [
    "# Training Glove Embeddings\n",
    "# Source: https://colab.research.google.com/drive/1IxAnnFSqk3mL3A8n1PKYWdEzDSd2Y9rF?usp=sharing#scrollTo=DpONsaktz-8w\n",
    "# https://medium.com/nerd-for-tech/implementing-glove-from-scratch-word-embedding-for-transformers-95503138d65\n",
    "# \n",
    "import numpy as np\n",
    "from collections import defaultdict\n",
    "\n",
    "corpus = [\n",
    "    \"I love chocolate\",\n",
    "    \"I love ice cream\",\n",
    "    \"I enjoy playing tennis\"\n",
    "]\n",
    "# Initialize vocabulary and co-occurrence matrix\n",
    "vocab = set()\n",
    "co_occurrence = defaultdict(float)\n",
    "\n",
    "window_size = 4\n",
    "# Iterate through the corpus to build vocabulary and co-occurrence matrix\n",
    "for sentence in corpus:\n",
    "    words = sentence.split()\n",
    "    for i in range(len(words)):\n",
    "        word = words[i]\n",
    "        vocab.add(word)\n",
    "        for j in range(max(0, i - window_size), min(i + window_size + 1, len(words))):\n",
    "            if i != j:\n",
    "                co_occurrence[(word, words[j])] += 1.0 / abs(i - j)"
   ]
  },
  {
   "cell_type": "code",
   "execution_count": 60,
   "id": "d7df9ca0-06d9-4ad3-98d8-b883abeff83e",
   "metadata": {},
   "outputs": [
    {
     "data": {
      "text/plain": [
       "defaultdict(float,\n",
       "            {('I', 'love'): 2.0,\n",
       "             ('I', 'chocolate'): 0.5,\n",
       "             ('love', 'I'): 2.0,\n",
       "             ('love', 'chocolate'): 1.0,\n",
       "             ('chocolate', 'I'): 0.5,\n",
       "             ('chocolate', 'love'): 1.0,\n",
       "             ('I', 'ice'): 0.5,\n",
       "             ('I', 'cream'): 0.3333333333333333,\n",
       "             ('love', 'ice'): 1.0,\n",
       "             ('love', 'cream'): 0.5,\n",
       "             ('ice', 'I'): 0.5,\n",
       "             ('ice', 'love'): 1.0,\n",
       "             ('ice', 'cream'): 1.0,\n",
       "             ('cream', 'I'): 0.3333333333333333,\n",
       "             ('cream', 'love'): 0.5,\n",
       "             ('cream', 'ice'): 1.0,\n",
       "             ('I', 'enjoy'): 1.0,\n",
       "             ('I', 'playing'): 0.5,\n",
       "             ('I', 'tennis'): 0.3333333333333333,\n",
       "             ('enjoy', 'I'): 1.0,\n",
       "             ('enjoy', 'playing'): 1.0,\n",
       "             ('enjoy', 'tennis'): 0.5,\n",
       "             ('playing', 'I'): 0.5,\n",
       "             ('playing', 'enjoy'): 1.0,\n",
       "             ('playing', 'tennis'): 1.0,\n",
       "             ('tennis', 'I'): 0.3333333333333333,\n",
       "             ('tennis', 'enjoy'): 0.5,\n",
       "             ('tennis', 'playing'): 1.0})"
      ]
     },
     "execution_count": 60,
     "metadata": {},
     "output_type": "execute_result"
    }
   ],
   "source": [
    "co_occurrence"
   ]
  },
  {
   "cell_type": "code",
   "execution_count": 61,
   "id": "23c9c9f9-5021-4413-82c0-6e062f6b4488",
   "metadata": {},
   "outputs": [
    {
     "name": "stdout",
     "output_type": "stream",
     "text": [
      "Epoch: 1, Loss: 69.04242458035459\n",
      "Epoch: 2, Loss: 3.416900507639653\n",
      "Epoch: 3, Loss: 1.4197386637865497\n",
      "Epoch: 4, Loss: 0.6872133813926616\n",
      "Epoch: 5, Loss: 0.4240576271248303\n",
      "Epoch: 6, Loss: 0.2706823079023724\n",
      "Epoch: 7, Loss: 0.1733073397256515\n",
      "Epoch: 8, Loss: 0.11020321571364779\n",
      "Epoch: 9, Loss: 0.06965378858325841\n",
      "Epoch: 10, Loss: 0.043753901805941894\n",
      "Epoch: 11, Loss: 0.027337712535578224\n",
      "Epoch: 12, Loss: 0.017003236344243763\n",
      "Epoch: 13, Loss: 0.010535818426814446\n",
      "Epoch: 14, Loss: 0.006508407634645252\n",
      "Epoch: 15, Loss: 0.0040105962424207536\n",
      "Epoch: 16, Loss: 0.002466523117766984\n",
      "Epoch: 17, Loss: 0.0015145331304397003\n",
      "Epoch: 18, Loss: 0.0009288197506950901\n",
      "Epoch: 19, Loss: 0.000569058417430916\n",
      "Epoch: 20, Loss: 0.00034837390274932215\n",
      "Epoch: 21, Loss: 0.00021314228558515073\n",
      "Epoch: 22, Loss: 0.00013034239810693585\n",
      "Epoch: 23, Loss: 7.967805089795045e-05\n",
      "Epoch: 24, Loss: 4.869270192937778e-05\n",
      "Epoch: 25, Loss: 2.975013463709604e-05\n",
      "Epoch: 26, Loss: 1.817337682508089e-05\n",
      "Epoch: 27, Loss: 1.1099949681619221e-05\n",
      "Epoch: 28, Loss: 6.778887468896616e-06\n",
      "Epoch: 29, Loss: 4.139599546045525e-06\n",
      "Epoch: 30, Loss: 2.5277196824855608e-06\n",
      "Epoch: 31, Loss: 1.5433931333933904e-06\n",
      "Epoch: 32, Loss: 9.423371161288695e-07\n",
      "Epoch: 33, Loss: 5.753366291221507e-07\n",
      "Epoch: 34, Loss: 3.5125847035599465e-07\n",
      "Epoch: 35, Loss: 2.1444850986821913e-07\n",
      "Epoch: 36, Loss: 1.3092198316173517e-07\n",
      "Epoch: 37, Loss: 7.99276223774892e-08\n",
      "Epoch: 38, Loss: 4.879520325021346e-08\n",
      "Epoch: 39, Loss: 2.9788880291837375e-08\n",
      "Epoch: 40, Loss: 1.8185646088116888e-08\n",
      "Epoch: 41, Loss: 1.1102003082876733e-08\n",
      "Epoch: 42, Loss: 6.777545326661835e-09\n",
      "Epoch: 43, Loss: 4.137541178305644e-09\n",
      "Epoch: 44, Loss: 2.5258717667578084e-09\n",
      "Epoch: 45, Loss: 1.5419828457277668e-09\n",
      "Epoch: 46, Loss: 9.4134152934968e-10\n",
      "Epoch: 47, Loss: 5.746646101395213e-10\n",
      "Epoch: 48, Loss: 3.5081757324271444e-10\n",
      "Epoch: 49, Loss: 2.1416473342080777e-10\n",
      "Epoch: 50, Loss: 1.3074177073248335e-10\n",
      "Epoch: 51, Loss: 7.98142805263231e-11\n",
      "Epoch: 52, Loss: 4.8724424097216995e-11\n",
      "Epoch: 53, Loss: 2.9744914528142826e-11\n",
      "Epoch: 54, Loss: 1.8158445097902802e-11\n",
      "Epoch: 55, Loss: 1.108522538460873e-11\n",
      "Epoch: 56, Loss: 6.767220847918896e-12\n",
      "Epoch: 57, Loss: 4.131199184220315e-12\n",
      "Epoch: 58, Loss: 2.5219814632887048e-12\n",
      "Epoch: 59, Loss: 1.5395990083810281e-12\n",
      "Epoch: 60, Loss: 9.398820097918634e-13\n",
      "Epoch: 61, Loss: 5.737715862113362e-13\n",
      "Epoch: 62, Loss: 3.502714396053831e-13\n",
      "Epoch: 63, Loss: 2.1383087298371518e-13\n",
      "Epoch: 64, Loss: 1.3053773802482424e-13\n",
      "Epoch: 65, Loss: 7.968961948506852e-14\n",
      "Epoch: 66, Loss: 4.864827193529142e-14\n",
      "Epoch: 67, Loss: 2.969840182990065e-14\n",
      "Epoch: 68, Loss: 1.813003904158285e-14\n",
      "Epoch: 69, Loss: 1.1067878879719784e-14\n",
      "Epoch: 70, Loss: 6.7566286405195104e-15\n",
      "Epoch: 71, Loss: 4.124731789502709e-15\n",
      "Epoch: 72, Loss: 2.5180326659934985e-15\n",
      "Epoch: 73, Loss: 1.5371881104392776e-15\n",
      "Epoch: 74, Loss: 9.384100644190018e-16\n",
      "Epoch: 75, Loss: 5.72872971081097e-16\n",
      "Epoch: 76, Loss: 3.4972280950821985e-16\n",
      "Epoch: 77, Loss: 2.1349595327238373e-16\n",
      "Epoch: 78, Loss: 1.303332744968635e-16\n",
      "Epoch: 79, Loss: 7.956479706158009e-17\n",
      "Epoch: 80, Loss: 4.857207214468515e-17\n",
      "Epoch: 81, Loss: 2.965188471330751e-17\n",
      "Epoch: 82, Loss: 1.8101638431168425e-17\n",
      "Epoch: 83, Loss: 1.1050543214904104e-17\n",
      "Epoch: 84, Loss: 6.746046112792886e-18\n",
      "Epoch: 85, Loss: 4.118270611779061e-18\n",
      "Epoch: 86, Loss: 2.514088577861432e-18\n",
      "Epoch: 87, Loss: 1.5347812438084563e-18\n",
      "Epoch: 88, Loss: 9.369409178756615e-19\n",
      "Epoch: 89, Loss: 5.719761467157266e-19\n",
      "Epoch: 90, Loss: 3.491750448147016e-19\n",
      "Epoch: 91, Loss: 2.1316205453225762e-19\n",
      "Epoch: 92, Loss: 1.3012912913885614e-19\n",
      "Epoch: 93, Loss: 7.944044071512647e-20\n",
      "Epoch: 94, Loss: 4.8495968739200267e-20\n",
      "Epoch: 95, Loss: 2.9605514281256096e-20\n",
      "Epoch: 96, Loss: 1.8073336787400653e-20\n",
      "Epoch: 97, Loss: 1.1033227177981617e-20\n",
      "Epoch: 98, Loss: 6.735499880036561e-21\n",
      "Epoch: 99, Loss: 4.111831319837148e-21\n",
      "Epoch: 100, Loss: 2.510161001057533e-21\n"
     ]
    }
   ],
   "source": [
    "embedding_dim = 10\n",
    "word_embeddings = {\n",
    "    word: np.random.randn(embedding_dim) for word in vocab\n",
    "}\n",
    "\n",
    "learning_rate = 0.1\n",
    "num_epochs = 100\n",
    "\n",
    "# Gradient descent to update word embeddings\n",
    "for epoch in range(num_epochs):\n",
    "    total_loss = 0\n",
    "    for (word_i, word_j), observed_count in co_occurrence.items():\n",
    "        # Calculate dot product of word embeddings\n",
    "        dot_product = np.dot(word_embeddings[word_i], word_embeddings[word_j])\n",
    "\n",
    "        # Calculate difference and update\n",
    "        diff = dot_product - np.log(observed_count)\n",
    "        total_loss += 0.5 * diff**2\n",
    "        gradient = diff * word_embeddings[word_j]\n",
    "        word_embeddings[word_i] -= learning_rate * gradient\n",
    "\n",
    "    print(f\"Epoch: {epoch+1}, Loss: {total_loss}\")"
   ]
  },
  {
   "cell_type": "code",
   "execution_count": null,
   "id": "dff9c0b5-df84-4336-8fe0-a99fa678128e",
   "metadata": {},
   "outputs": [],
   "source": []
  }
 ],
 "metadata": {
  "kernelspec": {
   "display_name": "Python 3 (ipykernel)",
   "language": "python",
   "name": "python3"
  },
  "language_info": {
   "codemirror_mode": {
    "name": "ipython",
    "version": 3
   },
   "file_extension": ".py",
   "mimetype": "text/x-python",
   "name": "python",
   "nbconvert_exporter": "python",
   "pygments_lexer": "ipython3",
   "version": "3.11.6"
  }
 },
 "nbformat": 4,
 "nbformat_minor": 5
}
