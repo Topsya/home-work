{
 "cells": [
  {
   "cell_type": "code",
   "execution_count": 59,
   "metadata": {},
   "outputs": [],
   "source": [
    "import os\n",
    "import pandas as pd\n"
   ]
  },
  {
   "cell_type": "code",
   "execution_count": 60,
   "metadata": {},
   "outputs": [
    {
     "data": {
      "text/html": [
       "<div>\n",
       "<style scoped>\n",
       "    .dataframe tbody tr th:only-of-type {\n",
       "        vertical-align: middle;\n",
       "    }\n",
       "\n",
       "    .dataframe tbody tr th {\n",
       "        vertical-align: top;\n",
       "    }\n",
       "\n",
       "    .dataframe thead th {\n",
       "        text-align: right;\n",
       "    }\n",
       "</style>\n",
       "<table border=\"1\" class=\"dataframe\">\n",
       "  <thead>\n",
       "    <tr style=\"text-align: right;\">\n",
       "      <th></th>\n",
       "      <th>accelerometer_X</th>\n",
       "      <th>accelerometer_Y</th>\n",
       "      <th>accelerometer_Z</th>\n",
       "      <th>Activity</th>\n",
       "    </tr>\n",
       "  </thead>\n",
       "  <tbody>\n",
       "    <tr>\n",
       "      <th>0</th>\n",
       "      <td>1.000776</td>\n",
       "      <td>4.616021</td>\n",
       "      <td>8.576031</td>\n",
       "      <td>idle</td>\n",
       "    </tr>\n",
       "    <tr>\n",
       "      <th>1</th>\n",
       "      <td>0.718261</td>\n",
       "      <td>4.209007</td>\n",
       "      <td>8.446744</td>\n",
       "      <td>idle</td>\n",
       "    </tr>\n",
       "    <tr>\n",
       "      <th>2</th>\n",
       "      <td>-0.909797</td>\n",
       "      <td>-0.282516</td>\n",
       "      <td>9.203311</td>\n",
       "      <td>idle</td>\n",
       "    </tr>\n",
       "    <tr>\n",
       "      <th>3</th>\n",
       "      <td>5.099650</td>\n",
       "      <td>0.148441</td>\n",
       "      <td>8.418014</td>\n",
       "      <td>idle</td>\n",
       "    </tr>\n",
       "    <tr>\n",
       "      <th>4</th>\n",
       "      <td>1.762132</td>\n",
       "      <td>-0.162806</td>\n",
       "      <td>9.251195</td>\n",
       "      <td>idle</td>\n",
       "    </tr>\n",
       "    <tr>\n",
       "      <th>...</th>\n",
       "      <td>...</td>\n",
       "      <td>...</td>\n",
       "      <td>...</td>\n",
       "      <td>...</td>\n",
       "    </tr>\n",
       "    <tr>\n",
       "      <th>25</th>\n",
       "      <td>5.109226</td>\n",
       "      <td>-15.452178</td>\n",
       "      <td>-1.470040</td>\n",
       "      <td>walking</td>\n",
       "    </tr>\n",
       "    <tr>\n",
       "      <th>26</th>\n",
       "      <td>6.373365</td>\n",
       "      <td>-11.741165</td>\n",
       "      <td>-8.226476</td>\n",
       "      <td>walking</td>\n",
       "    </tr>\n",
       "    <tr>\n",
       "      <th>27</th>\n",
       "      <td>3.289633</td>\n",
       "      <td>-9.993398</td>\n",
       "      <td>-0.383072</td>\n",
       "      <td>walking</td>\n",
       "    </tr>\n",
       "    <tr>\n",
       "      <th>28</th>\n",
       "      <td>-2.978387</td>\n",
       "      <td>-3.050213</td>\n",
       "      <td>1.273715</td>\n",
       "      <td>walking</td>\n",
       "    </tr>\n",
       "    <tr>\n",
       "      <th>29</th>\n",
       "      <td>-4.347870</td>\n",
       "      <td>-9.926360</td>\n",
       "      <td>-1.642422</td>\n",
       "      <td>walking</td>\n",
       "    </tr>\n",
       "  </tbody>\n",
       "</table>\n",
       "<p>193860 rows × 4 columns</p>\n",
       "</div>"
      ],
      "text/plain": [
       "    accelerometer_X  accelerometer_Y  accelerometer_Z Activity\n",
       "0          1.000776         4.616021         8.576031     idle\n",
       "1          0.718261         4.209007         8.446744     idle\n",
       "2         -0.909797        -0.282516         9.203311     idle\n",
       "3          5.099650         0.148441         8.418014     idle\n",
       "4          1.762132        -0.162806         9.251195     idle\n",
       "..              ...              ...              ...      ...\n",
       "25         5.109226       -15.452178        -1.470040  walking\n",
       "26         6.373365       -11.741165        -8.226476  walking\n",
       "27         3.289633        -9.993398        -0.383072  walking\n",
       "28        -2.978387        -3.050213         1.273715  walking\n",
       "29        -4.347870        -9.926360        -1.642422  walking\n",
       "\n",
       "[193860 rows x 4 columns]"
      ]
     },
     "execution_count": 60,
     "metadata": {},
     "output_type": "execute_result"
    }
   ],
   "source": [
    " \n",
    "path = r\"./data/\"\n",
    "df = pd.DataFrame()     \n",
    "\n",
    "for namedir in os.listdir(path):\n",
    "    directory  = os.path.join(path, namedir)\n",
    "    if os.path.isdir(directory):\n",
    "        for namefile in os.listdir(directory):\n",
    "            file = os.path.join(directory, namefile)\n",
    "            if file.endswith(\".csv\"):\n",
    "                df_csv = pd.read_csv(file)\n",
    "                df_csv[\"Activity\"] = namedir\n",
    "                df = pd.concat([df, df_csv])\n",
    "\n",
    "\n",
    "df"
   ]
  },
  {
   "cell_type": "code",
   "execution_count": 61,
   "metadata": {},
   "outputs": [],
   "source": [
    "\n",
    "X = df.drop(\"Activity\", axis=1)\n",
    "y = df[\"Activity\"]"
   ]
  },
  {
   "cell_type": "code",
   "execution_count": 62,
   "metadata": {},
   "outputs": [
    {
     "data": {
      "text/html": [
       "<div>\n",
       "<style scoped>\n",
       "    .dataframe tbody tr th:only-of-type {\n",
       "        vertical-align: middle;\n",
       "    }\n",
       "\n",
       "    .dataframe tbody tr th {\n",
       "        vertical-align: top;\n",
       "    }\n",
       "\n",
       "    .dataframe thead th {\n",
       "        text-align: right;\n",
       "    }\n",
       "</style>\n",
       "<table border=\"1\" class=\"dataframe\">\n",
       "  <thead>\n",
       "    <tr style=\"text-align: right;\">\n",
       "      <th></th>\n",
       "      <th>accelerometer_X</th>\n",
       "      <th>accelerometer_Y</th>\n",
       "      <th>accelerometer_Z</th>\n",
       "    </tr>\n",
       "  </thead>\n",
       "  <tbody>\n",
       "    <tr>\n",
       "      <th>0</th>\n",
       "      <td>1.000776</td>\n",
       "      <td>4.616021</td>\n",
       "      <td>8.576031</td>\n",
       "    </tr>\n",
       "    <tr>\n",
       "      <th>1</th>\n",
       "      <td>0.718261</td>\n",
       "      <td>4.209007</td>\n",
       "      <td>8.446744</td>\n",
       "    </tr>\n",
       "    <tr>\n",
       "      <th>2</th>\n",
       "      <td>-0.909797</td>\n",
       "      <td>-0.282516</td>\n",
       "      <td>9.203311</td>\n",
       "    </tr>\n",
       "    <tr>\n",
       "      <th>3</th>\n",
       "      <td>5.099650</td>\n",
       "      <td>0.148441</td>\n",
       "      <td>8.418014</td>\n",
       "    </tr>\n",
       "    <tr>\n",
       "      <th>4</th>\n",
       "      <td>1.762132</td>\n",
       "      <td>-0.162806</td>\n",
       "      <td>9.251195</td>\n",
       "    </tr>\n",
       "    <tr>\n",
       "      <th>...</th>\n",
       "      <td>...</td>\n",
       "      <td>...</td>\n",
       "      <td>...</td>\n",
       "    </tr>\n",
       "    <tr>\n",
       "      <th>25</th>\n",
       "      <td>5.109226</td>\n",
       "      <td>-15.452178</td>\n",
       "      <td>-1.470040</td>\n",
       "    </tr>\n",
       "    <tr>\n",
       "      <th>26</th>\n",
       "      <td>6.373365</td>\n",
       "      <td>-11.741165</td>\n",
       "      <td>-8.226476</td>\n",
       "    </tr>\n",
       "    <tr>\n",
       "      <th>27</th>\n",
       "      <td>3.289633</td>\n",
       "      <td>-9.993398</td>\n",
       "      <td>-0.383072</td>\n",
       "    </tr>\n",
       "    <tr>\n",
       "      <th>28</th>\n",
       "      <td>-2.978387</td>\n",
       "      <td>-3.050213</td>\n",
       "      <td>1.273715</td>\n",
       "    </tr>\n",
       "    <tr>\n",
       "      <th>29</th>\n",
       "      <td>-4.347870</td>\n",
       "      <td>-9.926360</td>\n",
       "      <td>-1.642422</td>\n",
       "    </tr>\n",
       "  </tbody>\n",
       "</table>\n",
       "<p>193860 rows × 3 columns</p>\n",
       "</div>"
      ],
      "text/plain": [
       "    accelerometer_X  accelerometer_Y  accelerometer_Z\n",
       "0          1.000776         4.616021         8.576031\n",
       "1          0.718261         4.209007         8.446744\n",
       "2         -0.909797        -0.282516         9.203311\n",
       "3          5.099650         0.148441         8.418014\n",
       "4          1.762132        -0.162806         9.251195\n",
       "..              ...              ...              ...\n",
       "25         5.109226       -15.452178        -1.470040\n",
       "26         6.373365       -11.741165        -8.226476\n",
       "27         3.289633        -9.993398        -0.383072\n",
       "28        -2.978387        -3.050213         1.273715\n",
       "29        -4.347870        -9.926360        -1.642422\n",
       "\n",
       "[193860 rows x 3 columns]"
      ]
     },
     "execution_count": 62,
     "metadata": {},
     "output_type": "execute_result"
    }
   ],
   "source": [
    "X"
   ]
  },
  {
   "cell_type": "code",
   "execution_count": 63,
   "metadata": {},
   "outputs": [
    {
     "data": {
      "text/plain": [
       "0        idle\n",
       "1        idle\n",
       "2        idle\n",
       "3        idle\n",
       "4        idle\n",
       "       ...   \n",
       "25    walking\n",
       "26    walking\n",
       "27    walking\n",
       "28    walking\n",
       "29    walking\n",
       "Name: Activity, Length: 193860, dtype: object"
      ]
     },
     "execution_count": 63,
     "metadata": {},
     "output_type": "execute_result"
    }
   ],
   "source": [
    "y"
   ]
  },
  {
   "cell_type": "code",
   "execution_count": 64,
   "metadata": {},
   "outputs": [],
   "source": [
    "from sklearn.model_selection import train_test_split\n",
    "\n",
    "X_train, X_test, y_train, y_test = train_test_split(X, y, test_size = 0.25, random_state = 52)"
   ]
  },
  {
   "cell_type": "markdown",
   "metadata": {},
   "source": [
    " модель SVM "
   ]
  },
  {
   "cell_type": "code",
   "execution_count": 65,
   "metadata": {},
   "outputs": [],
   "source": [
    "from sklearn import svm\n",
    "\n",
    "svc = svm.SVC()\n",
    "svc.fit(X_train, y_train)\n",
    "\n",
    "svc_pred = svc.predict(X_test)"
   ]
  },
  {
   "cell_type": "markdown",
   "metadata": {},
   "source": [
    " модель RandomForest"
   ]
  },
  {
   "cell_type": "code",
   "execution_count": 72,
   "metadata": {},
   "outputs": [],
   "source": [
    "from sklearn.ensemble import RandomForestClassifier\n",
    "\n",
    "\n",
    "model = RandomForestClassifier(max_depth=15, random_state=0, n_estimators=100)\n",
    "model.fit(X_train, y_train)\n",
    "\n",
    "randomforest_pred = model.predict(X_test)\n"
   ]
  },
  {
   "cell_type": "code",
   "execution_count": 73,
   "metadata": {},
   "outputs": [
    {
     "name": "stdout",
     "output_type": "stream",
     "text": [
      "SVC Accuracy: 0.891880738677396\n",
      "Random Forest Accuracy: 0.982688538120293\n"
     ]
    }
   ],
   "source": [
    "from sklearn.metrics import accuracy_score\n",
    "\n",
    "accuracy_cvc = accuracy_score(y_test, svc_pred)\n",
    "print(f\"SVC Accuracy: {accuracy_cvc}\")\n",
    "\n",
    "accuracy_rf = accuracy_score(y_test, randomforest_pred)\n",
    "print(f\"Random Forest Accuracy: {accuracy_rf}\")"
   ]
  },
  {
   "cell_type": "code",
   "execution_count": null,
   "metadata": {},
   "outputs": [],
   "source": [
    "\"метод classification report для порівняння\""
   ]
  },
  {
   "cell_type": "code",
   "execution_count": 74,
   "metadata": {},
   "outputs": [
    {
     "name": "stdout",
     "output_type": "stream",
     "text": [
      "              precision    recall  f1-score   support\n",
      "\n",
      "        idle       0.96      0.99      0.97      7862\n",
      "     running       0.93      0.90      0.91     25343\n",
      "      stairs       1.00      0.00      0.00      1229\n",
      "     walking       0.80      0.90      0.85     14031\n",
      "\n",
      "    accuracy                           0.89     48465\n",
      "   macro avg       0.92      0.70      0.68     48465\n",
      "weighted avg       0.90      0.89      0.88     48465\n",
      "\n"
     ]
    }
   ],
   "source": [
    "from sklearn.metrics import classification_report\n",
    "\n",
    "cvc_classification_report = classification_report(y_test, svc_pred )\n",
    "print(cvc_classification_report)\n"
   ]
  },
  {
   "cell_type": "code",
   "execution_count": 75,
   "metadata": {},
   "outputs": [
    {
     "name": "stdout",
     "output_type": "stream",
     "text": [
      "              precision    recall  f1-score   support\n",
      "\n",
      "        idle       1.00      1.00      1.00      7862\n",
      "     running       1.00      0.98      0.99     25343\n",
      "      stairs       1.00      0.71      0.83      1229\n",
      "     walking       0.95      1.00      0.97     14031\n",
      "\n",
      "    accuracy                           0.98     48465\n",
      "   macro avg       0.99      0.92      0.95     48465\n",
      "weighted avg       0.98      0.98      0.98     48465\n",
      "\n"
     ]
    }
   ],
   "source": [
    "\n",
    "rf_classification_report = classification_report(y_test, randomforest_pred, zero_division= True)\n",
    "print(rf_classification_report)"
   ]
  },
  {
   "cell_type": "code",
   "execution_count": 81,
   "metadata": {},
   "outputs": [
    {
     "name": "stdout",
     "output_type": "stream",
     "text": [
      "Confusion RandomForest matrix:\n",
      "[[ 7860     0     0     2]\n",
      " [    4 24893     0   446]\n",
      " [    2    25   875   327]\n",
      " [    0    32     1 13998]]\n",
      " \n",
      " SVC matrix:\n",
      "[[ 7772    65     0    25]\n",
      " [  303 22802     0  2238]\n",
      " [    8   306     3   912]\n",
      " [   48  1335     0 12648]]\n"
     ]
    },
    {
     "data": {
      "image/png": "[encoded data removed]",
      "text/plain": [
       "<Figure size 640x480 with 2 Axes>"
      ]
     },
     "metadata": {},
     "output_type": "display_data"
    },
    {
     "data": {
      "image/png": "[encoded data removed]",
      "text/plain": [
       "<Figure size 640x480 with 2 Axes>"
      ]
     },
     "metadata": {},
     "output_type": "display_data"
    }
   ],
   "source": [
    "from sklearn.metrics import ConfusionMatrixDisplay\n",
    "import matplotlib.pyplot as plt\n",
    "\n",
    "\"матриця плутанини: справжніх значень і прогнозованих значень\"\n",
    "disp = ConfusionMatrixDisplay.from_predictions(y_test, randomforest_pred)\n",
    "disp2 = ConfusionMatrixDisplay.from_predictions(y_test, svc_pred)\n",
    "disp.figure_.suptitle(\"Confusion RandomForest Matrix\")\n",
    "disp2.figure_.suptitle(\"Confusion SVC Matrix\")\n",
    "print(f\"Confusion RandomForest matrix:\\n{disp.confusion_matrix}\\n \\n SVC matrix:\\n{disp2.confusion_matrix}\")\n",
    "\n",
    "plt.show()"
   ]
  },
  {
   "cell_type": "markdown",
   "metadata": {},
   "source": [
    "Прогнозируемые показатели  классов вышли более точные в методе RandomForestClassifier , при увеличение n_estimators -  количества  деревьев в методе(ансамбле) и максимальной глубины дерева.\n",
    "Проверив оба типа моделей , в моем случае RandomForestClassifier был и быстрее и точнее (возможно потому что используемые моделями RandomForestClassifier  являются многоклассовыми)"
   ]
  }
 ],
 "metadata": {
  "kernelspec": {
   "display_name": "Python 3 (ipykernel)",
   "language": "python",
   "name": "python3"
  },
  "language_info": {
   "codemirror_mode": {
    "name": "ipython",
    "version": 3
   },
   "file_extension": ".py",
   "mimetype": "text/x-python",
   "name": "python",
   "nbconvert_exporter": "python",
   "pygments_lexer": "ipython3",
   "version": "3.10.8"
  }
 },
 "nbformat": 4,
 "nbformat_minor": 4
}
