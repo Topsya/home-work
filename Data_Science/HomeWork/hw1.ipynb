{
 "cells": [
  {
   "cell_type": "code",
   "execution_count": 2,
   "id": "01d64426-224e-45be-9600-8e59ffcc8112",
   "metadata": {},
   "outputs": [
    {
     "name": "stdout",
     "output_type": "stream",
     "text": [
      "[1, 2, 3, 4, 5, 6, 7, 8, 9, 10]\n"
     ]
    }
   ],
   "source": [
    "import numpy as np\n",
    "import pandas as pd\n",
    "import matplotlib.pyplot as plt\n",
    "\n",
    "# Створіть одновимірний масив (вектор) з першими 10-ма натуральними числами та виведіть його значення.\n",
    "v = list(range(1,11))\n",
    "\n",
    "print(v)"
   ]
  },
  {
   "cell_type": "code",
   "execution_count": 4,
   "id": "2ee4e6d6-9e3e-4bcc-828b-c21db6625989",
   "metadata": {},
   "outputs": [
    {
     "name": "stdout",
     "output_type": "stream",
     "text": [
      "[[0. 0. 0.]\n",
      " [0. 0. 0.]\n",
      " [0. 0. 0.]]\n"
     ]
    }
   ],
   "source": [
    "# Створіть двовимірний масив (матрицю) розміром 3x3, заповніть його нулями та виведіть його значення.\n",
    "m = np.zeros((3, 3))\n",
    "\n",
    "print(m)"
   ]
  },
  {
   "cell_type": "code",
   "execution_count": 8,
   "id": "ddd4a64a-2608-4430-ada9-89b8789644a4",
   "metadata": {},
   "outputs": [
    {
     "name": "stdout",
     "output_type": "stream",
     "text": [
      "[[ 3  4  2 10  3]\n",
      " [ 5  4  4  8  6]\n",
      " [ 8  4  8  3  5]\n",
      " [ 8  1 10  5  3]\n",
      " [ 3  7  9 10  3]]\n"
     ]
    }
   ],
   "source": [
    "# Створіть масив розміром 5x5, заповніть його випадковими цілими числами в діапазоні\n",
    "# від 1 до 10 та виведіть його значення.\n",
    "m = np.random.randint(1, 11, size=(5, 5))\n",
    "\n",
    "print(m)"
   ]
  },
  {
   "cell_type": "code",
   "execution_count": 9,
   "id": "5cf6a8bf-a178-49e8-8c9e-4c9800c64ad6",
   "metadata": {},
   "outputs": [
    {
     "name": "stdout",
     "output_type": "stream",
     "text": [
      "[[0.41178689 0.15380195 0.43098037 0.87431455]\n",
      " [0.48147521 0.36905998 0.58678098 0.17122411]\n",
      " [0.74333224 0.43545321 0.58684871 0.69277157]\n",
      " [0.22745806 0.33713091 0.18039813 0.94892518]]\n"
     ]
    }
   ],
   "source": [
    "#Створіть масив розміром 4x4, заповніть його випадковими дійсними числами\n",
    "# в діапазоні від 0 до 1 та виведіть його значення.\n",
    "\n",
    "m = np.random.rand (4,4)\n",
    "\n",
    "print(m)"
   ]
  },
  {
   "cell_type": "code",
   "execution_count": 3,
   "id": "7aa1f668-b159-471d-8bc3-5fd81163a0f2",
   "metadata": {},
   "outputs": [
    {
     "name": "stdout",
     "output_type": "stream",
     "text": [
      "[3 6 9 3 9]\n",
      "[1 3 1 4 2]\n",
      "додавання [ 4  9 10  7 11]\n",
      "віднімання [ 2  3  8 -1  7]\n",
      "множення [ 3 18  9 12 18]\n"
     ]
    }
   ],
   "source": [
    "#Створіть два одновимірних масиви розміром 5, заповніть їх випадковими цілими числами в діапазоні\n",
    "# від 1 до 10 та виконайте на них поелементні операції додавання, віднімання та множення.\n",
    "array1 = np.random.randint(1, 11, size=5)\n",
    "array2 = np.random.randint(1, 11, size=5)\n",
    "print(array1)\n",
    "print(array2)\n",
    "add_array = np.add(array1, array2)\n",
    "print('додавання', add_array)\n",
    "\n",
    "subtract_array = np.subtract(array1, array2)\n",
    "print('віднімання', subtract_array)\n",
    "\n",
    "multipl_array = np.multiply(array1, array2)\n",
    "print('множення', multipl_array)"
   ]
  },
  {
   "cell_type": "code",
   "execution_count": 16,
   "id": "ed151b5f-4931-46b2-8f46-de42e7968521",
   "metadata": {},
   "outputs": [
    {
     "name": "stdout",
     "output_type": "stream",
     "text": [
      "6\n",
      "5\n",
      "їх скалярний добуток 30\n"
     ]
    }
   ],
   "source": [
    "# Створіть два вектори розміром 7, заповніть довільними числами та знайдіть їх скалярний добуток.\n",
    "v1 = np.random.randint(7)\n",
    "v2 = np.random.randint(7)\n",
    "print(v1)\n",
    "print(v2)\n",
    "\n",
    "scalar_v = np.dot(v1, v2)\n",
    "print('їх скалярний добуток', scalar_v)"
   ]
  },
  {
   "cell_type": "code",
   "execution_count": 21,
   "id": "14c76baa-d09b-4e47-a787-e03e79e26484",
   "metadata": {},
   "outputs": [
    {
     "name": "stdout",
     "output_type": "stream",
     "text": [
      "matrix 1 \n",
      " [[1 3]\n",
      " [3 2]]\n",
      "matrix 2 \n",
      " [[6 3 4]\n",
      " [8 1 1]]\n",
      "result \n",
      " [[30  6  7]\n",
      " [34 11 14]]\n"
     ]
    }
   ],
   "source": [
    "# Створіть дві матриці розміром 2x2 та 2x3, заповніть їх випадковими цілими числами в діапазоні \n",
    "#від 1 до 10 та перемножте їх між собою.\n",
    "m1 = np.random.randint(1, 11, size=(2,2))\n",
    "m2 = np.random.randint(1, 11, size=(2,3))\n",
    "print('matrix 1 \\n', m1)\n",
    "print('matrix 2 \\n' , m2)\n",
    "result = np.dot(m1, m2)\n",
    "print('result \\n',result)"
   ]
  },
  {
   "cell_type": "code",
   "execution_count": 25,
   "id": "8921e519-8c86-4bb6-92d2-48d527f3127b",
   "metadata": {},
   "outputs": [
    {
     "name": "stdout",
     "output_type": "stream",
     "text": [
      "matrix 1 \n",
      " [[6 1 4]\n",
      " [7 8 4]\n",
      " [3 4 2]]\n",
      "inverse matrix \n",
      " [[-6.34413157e-17  1.00000000e+00 -2.00000000e+00]\n",
      " [-1.42857143e-01 -3.79100545e-17  2.85714286e-01]\n",
      " [ 2.85714286e-01 -1.50000000e+00  2.92857143e+00]]\n"
     ]
    }
   ],
   "source": [
    "# Створіть матрицю розміром 3x3, заповніть її випадковими цілими числами в діапазоні \n",
    "#від 1 до 10 та знайдіть її обернену матрицю.\n",
    "\n",
    "m  = np.random.randint(1, 11, size=(3, 3))\n",
    "\n",
    "print('matrix 1 \\n', m)\n",
    "\n",
    "inverse_m = np.linalg.inv(m)\n",
    "print('inverse matrix \\n', inverse_m)"
   ]
  },
  {
   "cell_type": "code",
   "execution_count": 28,
   "id": "4405d3ef-6fd8-4200-a667-1de5dc13e3c4",
   "metadata": {},
   "outputs": [
    {
     "name": "stdout",
     "output_type": "stream",
     "text": [
      "matrix \n",
      " [[0.23812073 0.35360526 0.39741871 0.32347462]\n",
      " [0.89770159 0.90391862 0.31599007 0.6001397 ]\n",
      " [0.92080698 0.27415319 0.66379897 0.47610074]\n",
      " [0.24637055 0.58964105 0.4632734  0.03324454]]\n",
      "транспоptoBaH матриця: \n",
      " [[0.23812073 0.89770159 0.92080698 0.24637055]\n",
      " [0.35360526 0.90391862 0.27415319 0.58964105]\n",
      " [0.39741871 0.31599007 0.66379897 0.4632734 ]\n",
      " [0.32347462 0.6001397  0.47610074 0.03324454]]\n"
     ]
    }
   ],
   "source": [
    "# Створіть матрицю розміром 4x4, заповніть її випадковими дійсними числами в діапазоні\n",
    "# від 0 до 1 та транспонуйте її.\n",
    "m = np.random.rand(4, 4)\n",
    "\n",
    "print('matrix \\n', m)\n",
    "\n",
    "tran_m  = np.transpose(m )\n",
    "\n",
    "print('транспоptoBaH матриця: \\n', tran_m)"
   ]
  },
  {
   "cell_type": "code",
   "execution_count": 29,
   "id": "200eb3f4-83a1-4239-9a9a-06b35a03064b",
   "metadata": {},
   "outputs": [
    {
     "name": "stdout",
     "output_type": "stream",
     "text": [
      "матрицю розміром 3x4 \n",
      " [[ 8  3  1  1]\n",
      " [ 7  4  3  5]\n",
      " [ 9 10  4  6]]\n",
      "вектор розміром 4 \n",
      " [3 4 5 3]\n",
      "result is \n",
      " [ 44  67 105]\n"
     ]
    }
   ],
   "source": [
    "# Створіть матрицю розміром 3x4 та вектор розміром 4, заповніть їх\n",
    "# випадковими цілими числами в діапазоні від 1 до 10 та перемножте матрицю на вектор.\n",
    "m  = np.random.randint(1, 11, size=(3, 4))\n",
    "v  = np.random.randint(1, 11, size=4)\n",
    "\n",
    "print('матрицю розміром 3x4 \\n', m )\n",
    "print('вектор розміром 4 \\n', v)\n",
    "\n",
    "result = np.dot( m, v)\n",
    "\n",
    "print('result is \\n', result)"
   ]
  },
  {
   "cell_type": "code",
   "execution_count": 30,
   "id": "d564b76f-e504-4779-9e95-06bcaa3e9f1f",
   "metadata": {},
   "outputs": [
    {
     "name": "stdout",
     "output_type": "stream",
     "text": [
      "матрицю розміром 2x3 \n",
      " [[0.06428978 0.32039427 0.57419537]\n",
      " [0.04220268 0.81160341 0.08163201]]\n",
      "вектор розміром 3 \n",
      " [0.11602204 0.49172251 0.74465226]\n",
      "result is \n",
      " [0.59257999 0.46476756]\n"
     ]
    }
   ],
   "source": [
    "# Створіть матрицю розміром 2x3 та вектор розміром 3, заповніть їх випадковими дійсними \n",
    "# числами в діапазоні від 0 до 1 та перемножте матрицю на вектор.\n",
    "m  = np.random.rand( 2, 3 )\n",
    "v  = np.random.rand( 3)\n",
    "\n",
    "print('матрицю розміром 2x3 \\n', m )\n",
    "print('вектор розміром 3 \\n', v)\n",
    "\n",
    "result = np.dot( m, v)\n",
    "\n",
    "print('result is \\n', result)"
   ]
  },
  {
   "cell_type": "code",
   "execution_count": 31,
   "id": "70487d28-8d9a-4ddd-99ae-2677c5e943d5",
   "metadata": {},
   "outputs": [
    {
     "name": "stdout",
     "output_type": "stream",
     "text": [
      "matrix 1 \n",
      " [[5 6]\n",
      " [9 1]]\n",
      "matrix 2 \n",
      " [[10 10]\n",
      " [ 9  3]]\n",
      "Результат множення матриць\n",
      " [[50 60]\n",
      " [81  3]]\n"
     ]
    }
   ],
   "source": [
    "#  Створіть дві матриці розміром 2x2, заповніть їх випадковими цілими числами в\n",
    "# діапазоні від 1 до 10 та виконайте їхнє поелементне множення.\n",
    "\n",
    "m1 = np.random.randint(1, 11, size=(2, 2))\n",
    "m2 = np.random.randint(1, 11, size=(2, 2))\n",
    "print('matrix 1 \\n', m1)\n",
    "print('matrix 2 \\n' , m2)\n",
    "result = np.multiply(m1, m2)\n",
    "\n",
    "print('Результат множення матриць\\n', result)"
   ]
  },
  {
   "cell_type": "code",
   "execution_count": 32,
   "id": "cebbab39-1a3f-447a-8e27-81f42d446322",
   "metadata": {},
   "outputs": [
    {
     "name": "stdout",
     "output_type": "stream",
     "text": [
      "matrix 1 \n",
      " [[6 8]\n",
      " [2 9]]\n",
      "matrix 2 \n",
      " [[5 7]\n",
      " [4 6]]\n",
      "добуток матриць\n",
      " [[62 90]\n",
      " [46 68]]\n"
     ]
    }
   ],
   "source": [
    "# Створіть дві матриці розміром 2x2, заповніть їх випадковими цілими числами\n",
    "# в діапазоні від 1 до 10 та знайдіть їх добуток.\n",
    "m1 = np.random.randint(1, 11, size=(2, 2))\n",
    "m2 = np.random.randint(1, 11, size=(2, 2))\n",
    "print('matrix 1 \\n', m1)\n",
    "print('matrix 2 \\n' , m2)\n",
    "result = np.dot(m1, m2)\n",
    "\n",
    "print('добуток матриць\\n', result)"
   ]
  },
  {
   "cell_type": "code",
   "execution_count": 33,
   "id": "bd15b941-3533-4cb2-b57f-3f29009451d5",
   "metadata": {},
   "outputs": [
    {
     "name": "stdout",
     "output_type": "stream",
     "text": [
      "matrix 1 \n",
      " [[ 21  24  19  14  58]\n",
      " [  7  56  56  70  16]\n",
      " [ 34  98  87  62  69]\n",
      " [ 78  59  73  84  25]\n",
      " [ 53   3  81 100  18]]\n",
      "сумa елементів матриці \n",
      " 1265\n"
     ]
    }
   ],
   "source": [
    "# Створіть матрицю розміром 5x5, заповніть її випадковими цілими числами\n",
    "# в діапазоні від 1 до 100 та знайдіть суму елементів матриці.\n",
    "m1 = np.random.randint(1, 101, size=(5, 5))\n",
    "print('matrix 1 \\n', m1)\n",
    "\n",
    "sum = np.sum(m1)\n",
    "\n",
    "print('сумa елементів матриці \\n', sum)"
   ]
  },
  {
   "cell_type": "code",
   "execution_count": 34,
   "id": "ee0e967f-2265-45ec-9161-70e90b0282a5",
   "metadata": {},
   "outputs": [
    {
     "name": "stdout",
     "output_type": "stream",
     "text": [
      "matrix 1 \n",
      " [[4 7 3 2]\n",
      " [4 9 8 3]\n",
      " [5 1 8 1]\n",
      " [6 8 5 3]]\n",
      "matrix 2 \n",
      " [[ 3  6  8 10]\n",
      " [ 6  5 10  5]\n",
      " [ 8  4  4  2]\n",
      " [ 3  2  8  9]]\n",
      "різниi матриць \n",
      " [[ 1  1 -5 -8]\n",
      " [-2  4 -2 -2]\n",
      " [-3 -3  4 -1]\n",
      " [ 3  6 -3 -6]]\n"
     ]
    }
   ],
   "source": [
    "# Створіть дві матриці розміром 4x4, заповніть їх випадковими цілими\n",
    "# числами в діапазоні від 1 до 10 та знайдіть їхню різницю.\n",
    "m1 = np.random.randint(1, 11, size=(4, 4))\n",
    "m2 = np.random.randint(1, 11, size=(4, 4))\n",
    "print('matrix 1 \\n', m1)\n",
    "print('matrix 2 \\n' , m2)\n",
    "result =  m1-m2 \n",
    "\n",
    "print('різниi матриць \\n', result)"
   ]
  },
  {
   "cell_type": "code",
   "execution_count": 36,
   "id": "ec274d7c-cdc2-498b-b88f-f25f44670bb2",
   "metadata": {},
   "outputs": [
    {
     "name": "stdout",
     "output_type": "stream",
     "text": [
      "матрицi \n",
      "  [[0.62000725 0.20156643 0.43649751]\n",
      " [0.67595296 0.34808477 0.17295659]\n",
      " [0.8584449  0.44535102 0.39352922]]\n",
      "сумa елементів кожного рядка матриці \n",
      " [[1.2580712 ]\n",
      " [1.19699433]\n",
      " [1.69732515]]\n"
     ]
    }
   ],
   "source": [
    "# Створіть матрицю розміром 3x3, заповніть її випадковими дійсними числами в діапазоні \n",
    "# від 0 до 1 та знайдіть вектор-стовпчик, що містить суму елементів кожного рядка матриці.\n",
    "m  = np.random.rand(3, 3)\n",
    "\n",
    "print( 'матрицi \\n ', m )\n",
    "\n",
    "sum  = np.sum(m , axis=1, keepdims=True)\n",
    "\n",
    "print('сумa елементів кожного рядка матриці \\n', sum )"
   ]
  },
  {
   "cell_type": "code",
   "execution_count": 37,
   "id": "86867ec1-c161-42cc-876b-0f80cca7ca08",
   "metadata": {},
   "outputs": [
    {
     "name": "stdout",
     "output_type": "stream",
     "text": [
      "матрицi \n",
      "  [[ 4  7  9  2]\n",
      " [10  6 10  2]\n",
      " [ 7  9  4  8]]\n",
      "матрицю з квадратами цих чисел \n",
      "  [[ 16  49  81   4]\n",
      " [100  36 100   4]\n",
      " [ 49  81  16  64]]\n"
     ]
    }
   ],
   "source": [
    "# Створіть матрицю розміром 3x4 з довільними цілими числами і створіtь\n",
    "# матрицю з квадратами цих чисел.\n",
    "m  = np.random.randint(1, 11, size=(3, 4))\n",
    "print( 'матрицi \\n ', m )\n",
    "\n",
    "m_square = np.square(m)\n",
    "\n",
    "print('матрицю з квадратами цих чисел \\n ' , m_square)"
   ]
  },
  {
   "cell_type": "code",
   "execution_count": 38,
   "id": "fe50bf36-ce5c-4003-b590-98e39ed2c1eb",
   "metadata": {},
   "outputs": [
    {
     "name": "stdout",
     "output_type": "stream",
     "text": [
      "вектор \n",
      " [44 18 43 13]\n",
      "вектор з квадратними коренями цих чисел \n",
      " [6.63324958 4.24264069 6.55743852 3.60555128]\n"
     ]
    }
   ],
   "source": [
    "# Створіть вектор розміром 4, заповніть його випадковими цілими числами в діапазоні\n",
    "# від 1 до 50 та знайдіть вектор з квадратними коренями цих чисел.\n",
    "v = np.random.randint(1, 51, size=4)\n",
    "\n",
    "print('вектор \\n', v )\n",
    "\n",
    "sqrt_v = np.sqrt(v)\n",
    "\n",
    "print('вектор з квадратними коренями цих чисел \\n', sqrt_v)"
   ]
  },
  {
   "cell_type": "code",
   "execution_count": null,
   "id": "30f0fa2d-c9ce-46bb-91fa-c9cd31ef1a03",
   "metadata": {},
   "outputs": [],
   "source": []
  }
 ],
 "metadata": {
  "kernelspec": {
   "display_name": "Python 3 (ipykernel)",
   "language": "python",
   "name": "python3"
  },
  "language_info": {
   "codemirror_mode": {
    "name": "ipython",
    "version": 3
   },
   "file_extension": ".py",
   "mimetype": "text/x-python",
   "name": "python",
   "nbconvert_exporter": "python",
   "pygments_lexer": "ipython3",
   "version": "3.10.8"
  }
 },
 "nbformat": 4,
 "nbformat_minor": 5
}
