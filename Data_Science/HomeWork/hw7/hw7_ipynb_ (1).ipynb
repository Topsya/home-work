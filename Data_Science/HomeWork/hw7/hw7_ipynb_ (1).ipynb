{
 "cells": [
  {
   "cell_type": "code",
   "execution_count": 4,
   "metadata": {
    "id": "mQewUquqTa4s"
   },
   "outputs": [],
   "source": [
    "import numpy as np\n",
    "import pandas as pd\n",
    "import matplotlib.pyplot as plt"
   ]
  },
  {
   "cell_type": "code",
   "execution_count": 2,
   "metadata": {
    "colab": {
     "base_uri": "https://localhost:8080/"
    },
    "id": "9Kk51SGbZhXJ",
    "outputId": "b5de4b86-83a6-4b99-de52-5a21ec238dbe"
   },
   "outputs": [
    {
     "name": "stdout",
     "output_type": "stream",
     "text": [
      "Collecting scikit-surprise\n",
      "  Downloading scikit-surprise-1.1.3.tar.gz (771 kB)\n",
      "\u001b[2K     \u001b[90m━━━━━━━━━━━━━━━━━━━━━━━━━━━━━━━━━━━━━━━━\u001b[0m \u001b[32m772.0/772.0 kB\u001b[0m \u001b[31m4.6 MB/s\u001b[0m eta \u001b[36m0:00:00\u001b[0m\n",
      "\u001b[?25h  Preparing metadata (setup.py) ... \u001b[?25l\u001b[?25hdone\n",
      "Requirement already satisfied: joblib>=1.0.0 in /usr/local/lib/python3.10/dist-packages (from scikit-surprise) (1.3.2)\n",
      "Requirement already satisfied: numpy>=1.17.3 in /usr/local/lib/python3.10/dist-packages (from scikit-surprise) (1.23.5)\n",
      "Requirement already satisfied: scipy>=1.3.2 in /usr/local/lib/python3.10/dist-packages (from scikit-surprise) (1.11.4)\n",
      "Building wheels for collected packages: scikit-surprise\n",
      "  Building wheel for scikit-surprise (setup.py) ... \u001b[?25l\u001b[?25hdone\n",
      "  Created wheel for scikit-surprise: filename=scikit_surprise-1.1.3-cp310-cp310-linux_x86_64.whl size=3162674 sha256=ce9bb972bc555240209e03698a158442ff87f3a3ddbf1610ae789e3f30df7902\n",
      "  Stored in directory: /root/.cache/pip/wheels/a5/ca/a8/4e28def53797fdc4363ca4af740db15a9c2f1595ebc51fb445\n",
      "Successfully built scikit-surprise\n",
      "Installing collected packages: scikit-surprise\n",
      "Successfully installed scikit-surprise-1.1.3\n",
      "Trying to download dataset from https://files.grouplens.org/datasets/movielens/ml-100k.zip...\n",
      "Done! Dataset ml-100k has been saved to /root/.surprise_data/ml-100k\n"
     ]
    }
   ],
   "source": [
    "# @title Текст заголовка по умолчанию\n",
    "!pip install scikit-surprise\n",
    "# !conda install -y -c conda-forge scikit-surprise # If you use conda on a non-Colab environment\n",
    "\n",
    "from surprise import SVD\n",
    "from surprise import Dataset\n",
    "from surprise.model_selection import cross_validate\n",
    "\n",
    "# Load the movielens-100k dataset (download it if needed),\n",
    "data = Dataset.load_builtin(name='ml-100k', prompt=False)\n",
    "\n",
    "# Or if you'd rather, comment the above line and uncomment the below line\n",
    "# for a larger data set, while anticipating longer training times.\n",
    "\n",
    "# data = Dataset.load_builtin(name='ml-1M', prompt=False)\n"
   ]
  },
  {
   "cell_type": "markdown",
   "metadata": {
    "id": "5OEeLvVvgPD6"
   },
   "source": [
    "Модель SVD"
   ]
  },
  {
   "cell_type": "code",
   "execution_count": 3,
   "metadata": {
    "colab": {
     "base_uri": "https://localhost:8080/"
    },
    "id": "1ltOorAQedUe",
    "outputId": "1a781db3-a13a-448e-afb8-a12a5b72c4f5"
   },
   "outputs": [
    {
     "name": "stdout",
     "output_type": "stream",
     "text": [
      "Evaluating RMSE, MAE of algorithm SVD on 5 split(s).\n",
      "\n",
      "                  Fold 1  Fold 2  Fold 3  Fold 4  Fold 5  Mean    Std     \n",
      "RMSE (testset)    0.9389  0.9451  0.9337  0.9267  0.9309  0.9351  0.0064  \n",
      "MAE (testset)     0.7431  0.7434  0.7352  0.7302  0.7346  0.7373  0.0051  \n",
      "Fit time          2.20    1.95    2.68    2.38    2.90    2.42    0.34    \n",
      "Test time         0.13    0.27    0.32    0.21    0.21    0.23    0.06    \n"
     ]
    }
   ],
   "source": [
    "'Модель SVD'\n",
    "# We'll use the famous SVD algorithm.\n",
    "algo = SVD()\n",
    "\n",
    "# Run 5-fold cross-validation and print results\n",
    "cross_SVD = cross_validate(algo, data, measures=['RMSE', 'MAE'], cv=5, verbose=True)"
   ]
  },
  {
   "cell_type": "code",
   "execution_count": 4,
   "metadata": {
    "colab": {
     "base_uri": "https://localhost:8080/"
    },
    "id": "rwRExO4wexuA",
    "outputId": "34c99abe-7972-4232-fdba-85eaf7fd9281"
   },
   "outputs": [
    {
     "name": "stdout",
     "output_type": "stream",
     "text": [
      "Mean RMSE: 0.9350692259758745\n",
      "Mean MAE: 0.7372952440530247\n"
     ]
    }
   ],
   "source": [
    "srednee_SVD_RMSE = cross_SVD[\"test_rmse\"].mean()\n",
    "srednee_SVD_MAE = cross_SVD[\"test_mae\"].mean()\n",
    "\n",
    "print(f\"Mean RMSE: {srednee_SVD_RMSE}\")\n",
    "print(f\"Mean MAE: {srednee_SVD_MAE}\")"
   ]
  },
  {
   "cell_type": "markdown",
   "metadata": {
    "id": "k1XNGZvwgGy0"
   },
   "source": [
    "Модель SVD++"
   ]
  },
  {
   "cell_type": "code",
   "execution_count": 5,
   "metadata": {
    "colab": {
     "base_uri": "https://localhost:8080/"
    },
    "id": "4lXuoHjAd_VO",
    "outputId": "451e6f1a-0051-41b3-cb3c-8d400b033bd4"
   },
   "outputs": [
    {
     "name": "stdout",
     "output_type": "stream",
     "text": [
      "Evaluating RMSE, MAE of algorithm SVDpp on 5 split(s).\n",
      "\n",
      "                  Fold 1  Fold 2  Fold 3  Fold 4  Fold 5  Mean    Std     \n",
      "RMSE (testset)    0.9189  0.9259  0.9183  0.9197  0.9228  0.9211  0.0028  \n",
      "MAE (testset)     0.7233  0.7230  0.7245  0.7205  0.7220  0.7227  0.0013  \n",
      "Fit time          30.93   26.99   27.15   27.15   27.26   27.90   1.52    \n",
      "Test time         4.11    5.20    4.12    4.81    4.15    4.48    0.45    \n"
     ]
    }
   ],
   "source": [
    "from surprise import SVDpp\n",
    "\n",
    "algo_SVDpp = SVDpp()\n",
    "\n",
    "cross_SVDpp = cross_validate(algo_SVDpp, data, measures=[\"RMSE\", \"MAE\"], cv=5, verbose=True)"
   ]
  },
  {
   "cell_type": "code",
   "execution_count": 6,
   "metadata": {
    "colab": {
     "base_uri": "https://localhost:8080/"
    },
    "id": "EL52a3Tog6sa",
    "outputId": "477da0ee-0382-4a90-a0de-e0bb5ad96d4f"
   },
   "outputs": [
    {
     "name": "stdout",
     "output_type": "stream",
     "text": [
      "Mean RMSE: 0.9210973736921912\n",
      "Mean MAE: 0.7226589312643856\n"
     ]
    }
   ],
   "source": [
    "srednee_SVDpp_RMSE = cross_SVDpp[\"test_rmse\"].mean()\n",
    "srednee_SVDpp_MAE = cross_SVDpp[\"test_mae\"].mean()\n",
    "\n",
    "print(f\"Mean RMSE: {srednee_SVDpp_RMSE}\")\n",
    "print(f\"Mean MAE: {srednee_SVDpp_MAE}\")"
   ]
  },
  {
   "cell_type": "markdown",
   "metadata": {
    "id": "LJ2_DfJ3heX2"
   },
   "source": [
    "Модель NMF"
   ]
  },
  {
   "cell_type": "code",
   "execution_count": 7,
   "metadata": {
    "colab": {
     "base_uri": "https://localhost:8080/"
    },
    "id": "QQRouG-Sgiaq",
    "outputId": "32f8c446-5c48-469e-c426-2b14893e979c"
   },
   "outputs": [
    {
     "name": "stdout",
     "output_type": "stream",
     "text": [
      "Evaluating RMSE, MAE of algorithm NMF on 5 split(s).\n",
      "\n",
      "                  Fold 1  Fold 2  Fold 3  Fold 4  Fold 5  Mean    Std     \n",
      "RMSE (testset)    0.9572  0.9670  0.9662  0.9635  0.9628  0.9633  0.0035  \n",
      "MAE (testset)     0.7513  0.7610  0.7627  0.7530  0.7556  0.7567  0.0044  \n",
      "Fit time          2.08    2.10    2.80    2.25    2.10    2.27    0.28    \n",
      "Test time         0.15    0.23    0.18    0.22    0.10    0.18    0.05    \n"
     ]
    }
   ],
   "source": [
    "from surprise import  NMF\n",
    "\n",
    "algo_NMF = NMF()\n",
    "\n",
    "cross_NMF = cross_validate(algo_NMF, data, measures=[\"RMSE\", \"MAE\"], cv=5, verbose=True)"
   ]
  },
  {
   "cell_type": "code",
   "execution_count": 8,
   "metadata": {
    "colab": {
     "base_uri": "https://localhost:8080/"
    },
    "id": "zhEeqyGDh3_M",
    "outputId": "c0b089f9-6c8c-4879-c58a-d2fad6d66047"
   },
   "outputs": [
    {
     "name": "stdout",
     "output_type": "stream",
     "text": [
      "Mean RMSE: 0.9633417150401241\n",
      "Mean MAE: 0.756711754300941\n"
     ]
    }
   ],
   "source": [
    "\n",
    "srednee_NMF_RMSE = cross_NMF[\"test_rmse\"].mean()\n",
    "srednee_NMF_MAE = cross_NMF[\"test_mae\"].mean()\n",
    "\n",
    "print(f\"Mean RMSE: {srednee_NMF_RMSE}\")\n",
    "print(f\"Mean MAE: {srednee_NMF_MAE}\")"
   ]
  },
  {
   "cell_type": "markdown",
   "metadata": {
    "id": "X73bqyHujklb"
   },
   "source": [
    "**Додаткове завдання з зірочкою**\n",
    "\n",
    "Для більшого заглиблення в роботу алгоритму, пропонуємо реалізувати алгоритм колабораційної фільтрації з нуля. Для цього ми можемо скористатись нашою домашньою роботою з 3-ого модуля. Якщо ми модифікуємо функцію втрат та розрахунок градієнтів, то зможемо побудувати алгоритм матричної факторизації."
   ]
  },
  {
   "cell_type": "code",
   "execution_count": 5,
   "metadata": {
    "id": "EqjE4_4gjYb6"
   },
   "outputs": [
    {
     "name": "stdout",
     "output_type": "stream",
     "text": [
      "['1 Toy Story', '2 GoldenEye', '3 Four Rooms', '4 Get Shorty', '5 Copycat', '6 Shanghai Triad (Yao a yao yao dao waipo qiao)', '7 Twelve Monkeys']\n"
     ]
    }
   ],
   "source": [
    "movie_path = \"movie_ids.txt\"\n",
    "\n",
    "def read_movie(data):\n",
    "  movies = []\n",
    "  with open(data, \"r\", encoding=\"ISO-8859-1\") as fl:\n",
    "    text = fl.readlines()\n",
    "  for line in text:\n",
    "    line = line.split(\" \")\n",
    "    movies.append(\" \".join(line[:-1]).strip())\n",
    "  return movies\n",
    "\n",
    "movie_titles = read_movie(movie_path)\n",
    "print(movie_titles[:7])"
   ]
  },
  {
   "cell_type": "code",
   "execution_count": 14,
   "metadata": {},
   "outputs": [
    {
     "name": "stdout",
     "output_type": "stream",
     "text": [
      " Середня оцінка фільму 1   ('1 Toy Story',): 4.52067868504772 / 5 )\n"
     ]
    }
   ],
   "source": [
    "from scipy.io import loadmat\n",
    "\n",
    "movies = loadmat(\"movies.mat\")\n",
    "\n",
    "# Y is a 1682x943 matrix, containing ratings (1-5) of \n",
    "# 1682 movies on 943 users\n",
    "\n",
    "# R is a 1682x943 matrix, where R(i,j) = 1 \n",
    "# if and only if user j gave a rating to movie i\n",
    "\n",
    "Y, R = movies[\"Y\"], movies[\"R\"]\n",
    "print(f' Середня оцінка фільму 1   {movie_titles[0], }: {np.mean(Y[0, R[0, :]])} / 5 )')"
   ]
  },
  {
   "cell_type": "code",
   "execution_count": 7,
   "metadata": {},
   "outputs": [
    {
     "name": "stdout",
     "output_type": "stream",
     "text": [
      "1682,943\n"
     ]
    }
   ],
   "source": [
    "kino, users = Y.shape[0],Y.shape[1]\n",
    "print(f'{kino},{users}')"
   ]
  },
  {
   "cell_type": "code",
   "execution_count": 15,
   "metadata": {},
   "outputs": [],
   "source": [
    "def collaborative_filtering(Y, R):\n",
    "    \n",
    "  user_similarity = np.zeros((users, users))\n",
    "  for i in range(users):\n",
    "    for j in range(users):\n",
    "      if i != j:\n",
    "        mask = np.logical_and(R[:, i], R[:, j])\n",
    "        if np.sum(mask) > 0:\n",
    "          norm = (np.linalg.norm(Y[mask, i]) * np.linalg.norm(Y[mask, j]))\n",
    "          user_similarity[i, j] = np.dot(Y[mask, i], Y[mask, j]) / norm\n",
    "\n",
    "  predicted_ratings = np.zeros((kino, users))\n",
    "  for i in range(kino):\n",
    "    for j in range(users):\n",
    "      if R[i, j] == 0:\n",
    "        users_rating_movie = np.nonzero(R[i, :])[0]\n",
    "        if len(users_rating_movie) > 0:\n",
    "          weights = user_similarity[j, users_rating_movie]\n",
    "          ratings = Y[i, users_rating_movie]\n",
    "          predicted_ratings[i, j] = np.dot(weights, ratings) / np.sum(np.abs(weights))\n",
    "\n",
    "  return predicted_ratings\n"
   ]
  },
  {
   "cell_type": "code",
   "execution_count": 9,
   "metadata": {},
   "outputs": [
    {
     "name": "stderr",
     "output_type": "stream",
     "text": [
      "C:\\Users\\38050\\AppData\\Local\\Temp\\ipykernel_14452\\658374968.py:20: RuntimeWarning: invalid value encountered in scalar divide\n",
      "  predicted_ratings[i, j] = np.dot(weights, ratings) / np.sum(np.abs(weights))\n"
     ]
    }
   ],
   "source": [
    "predicted_ratings = collaborative_filtering(Y, R)\n",
    "# predicted_ratings"
   ]
  },
  {
   "cell_type": "code",
   "execution_count": null,
   "metadata": {},
   "outputs": [],
   "source": [
    "\n",
    "# Тепер давайте створимо функцію, яка повертає перші N рекомендованих фільмів для користувача:\n",
    "def make_recommendations(predicted_ratings, names, user_id, n):\n",
    "    sorted_indices = np.argsort(predicted_ratings[user_id - 1])[::-1]\n",
    "    top_indices = sorted_indices[:n]\n",
    "    top_movies = [(id + 1, names[id]) for id in top_indices]\n",
    "    return top_movies\n",
    "\n"
   ]
  }
 ],
 "metadata": {
  "colab": {
   "provenance": []
  },
  "kernelspec": {
   "display_name": "Python 3 (ipykernel)",
   "language": "python",
   "name": "python3"
  },
  "language_info": {
   "codemirror_mode": {
    "name": "ipython",
    "version": 3
   },
   "file_extension": ".py",
   "mimetype": "text/x-python",
   "name": "python",
   "nbconvert_exporter": "python",
   "pygments_lexer": "ipython3",
   "version": "3.10.8"
  }
 },
 "nbformat": 4,
 "nbformat_minor": 4
}
