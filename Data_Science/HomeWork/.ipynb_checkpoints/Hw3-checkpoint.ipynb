{
 "cells": [
  {
   "cell_type": "code",
   "execution_count": 1,
   "id": "f5a68b63-5306-4442-a1b4-58aef16440b0",
   "metadata": {},
   "outputs": [],
   "source": [
    "import numpy as np\n",
    "import pandas as pd\n",
    "from sklearn.linear_model import LinearRegression"
   ]
  },
  {
   "cell_type": "code",
   "execution_count": 2,
   "id": "a672a90b-f32a-4046-b3a7-b26bd0f98669",
   "metadata": {},
   "outputs": [],
   "source": [
    "#напишіть функцію гіпотези лінійної регресії у векторному вигляді;\n",
    "def h(X, w):\n",
    "    return np.dot(X, w)"
   ]
  },
  {
   "cell_type": "code",
   "execution_count": 3,
   "id": "ab4b7ac9-d5e9-4976-aa45-521d97b43094",
   "metadata": {},
   "outputs": [],
   "source": [
    "# створіть функцію для обчислення функції втрат у векторному вигляді;\n",
    "\n",
    "# def mse(w, X, Y):\n",
    "#     n = Y.shape[0]\n",
    "#     y_predicted = h(w, X)\n",
    "#     result = np.sum((y_predicted-Y)**2)/(2*n)\n",
    "#     return result\n",
    "\n",
    "def loss_function(X, y, w):\n",
    "    return np.square(h(X, w) - y).sum() / (2 * len(X))"
   ]
  },
  {
   "cell_type": "code",
   "execution_count": 4,
   "id": "a9e15106-7bd0-4176-8e75-6cd642764aea",
   "metadata": {},
   "outputs": [],
   "source": [
    "# реалізуйте один крок градієнтного спуску;\n",
    "def gradient_step(X, y, w, learning_rate):\n",
    "    m = len(y)\n",
    "    grad = (X.T @ (h(X, w) - y)) / m\n",
    "    w -= learning_rate * grad\n",
    "    return w"
   ]
  },
  {
   "cell_type": "code",
   "execution_count": 5,
   "id": "26d76ae7-3935-46dc-a45e-3d86a629addb",
   "metadata": {},
   "outputs": [],
   "source": [
    "# градієнт спуску\n",
    "\n",
    "def gradient(X, y, learning_rate, num_iter, eps):\n",
    "    ones = np.ones((X.shape[0], 1))\n",
    "    X = np.hstack((ones, X))\n",
    "\n",
    "    w = np.zeros(X.shape[1])  # Initialize weights\n",
    "\n",
    "    loss = loss_function(X, y, w)\n",
    "    loss_history = [loss]\n",
    "\n",
    "    for _ in range(num_iter):\n",
    "        w = gradient_step(X, y, w, learning_rate)\n",
    "\n",
    "        loss = loss_function(X, y, w)\n",
    "        if abs(loss - loss_history[-1]) < eps:\n",
    "            loss_history.append(loss)\n",
    "            break\n",
    "\n",
    "        loss_history.append(loss)\n",
    "\n",
    "    return w, loss_history\n",
    "    "
   ]
  },
  {
   "cell_type": "code",
   "execution_count": 6,
   "id": "eabc72ce-caed-4cfb-b9f8-6eb7199f8cff",
   "metadata": {},
   "outputs": [
    {
     "data": {
      "text/html": [
       "<div>\n",
       "<style scoped>\n",
       "    .dataframe tbody tr th:only-of-type {\n",
       "        vertical-align: middle;\n",
       "    }\n",
       "\n",
       "    .dataframe tbody tr th {\n",
       "        vertical-align: top;\n",
       "    }\n",
       "\n",
       "    .dataframe thead th {\n",
       "        text-align: right;\n",
       "    }\n",
       "</style>\n",
       "<table border=\"1\" class=\"dataframe\">\n",
       "  <thead>\n",
       "    <tr style=\"text-align: right;\">\n",
       "      <th></th>\n",
       "      <th>price</th>\n",
       "      <th>area</th>\n",
       "      <th>bedrooms</th>\n",
       "      <th>bathrooms</th>\n",
       "      <th>stories</th>\n",
       "      <th>mainroad</th>\n",
       "      <th>guestroom</th>\n",
       "      <th>basement</th>\n",
       "      <th>hotwaterheating</th>\n",
       "      <th>airconditioning</th>\n",
       "      <th>parking</th>\n",
       "      <th>prefarea</th>\n",
       "      <th>furnishingstatus</th>\n",
       "    </tr>\n",
       "  </thead>\n",
       "  <tbody>\n",
       "    <tr>\n",
       "      <th>0</th>\n",
       "      <td>13300000</td>\n",
       "      <td>7420</td>\n",
       "      <td>4</td>\n",
       "      <td>2</td>\n",
       "      <td>3</td>\n",
       "      <td>yes</td>\n",
       "      <td>no</td>\n",
       "      <td>no</td>\n",
       "      <td>no</td>\n",
       "      <td>yes</td>\n",
       "      <td>2</td>\n",
       "      <td>yes</td>\n",
       "      <td>furnished</td>\n",
       "    </tr>\n",
       "    <tr>\n",
       "      <th>1</th>\n",
       "      <td>12250000</td>\n",
       "      <td>8960</td>\n",
       "      <td>4</td>\n",
       "      <td>4</td>\n",
       "      <td>4</td>\n",
       "      <td>yes</td>\n",
       "      <td>no</td>\n",
       "      <td>no</td>\n",
       "      <td>no</td>\n",
       "      <td>yes</td>\n",
       "      <td>3</td>\n",
       "      <td>no</td>\n",
       "      <td>furnished</td>\n",
       "    </tr>\n",
       "    <tr>\n",
       "      <th>2</th>\n",
       "      <td>12250000</td>\n",
       "      <td>9960</td>\n",
       "      <td>3</td>\n",
       "      <td>2</td>\n",
       "      <td>2</td>\n",
       "      <td>yes</td>\n",
       "      <td>no</td>\n",
       "      <td>yes</td>\n",
       "      <td>no</td>\n",
       "      <td>no</td>\n",
       "      <td>2</td>\n",
       "      <td>yes</td>\n",
       "      <td>semi-furnished</td>\n",
       "    </tr>\n",
       "    <tr>\n",
       "      <th>3</th>\n",
       "      <td>12215000</td>\n",
       "      <td>7500</td>\n",
       "      <td>4</td>\n",
       "      <td>2</td>\n",
       "      <td>2</td>\n",
       "      <td>yes</td>\n",
       "      <td>no</td>\n",
       "      <td>yes</td>\n",
       "      <td>no</td>\n",
       "      <td>yes</td>\n",
       "      <td>3</td>\n",
       "      <td>yes</td>\n",
       "      <td>furnished</td>\n",
       "    </tr>\n",
       "    <tr>\n",
       "      <th>4</th>\n",
       "      <td>11410000</td>\n",
       "      <td>7420</td>\n",
       "      <td>4</td>\n",
       "      <td>1</td>\n",
       "      <td>2</td>\n",
       "      <td>yes</td>\n",
       "      <td>yes</td>\n",
       "      <td>yes</td>\n",
       "      <td>no</td>\n",
       "      <td>yes</td>\n",
       "      <td>2</td>\n",
       "      <td>no</td>\n",
       "      <td>furnished</td>\n",
       "    </tr>\n",
       "  </tbody>\n",
       "</table>\n",
       "</div>"
      ],
      "text/plain": [
       "      price  area  bedrooms  bathrooms  stories mainroad guestroom basement  \\\n",
       "0  13300000  7420         4          2        3      yes        no       no   \n",
       "1  12250000  8960         4          4        4      yes        no       no   \n",
       "2  12250000  9960         3          2        2      yes        no      yes   \n",
       "3  12215000  7500         4          2        2      yes        no      yes   \n",
       "4  11410000  7420         4          1        2      yes       yes      yes   \n",
       "\n",
       "  hotwaterheating airconditioning  parking prefarea furnishingstatus  \n",
       "0              no             yes        2      yes        furnished  \n",
       "1              no             yes        3       no        furnished  \n",
       "2              no              no        2      yes   semi-furnished  \n",
       "3              no             yes        3      yes        furnished  \n",
       "4              no             yes        2       no        furnished  "
      ]
     },
     "execution_count": 6,
     "metadata": {},
     "output_type": "execute_result"
    }
   ],
   "source": [
    "# знайдіть найкращі параметри $\\vec{w}$ для датасету прогнозуючу ціну на будинок\n",
    "# залежно від площі, кількості ванних кімнат та кількості спалень;\n",
    "df = pd.read_csv(\"Housing.csv\")\n",
    "df.head()"
   ]
  },
  {
   "cell_type": "code",
   "execution_count": 7,
   "id": "74b93507-1a78-4069-bc66-da2e454c8dc7",
   "metadata": {},
   "outputs": [],
   "source": [
    "\n",
    "norm = df.copy()\n",
    "columns = ['price', 'area', 'bedrooms', 'bathrooms']\n",
    "for column in columns[1:]:\n",
    "    norm[column] = (df[column] - df[column].mean()) / df[column].std()"
   ]
  },
  {
   "cell_type": "code",
   "execution_count": 8,
   "id": "43e1b0c5-d4b2-4426-880a-8953651c66c6",
   "metadata": {},
   "outputs": [],
   "source": [
    "X = norm[['area', 'bedrooms', 'bathrooms']].values\n",
    "y = norm['price'].values"
   ]
  },
  {
   "cell_type": "code",
   "execution_count": 9,
   "id": "1d6b1cf0-ee71-4a23-97f0-f093442d752e",
   "metadata": {},
   "outputs": [],
   "source": [
    "# Параметри градієнтного спуску\n",
    "learning_rate = 0.0001\n",
    "num_iter = 1000\n",
    "eps = 1e-12"
   ]
  },
  {
   "cell_type": "code",
   "execution_count": 10,
   "id": "7c24bc88-5a5e-45f6-8ed1-4b4a6fc4b01d",
   "metadata": {},
   "outputs": [
    {
     "name": "stdout",
     "output_type": "stream",
     "text": [
      "Gradient Descent - w: [453635.82969407  93909.53271809  62760.53401732  89903.119602  ]\n"
     ]
    }
   ],
   "source": [
    "# Градієнтний спуск\n",
    "w_gradient, loss_history = gradient(X, y, learning_rate, num_iter, eps)\n",
    "print('Gradient Descent - w:', w_gradient)"
   ]
  },
  {
   "cell_type": "code",
   "execution_count": 11,
   "id": "aea51869-ba1d-4607-b9c8-094aff3e239d",
   "metadata": {},
   "outputs": [
    {
     "name": "stdout",
     "output_type": "stream",
     "text": [
      "Analytical Solution - Optimal w: [4766729.24770642  821968.58935343  300259.16468032  696447.75898579]\n"
     ]
    }
   ],
   "source": [
    "# Аналітичний розв'язок\n",
    "ones = np.ones((X.shape[0], 1))\n",
    "X = np.hstack((ones, X))\n",
    "w_analytical = np.linalg.pinv(X.T @ X) @ X.T @ y\n",
    "print('Analytical Solution - Optimal w:', w_analytical)"
   ]
  },
  {
   "cell_type": "code",
   "execution_count": null,
   "id": "d9efc639-c0c4-437e-bf8e-5a0eeb6e16ab",
   "metadata": {},
   "outputs": [],
   "source": []
  }
 ],
 "metadata": {
  "kernelspec": {
   "display_name": "Python 3 (ipykernel)",
   "language": "python",
   "name": "python3"
  },
  "language_info": {
   "codemirror_mode": {
    "name": "ipython",
    "version": 3
   },
   "file_extension": ".py",
   "mimetype": "text/x-python",
   "name": "python",
   "nbconvert_exporter": "python",
   "pygments_lexer": "ipython3",
   "version": "3.10.8"
  }
 },
 "nbformat": 4,
 "nbformat_minor": 5
}
