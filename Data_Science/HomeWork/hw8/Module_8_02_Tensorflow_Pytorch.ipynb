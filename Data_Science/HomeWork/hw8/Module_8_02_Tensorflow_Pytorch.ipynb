{
 "cells": [
  {
   "cell_type": "markdown",
   "id": "188ce8b9-3d17-438e-ab76-993821256521",
   "metadata": {},
   "source": [
    "# Tensorflow\n",
    "\n",
    "- TensorFlow is an open-source library developed by Google specifically for Deep Learning.\n",
    "- uses a dedicated data type `Tensor`, that can be used directly in the construction and training of neural networks. Tensors in TensorFlow are the fundamental data structure used for representing multi-dimensional arrays.\n",
    "- TensorFlow has robust support for GPU acceleration, making it efficient for training deep learning models on GPUs."
   ]
  },
  {
   "cell_type": "markdown",
   "id": "d5aee21e-932d-4fbe-9512-07f2ac90b75f",
   "metadata": {},
   "source": [
    "## Installation\n",
    "\n",
    "https://www.tensorflow.org/install/pip#linux\n"
   ]
  },
  {
   "cell_type": "code",
   "execution_count": 1,
   "id": "280cfbf7-48f1-4f8d-9c84-082ae0443608",
   "metadata": {},
   "outputs": [],
   "source": [
    "import tensorflow as tf\n",
    "import numpy as np"
   ]
  },
  {
   "cell_type": "markdown",
   "id": "7698a560-bc90-4db3-8b84-a25e6c32e13c",
   "metadata": {},
   "source": [
    "### Check GPU support\n",
    "https://www.tensorflow.org/api_docs/python/tf/test/is_gpu_available"
   ]
  },
  {
   "cell_type": "code",
   "execution_count": 2,
   "id": "0836de66-b331-4607-8d6b-21d37999fcc8",
   "metadata": {},
   "outputs": [
    {
     "data": {
      "text/plain": [
       "True"
      ]
     },
     "execution_count": 2,
     "metadata": {},
     "output_type": "execute_result"
    }
   ],
   "source": [
    "tf.test.is_built_with_cuda()"
   ]
  },
  {
   "cell_type": "code",
   "execution_count": 3,
   "id": "e1969c25-70e7-4e2b-ada6-b615048f1669",
   "metadata": {},
   "outputs": [
    {
     "data": {
      "text/plain": [
       "[PhysicalDevice(name='/physical_device:GPU:0', device_type='GPU')]"
      ]
     },
     "execution_count": 3,
     "metadata": {},
     "output_type": "execute_result"
    }
   ],
   "source": [
    "tf.config.list_physical_devices('GPU')"
   ]
  },
  {
   "cell_type": "code",
   "execution_count": 5,
   "id": "eba4e63e",
   "metadata": {},
   "outputs": [
    {
     "data": {
      "text/plain": [
       "True"
      ]
     },
     "execution_count": 5,
     "metadata": {},
     "output_type": "execute_result"
    }
   ],
   "source": [
    "tf.test.is_built_with_gpu_support()"
   ]
  },
  {
   "cell_type": "code",
   "execution_count": 4,
   "id": "27d9e70b-eb71-4252-b245-de1ece2af89e",
   "metadata": {},
   "outputs": [],
   "source": [
    "# colab: https://colab.research.google.com/drive/1BhKRmnAx4KZsXazfl1oJ-NN7p1XYfUz9?hl=de#scrollTo=U_J4oYII3dMa"
   ]
  },
  {
   "cell_type": "markdown",
   "id": "42e528c3-db4a-40b8-ab9e-1600645c9e00",
   "metadata": {},
   "source": [
    "## Tensor: Constant vs. Variable\n",
    "\n",
    "- `tf.constant`/`tf.Tensor`: Constants are immutable, meaning their values cannot be changed after creation. Once you create a constant tensor, its value remains fixed throughout the execution of the program. Use them for example, if you have hyperparameters or fixed values that need to remain constant throughout the training process.\n",
    "- `tf.Variable`: Variables are mutable, and their values can be changed during the execution of the program. This makes variables suitable for situations where you need to update the values iteratively, such as in training neural network weights. Use variables when you want to represent trainable parameters in your model, like weights and biases in a neural network."
   ]
  },
  {
   "cell_type": "code",
   "execution_count": 6,
   "id": "42cb84e7-6698-406b-aad9-618b66ef0f75",
   "metadata": {},
   "outputs": [
    {
     "data": {
      "text/plain": [
       "<tf.Tensor: shape=(1, 2), dtype=float16, numpy=array([[1., 2.]], dtype=float16)>"
      ]
     },
     "execution_count": 6,
     "metadata": {},
     "output_type": "execute_result"
    }
   ],
   "source": [
    "x1 = tf.constant([[1.0, 2.0]], dtype=np.float16)\n",
    "x1"
   ]
  },
  {
   "cell_type": "code",
   "execution_count": 5,
   "id": "a64330f8-44fb-4ed7-bd24-12379b35efd5",
   "metadata": {},
   "outputs": [
    {
     "data": {
      "text/plain": [
       "array([[1., 2.]], dtype=float32)"
      ]
     },
     "execution_count": 5,
     "metadata": {},
     "output_type": "execute_result"
    }
   ],
   "source": [
    "x1.numpy()"
   ]
  },
  {
   "cell_type": "code",
   "execution_count": 8,
   "id": "b5651a0b-ad72-4259-89df-a474e253a771",
   "metadata": {},
   "outputs": [
    {
     "data": {
      "text/plain": [
       "<tf.Tensor: shape=(), dtype=float16, numpy=1.0>"
      ]
     },
     "execution_count": 8,
     "metadata": {},
     "output_type": "execute_result"
    }
   ],
   "source": [
    "x1[0][0]"
   ]
  },
  {
   "cell_type": "code",
   "execution_count": 10,
   "id": "d67b08fb-8dd6-4cfe-b511-60562ab60cc4",
   "metadata": {},
   "outputs": [
    {
     "data": {
      "text/plain": [
       "array([[2.],\n",
       "       [3.]], dtype=float32)"
      ]
     },
     "execution_count": 10,
     "metadata": {},
     "output_type": "execute_result"
    }
   ],
   "source": [
    "y1 = tf.convert_to_tensor([[2.0], [3.0]])\n",
    "y1.numpy()"
   ]
  },
  {
   "cell_type": "code",
   "execution_count": 11,
   "id": "c732b898-8bde-48a0-a11a-703dfd9d4e8c",
   "metadata": {},
   "outputs": [
    {
     "data": {
      "text/plain": [
       "<tf.Tensor: shape=(), dtype=float32, numpy=4.0>"
      ]
     },
     "execution_count": 11,
     "metadata": {},
     "output_type": "execute_result"
    }
   ],
   "source": [
    "b1 = tf.constant(4.0)\n",
    "b1"
   ]
  },
  {
   "cell_type": "code",
   "execution_count": 12,
   "id": "0d14e0b1-d83a-4a0e-9136-8e5bb19b69aa",
   "metadata": {},
   "outputs": [
    {
     "data": {
      "text/plain": [
       "<tf.Variable 'Variable:0' shape=() dtype=float32, numpy=4.0>"
      ]
     },
     "execution_count": 12,
     "metadata": {},
     "output_type": "execute_result"
    }
   ],
   "source": [
    "b1 = tf.Variable(4.0)\n",
    "b1"
   ]
  },
  {
   "cell_type": "code",
   "execution_count": 17,
   "id": "3fad1512-2f24-4602-8af1-ca4b43526552",
   "metadata": {},
   "outputs": [
    {
     "name": "stdout",
     "output_type": "stream",
     "text": [
      "[1 2 3]\n",
      "[4 5 6]\n"
     ]
    }
   ],
   "source": [
    "import tensorflow as tf\n",
    "\n",
    "# Using tf.constant\n",
    "constant_tensor = tf.constant([1, 2, 3])\n",
    "\n",
    "# Using tf.Variable\n",
    "variable_tensor = tf.Variable([1, 2, 3])\n",
    "\n",
    "# You can update the value of a tf.Variable\n",
    "variable_tensor.assign([4, 5, 6])\n",
    "\n",
    "# Accessing the values\n",
    "print(constant_tensor.numpy())  # Output: [1 2 3]\n",
    "print(variable_tensor.numpy())  # Output: [4 5 6]\n"
   ]
  },
  {
   "cell_type": "markdown",
   "id": "40ae508a-7f20-494e-b5c0-0292048bbcb2",
   "metadata": {},
   "source": [
    "## Eager vs. Graph execution / Інтерактивне (послідовне) виконання проти Графічного виконання\n",
    "\n",
    "https://www.tensorflow.org/guide/intro_to_graphs\n"
   ]
  },
  {
   "cell_type": "code",
   "execution_count": 18,
   "id": "c1481f91-ac26-40e7-8a8c-b0859f30b67a",
   "metadata": {},
   "outputs": [
    {
     "data": {
      "text/plain": [
       "True"
      ]
     },
     "execution_count": 18,
     "metadata": {},
     "output_type": "execute_result"
    }
   ],
   "source": [
    "# https://www.tensorflow.org/api_docs/python/tf/executing_eagerly\n",
    "# Default\n",
    "assert tf.multiply(6, 7).numpy() == 42\n",
    "tf.executing_eagerly()"
   ]
  },
  {
   "cell_type": "code",
   "execution_count": 19,
   "id": "c6798fe5-be1c-4ef1-819b-014dab1c974f",
   "metadata": {},
   "outputs": [
    {
     "name": "stdout",
     "output_type": "stream",
     "text": [
      "Eager execution in a simple Python function: True\n"
     ]
    },
    {
     "data": {
      "text/plain": [
       "42"
      ]
     },
     "execution_count": 19,
     "metadata": {},
     "output_type": "execute_result"
    }
   ],
   "source": [
    "# Simple Python function\n",
    "def fn():\n",
    "    print(\"Eager execution in a simple Python function:\", tf.executing_eagerly())\n",
    "    return tf.multiply(6, 7).numpy()\n",
    "fn()"
   ]
  },
  {
   "cell_type": "code",
   "execution_count": 22,
   "id": "9901c60f-415c-45bf-998c-7b5cec0dfffa",
   "metadata": {},
   "outputs": [
    {
     "name": "stdout",
     "output_type": "stream",
     "text": [
      "Eager execution outside of the graph: True\n",
      "Eager execution inside of the graph: False\n"
     ]
    },
    {
     "data": {
      "text/plain": [
       "42"
      ]
     },
     "execution_count": 22,
     "metadata": {},
     "output_type": "execute_result"
    }
   ],
   "source": [
    "tf.config.run_functions_eagerly(False)  # Default behaviour\n",
    "\n",
    "@tf.function  # Compiles a function into a callable TensorFlow graph (https://www.tensorflow.org/api_docs/python/tf/function)\n",
    "def fn_graph():\n",
    "    with tf.init_scope():  # context manager, moves clause out of the graph\n",
    "        print(\"Eager execution outside of the graph:\", tf.executing_eagerly())  # outside of the graph\n",
    "    print(\"Eager execution inside of the graph:\", tf.executing_eagerly())  # inside of the graph\n",
    "    return tf.multiply(6, 7)#.numpy()\n",
    "fn_graph().numpy()"
   ]
  },
  {
   "cell_type": "code",
   "execution_count": 23,
   "id": "67df8ae0-ea29-4020-bf06-a68dad65c067",
   "metadata": {},
   "outputs": [
    {
     "data": {
      "text/plain": [
       "<tf.Tensor: shape=(), dtype=int32, numpy=42>"
      ]
     },
     "execution_count": 23,
     "metadata": {},
     "output_type": "execute_result"
    }
   ],
   "source": [
    "fn_graph()"
   ]
  },
  {
   "cell_type": "code",
   "execution_count": 24,
   "id": "ca863f40-a19c-45b8-be00-15b01bb372fe",
   "metadata": {},
   "outputs": [
    {
     "name": "stdout",
     "output_type": "stream",
     "text": [
      "Eager execution outside of the graph: True\n",
      "Eager execution inside of the graph: True\n"
     ]
    },
    {
     "data": {
      "text/plain": [
       "42"
      ]
     },
     "execution_count": 24,
     "metadata": {},
     "output_type": "execute_result"
    }
   ],
   "source": [
    "tf.config.run_functions_eagerly(True)\n",
    "\n",
    "@tf.function  # Compiles a function into a callable TensorFlow graph (https://www.tensorflow.org/api_docs/python/tf/function)\n",
    "def fn_eager():\n",
    "    with tf.init_scope():  # context manager, moves clause out of the graph\n",
    "        print(\"Eager execution outside of the graph:\", tf.executing_eagerly())  # outside of the graph\n",
    "    print(\"Eager execution inside of the graph:\", tf.executing_eagerly())  # inside of the graph\n",
    "    return tf.multiply(6, 7).numpy()\n",
    "fn_eager()"
   ]
  },
  {
   "cell_type": "code",
   "execution_count": 25,
   "id": "38a989e7-4ab5-4507-b938-f2072c1b9d3b",
   "metadata": {},
   "outputs": [
    {
     "name": "stdout",
     "output_type": "stream",
     "text": [
      "Eager execution outside of the graph: True\n",
      "Eager execution inside of the graph: True\n"
     ]
    },
    {
     "ename": "AttributeError",
     "evalue": "'numpy.int32' object has no attribute 'graph'",
     "output_type": "error",
     "traceback": [
      "\u001b[0;31m---------------------------------------------------------------------------\u001b[0m",
      "\u001b[0;31mAttributeError\u001b[0m                            Traceback (most recent call last)",
      "Cell \u001b[0;32mIn[25], line 1\u001b[0m\n\u001b[0;32m----> 1\u001b[0m \u001b[43mfn_eager\u001b[49m\u001b[43m(\u001b[49m\u001b[43m)\u001b[49m\u001b[38;5;241;43m.\u001b[39;49m\u001b[43mgraph\u001b[49m()\n",
      "\u001b[0;31mAttributeError\u001b[0m: 'numpy.int32' object has no attribute 'graph'"
     ]
    }
   ],
   "source": [
    "fn_eager().graph()"
   ]
  },
  {
   "cell_type": "code",
   "execution_count": 26,
   "id": "bb2febe9-e802-4381-a21f-91e4a12d9f84",
   "metadata": {},
   "outputs": [],
   "source": [
    "# Switch to graph execution by default\n",
    "tf.compat.v1.disable_eager_execution()"
   ]
  },
  {
   "cell_type": "code",
   "execution_count": 27,
   "id": "ab239e2e-e1d4-4987-ad55-69f9d10aa7b9",
   "metadata": {},
   "outputs": [
    {
     "name": "stdout",
     "output_type": "stream",
     "text": [
      "Eager execution outside of the graph: False\n",
      "Eager execution inside of the graph: False\n"
     ]
    },
    {
     "ename": "AttributeError",
     "evalue": "'SymbolicTensor' object has no attribute 'numpy'",
     "output_type": "error",
     "traceback": [
      "\u001b[0;31m---------------------------------------------------------------------------\u001b[0m",
      "\u001b[0;31mAttributeError\u001b[0m                            Traceback (most recent call last)",
      "Cell \u001b[0;32mIn[27], line 1\u001b[0m\n\u001b[0;32m----> 1\u001b[0m \u001b[43mfn_eager\u001b[49m\u001b[43m(\u001b[49m\u001b[43m)\u001b[49m  \u001b[38;5;66;03m# -> no eager execution anymore\u001b[39;00m\n",
      "File \u001b[0;32m~/miniconda3/envs/python_data_env/lib/python3.11/site-packages/tensorflow/python/util/traceback_utils.py:153\u001b[0m, in \u001b[0;36mfilter_traceback.<locals>.error_handler\u001b[0;34m(*args, **kwargs)\u001b[0m\n\u001b[1;32m    151\u001b[0m \u001b[38;5;28;01mexcept\u001b[39;00m \u001b[38;5;167;01mException\u001b[39;00m \u001b[38;5;28;01mas\u001b[39;00m e:\n\u001b[1;32m    152\u001b[0m   filtered_tb \u001b[38;5;241m=\u001b[39m _process_traceback_frames(e\u001b[38;5;241m.\u001b[39m__traceback__)\n\u001b[0;32m--> 153\u001b[0m   \u001b[38;5;28;01mraise\u001b[39;00m e\u001b[38;5;241m.\u001b[39mwith_traceback(filtered_tb) \u001b[38;5;28;01mfrom\u001b[39;00m \u001b[38;5;28;01mNone\u001b[39;00m\n\u001b[1;32m    154\u001b[0m \u001b[38;5;28;01mfinally\u001b[39;00m:\n\u001b[1;32m    155\u001b[0m   \u001b[38;5;28;01mdel\u001b[39;00m filtered_tb\n",
      "Cell \u001b[0;32mIn[24], line 7\u001b[0m, in \u001b[0;36mfn_eager\u001b[0;34m()\u001b[0m\n\u001b[1;32m      5\u001b[0m     \u001b[38;5;28mprint\u001b[39m(\u001b[38;5;124m\"\u001b[39m\u001b[38;5;124mEager execution outside of the graph:\u001b[39m\u001b[38;5;124m\"\u001b[39m, tf\u001b[38;5;241m.\u001b[39mexecuting_eagerly())  \u001b[38;5;66;03m# outside of the graph\u001b[39;00m\n\u001b[1;32m      6\u001b[0m \u001b[38;5;28mprint\u001b[39m(\u001b[38;5;124m\"\u001b[39m\u001b[38;5;124mEager execution inside of the graph:\u001b[39m\u001b[38;5;124m\"\u001b[39m, tf\u001b[38;5;241m.\u001b[39mexecuting_eagerly())  \u001b[38;5;66;03m# inside of the graph\u001b[39;00m\n\u001b[0;32m----> 7\u001b[0m \u001b[38;5;28;01mreturn\u001b[39;00m \u001b[43mtf\u001b[49m\u001b[38;5;241;43m.\u001b[39;49m\u001b[43mmultiply\u001b[49m\u001b[43m(\u001b[49m\u001b[38;5;241;43m6\u001b[39;49m\u001b[43m,\u001b[49m\u001b[43m \u001b[49m\u001b[38;5;241;43m7\u001b[39;49m\u001b[43m)\u001b[49m\u001b[38;5;241;43m.\u001b[39;49m\u001b[43mnumpy\u001b[49m()\n",
      "\u001b[0;31mAttributeError\u001b[0m: 'SymbolicTensor' object has no attribute 'numpy'"
     ]
    }
   ],
   "source": [
    "fn_eager()  # -> no eager execution anymore"
   ]
  },
  {
   "cell_type": "code",
   "execution_count": 28,
   "id": "19c6b70f-7db4-4927-b346-f9bdace3b27a",
   "metadata": {},
   "outputs": [
    {
     "name": "stdout",
     "output_type": "stream",
     "text": [
      "Eager execution in a simple Python function: False\n"
     ]
    }
   ],
   "source": [
    "def fn():\n",
    "    print(\"Eager execution in a simple Python function:\", tf.executing_eagerly())\n",
    "fn()"
   ]
  },
  {
   "cell_type": "code",
   "execution_count": 29,
   "id": "3a9389cf-6db8-4979-8a30-094b5d6983b4",
   "metadata": {},
   "outputs": [
    {
     "ename": "ValueError",
     "evalue": "tf.enable_eager_execution must be called at program startup.",
     "output_type": "error",
     "traceback": [
      "\u001b[0;31m---------------------------------------------------------------------------\u001b[0m",
      "\u001b[0;31mValueError\u001b[0m                                Traceback (most recent call last)",
      "Cell \u001b[0;32mIn[29], line 1\u001b[0m\n\u001b[0;32m----> 1\u001b[0m \u001b[43mtf\u001b[49m\u001b[38;5;241;43m.\u001b[39;49m\u001b[43mcompat\u001b[49m\u001b[38;5;241;43m.\u001b[39;49m\u001b[43mv1\u001b[49m\u001b[38;5;241;43m.\u001b[39;49m\u001b[43menable_eager_execution\u001b[49m\u001b[43m(\u001b[49m\u001b[43m)\u001b[49m\n\u001b[1;32m      2\u001b[0m \u001b[38;5;28;01mdef\u001b[39;00m \u001b[38;5;21mfn\u001b[39m():\n\u001b[1;32m      3\u001b[0m   \u001b[38;5;28mprint\u001b[39m(\u001b[38;5;124m\"\u001b[39m\u001b[38;5;124mEager execution in a simple Python function:\u001b[39m\u001b[38;5;124m\"\u001b[39m, tf\u001b[38;5;241m.\u001b[39mexecuting_eagerly())\n",
      "File \u001b[0;32m~/miniconda3/envs/python_data_env/lib/python3.11/site-packages/tensorflow/python/framework/ops.py:4856\u001b[0m, in \u001b[0;36menable_eager_execution\u001b[0;34m(config, device_policy, execution_mode)\u001b[0m\n\u001b[1;32m   4854\u001b[0m logging\u001b[38;5;241m.\u001b[39mvlog(\u001b[38;5;241m1\u001b[39m, \u001b[38;5;124m\"\u001b[39m\u001b[38;5;124mEnabling eager execution\u001b[39m\u001b[38;5;124m\"\u001b[39m)\n\u001b[1;32m   4855\u001b[0m \u001b[38;5;28;01mif\u001b[39;00m context\u001b[38;5;241m.\u001b[39mdefault_execution_mode \u001b[38;5;241m!=\u001b[39m context\u001b[38;5;241m.\u001b[39mEAGER_MODE:\n\u001b[0;32m-> 4856\u001b[0m   \u001b[38;5;28;01mreturn\u001b[39;00m \u001b[43menable_eager_execution_internal\u001b[49m\u001b[43m(\u001b[49m\n\u001b[1;32m   4857\u001b[0m \u001b[43m      \u001b[49m\u001b[43mconfig\u001b[49m\u001b[38;5;241;43m=\u001b[39;49m\u001b[43mconfig\u001b[49m\u001b[43m,\u001b[49m\n\u001b[1;32m   4858\u001b[0m \u001b[43m      \u001b[49m\u001b[43mdevice_policy\u001b[49m\u001b[38;5;241;43m=\u001b[39;49m\u001b[43mdevice_policy\u001b[49m\u001b[43m,\u001b[49m\n\u001b[1;32m   4859\u001b[0m \u001b[43m      \u001b[49m\u001b[43mexecution_mode\u001b[49m\u001b[38;5;241;43m=\u001b[39;49m\u001b[43mexecution_mode\u001b[49m\u001b[43m,\u001b[49m\n\u001b[1;32m   4860\u001b[0m \u001b[43m      \u001b[49m\u001b[43mserver_def\u001b[49m\u001b[38;5;241;43m=\u001b[39;49m\u001b[38;5;28;43;01mNone\u001b[39;49;00m\u001b[43m)\u001b[49m\n",
      "File \u001b[0;32m~/miniconda3/envs/python_data_env/lib/python3.11/site-packages/tensorflow/python/framework/ops.py:4920\u001b[0m, in \u001b[0;36menable_eager_execution_internal\u001b[0;34m(config, device_policy, execution_mode, server_def)\u001b[0m\n\u001b[1;32m   4917\u001b[0m   graph_mode_has_been_used \u001b[38;5;241m=\u001b[39m (\n\u001b[1;32m   4918\u001b[0m       _default_graph_stack\u001b[38;5;241m.\u001b[39m_global_default_graph \u001b[38;5;129;01mis\u001b[39;00m \u001b[38;5;129;01mnot\u001b[39;00m \u001b[38;5;28;01mNone\u001b[39;00m)  \u001b[38;5;66;03m# pylint: disable=protected-access\u001b[39;00m\n\u001b[1;32m   4919\u001b[0m   \u001b[38;5;28;01mif\u001b[39;00m graph_mode_has_been_used:\n\u001b[0;32m-> 4920\u001b[0m     \u001b[38;5;28;01mraise\u001b[39;00m \u001b[38;5;167;01mValueError\u001b[39;00m(\n\u001b[1;32m   4921\u001b[0m         \u001b[38;5;124m\"\u001b[39m\u001b[38;5;124mtf.enable_eager_execution must be called at program startup.\u001b[39m\u001b[38;5;124m\"\u001b[39m)\n\u001b[1;32m   4922\u001b[0m context\u001b[38;5;241m.\u001b[39mdefault_execution_mode \u001b[38;5;241m=\u001b[39m context\u001b[38;5;241m.\u001b[39mEAGER_MODE\n\u001b[1;32m   4923\u001b[0m \u001b[38;5;66;03m# pylint: disable=protected-access\u001b[39;00m\n",
      "\u001b[0;31mValueError\u001b[0m: tf.enable_eager_execution must be called at program startup."
     ]
    }
   ],
   "source": [
    "tf.compat.v1.enable_eager_execution()\n",
    "def fn():\n",
    "  print(\"Eager execution in a simple Python function:\", tf.executing_eagerly())\n",
    "fn()\n",
    "\n",
    "# Eager execution cannot be enabled after TensorFlow APIs have been used to\n",
    "# create or execute graphs. It is typically recommended to invoke this function\n",
    "# at program startup and not in a library (as most libraries should be usable\n",
    "# both with and without eager execution)."
   ]
  },
  {
   "cell_type": "markdown",
   "id": "717ec0cf-3c2b-4094-bdab-0c9dbe8a3164",
   "metadata": {},
   "source": [
    "*When to choose what?*\n",
    "\n",
    "__Eager__ execution:\n",
    "- if you are experimenting and debugging is important\n",
    "- if you have *a few* computationally *expensive* operations\n",
    "\n",
    "__Graph__ execution:\n",
    "- If you need to optimize your code when you have *many operations* which are in itself not necessarily heavy\n",
    "\n",
    "*Good practice*:\n",
    "- use `@tf.function` decorator to define your functions and switch on the option `tf.config.run_functions_eagerly(True)` when debugging to be able to turn it to `False` otherwise if needed."
   ]
  },
  {
   "cell_type": "markdown",
   "id": "14bd5ccd-14b3-4fb5-9a50-cb588e583626",
   "metadata": {},
   "source": [
    "## Computational graph / обчислювальний граф\n",
    "\n",
    "https://www.tensorflow.org/guide/intro_to_graphs"
   ]
  },
  {
   "cell_type": "code",
   "execution_count": 3,
   "id": "f32abcc6-ef3f-462c-976e-41c9591d5991",
   "metadata": {},
   "outputs": [
    {
     "data": {
      "text/plain": [
       "array([[ True]])"
      ]
     },
     "execution_count": 3,
     "metadata": {},
     "output_type": "execute_result"
    }
   ],
   "source": [
    "import tensorflow as tf\n",
    "\n",
    "\n",
    "def formula(x: tf.Tensor, y: tf.Tensor, b: tf.Tensor):\n",
    "    x = tf.matmul(x, y)\n",
    "    x = x + b\n",
    "    return x\n",
    "\n",
    "\n",
    "function_that_uses_a_graph = tf.function(formula)\n",
    "\n",
    "x1 = tf.constant([[1.0, 2.0]])\n",
    "y1 = tf.constant([[2.0], [3.0]])\n",
    "b1 = tf.constant(4.0)\n",
    "\n",
    "orig_value = formula(x1, y1, b1).numpy()\n",
    "tf_function_value = function_that_uses_a_graph(x1, y1, b1).numpy()\n",
    "\n",
    "orig_value == tf_function_value"
   ]
  },
  {
   "cell_type": "code",
   "execution_count": 4,
   "id": "bbc81102-6170-4bf7-b1af-ef0db219381e",
   "metadata": {},
   "outputs": [
    {
     "data": {
      "text/plain": [
       "array([[8.]], dtype=float32)"
      ]
     },
     "execution_count": 4,
     "metadata": {},
     "output_type": "execute_result"
    }
   ],
   "source": [
    "def my_func(x, y):\n",
    "  # A simple hand-rolled layer.\n",
    "  return tf.nn.relu(tf.matmul(x, y))\n",
    "\n",
    "my_func_tf = tf.function(my_func)\n",
    "\n",
    "my_func_tf(x=x1, y=y1).numpy()"
   ]
  },
  {
   "cell_type": "code",
   "execution_count": 6,
   "id": "40976d22-8496-45c9-811a-c30b05c82104",
   "metadata": {},
   "outputs": [
    {
     "name": "stdout",
     "output_type": "stream",
     "text": [
      "def tf__my_func(x, y):\n",
      "    with ag__.FunctionScope('my_func', 'fscope', ag__.ConversionOptions(recursive=True, user_requested=True, optional_features=(), internal_convert_user_code=True)) as fscope:\n",
      "        do_return = False\n",
      "        retval_ = ag__.UndefinedReturnValue()\n",
      "        try:\n",
      "            do_return = True\n",
      "            retval_ = ag__.converted_call(ag__.ld(tf).nn.relu, (ag__.converted_call(ag__.ld(tf).matmul, (ag__.ld(x), ag__.ld(y)), None, fscope),), None, fscope)\n",
      "        except:\n",
      "            do_return = False\n",
      "            raise\n",
      "        return fscope.ret(retval_, do_return)\n",
      "\n"
     ]
    }
   ],
   "source": [
    "# This is the graph-generating output of AutoGraph.\n",
    "print(tf.autograph.to_code(my_func_tf.python_function))"
   ]
  },
  {
   "cell_type": "code",
   "execution_count": 7,
   "id": "1f3abd3e-e983-459b-ae16-c849ad86ba40",
   "metadata": {},
   "outputs": [
    {
     "name": "stdout",
     "output_type": "stream",
     "text": [
      "node {\n",
      "  name: \"x\"\n",
      "  op: \"Placeholder\"\n",
      "  attr {\n",
      "    key: \"shape\"\n",
      "    value {\n",
      "      shape {\n",
      "        dim {\n",
      "          size: 1\n",
      "        }\n",
      "        dim {\n",
      "          size: 2\n",
      "        }\n",
      "      }\n",
      "    }\n",
      "  }\n",
      "  attr {\n",
      "    key: \"dtype\"\n",
      "    value {\n",
      "      type: DT_FLOAT\n",
      "    }\n",
      "  }\n",
      "  attr {\n",
      "    key: \"_user_specified_name\"\n",
      "    value {\n",
      "      s: \"x\"\n",
      "    }\n",
      "  }\n",
      "}\n",
      "node {\n",
      "  name: \"y\"\n",
      "  op: \"Placeholder\"\n",
      "  attr {\n",
      "    key: \"shape\"\n",
      "    value {\n",
      "      shape {\n",
      "        dim {\n",
      "          size: 2\n",
      "        }\n",
      "        dim {\n",
      "          size: 1\n",
      "        }\n",
      "      }\n",
      "    }\n",
      "  }\n",
      "  attr {\n",
      "    key: \"dtype\"\n",
      "    value {\n",
      "      type: DT_FLOAT\n",
      "    }\n",
      "  }\n",
      "  attr {\n",
      "    key: \"_user_specified_name\"\n",
      "    value {\n",
      "      s: \"y\"\n",
      "    }\n",
      "  }\n",
      "}\n",
      "node {\n",
      "  name: \"MatMul\"\n",
      "  op: \"MatMul\"\n",
      "  input: \"x\"\n",
      "  input: \"y\"\n",
      "  attr {\n",
      "    key: \"transpose_b\"\n",
      "    value {\n",
      "      b: false\n",
      "    }\n",
      "  }\n",
      "  attr {\n",
      "    key: \"transpose_a\"\n",
      "    value {\n",
      "      b: false\n",
      "    }\n",
      "  }\n",
      "  attr {\n",
      "    key: \"T\"\n",
      "    value {\n",
      "      type: DT_FLOAT\n",
      "    }\n",
      "  }\n",
      "}\n",
      "node {\n",
      "  name: \"Relu\"\n",
      "  op: \"Relu\"\n",
      "  input: \"MatMul\"\n",
      "  attr {\n",
      "    key: \"T\"\n",
      "    value {\n",
      "      type: DT_FLOAT\n",
      "    }\n",
      "  }\n",
      "}\n",
      "node {\n",
      "  name: \"Identity\"\n",
      "  op: \"Identity\"\n",
      "  input: \"Relu\"\n",
      "  attr {\n",
      "    key: \"T\"\n",
      "    value {\n",
      "      type: DT_FLOAT\n",
      "    }\n",
      "  }\n",
      "}\n",
      "versions {\n",
      "  producer: 1645\n",
      "}\n",
      "\n"
     ]
    }
   ],
   "source": [
    "# This is the graph itself.\n",
    "print(my_func_tf.get_concrete_function(x1, y1).graph.as_graph_def())"
   ]
  },
  {
   "cell_type": "markdown",
   "id": "e68b283b-fc9a-4de6-b184-d8d091b2fafe",
   "metadata": {},
   "source": [
    "https://www.tensorflow.org/tensorboard/graphs#graphs_of_tffunctions"
   ]
  },
  {
   "cell_type": "code",
   "execution_count": 10,
   "id": "0f6df4fe-56aa-4a47-8bfb-f718a0c3c835",
   "metadata": {},
   "outputs": [
    {
     "name": "stdout",
     "output_type": "stream",
     "text": [
      "WARNING:tensorflow:From /Users/nataliakees/miniconda3/envs/python_data_env/lib/python3.11/site-packages/tensorflow/python/ops/summary_ops_v2.py:1369: start (from tensorflow.python.eager.profiler) is deprecated and will be removed after 2020-07-01.\n",
      "Instructions for updating:\n",
      "use `tf.profiler.experimental.start` instead.\n",
      "WARNING:tensorflow:From /Users/nataliakees/miniconda3/envs/python_data_env/lib/python3.11/site-packages/tensorflow/python/ops/summary_ops_v2.py:1420: stop (from tensorflow.python.eager.profiler) is deprecated and will be removed after 2020-07-01.\n",
      "Instructions for updating:\n",
      "use `tf.profiler.experimental.stop` instead.\n",
      "WARNING:tensorflow:From /Users/nataliakees/miniconda3/envs/python_data_env/lib/python3.11/site-packages/tensorflow/python/ops/summary_ops_v2.py:1420: save (from tensorflow.python.eager.profiler) is deprecated and will be removed after 2020-07-01.\n",
      "Instructions for updating:\n",
      "`tf.python.eager.profiler` has deprecated, use `tf.profiler` instead.\n",
      "WARNING:tensorflow:From /Users/nataliakees/miniconda3/envs/python_data_env/lib/python3.11/site-packages/tensorflow/python/eager/profiler.py:150: maybe_create_event_file (from tensorflow.python.eager.profiler) is deprecated and will be removed after 2020-07-01.\n",
      "Instructions for updating:\n",
      "`tf.python.eager.profiler` has deprecated, use `tf.profiler` instead.\n"
     ]
    },
    {
     "name": "stderr",
     "output_type": "stream",
     "text": [
      "2024-01-24 19:29:24.778593: I external/local_tsl/tsl/profiler/lib/profiler_session.cc:104] Profiler session initializing.\n",
      "2024-01-24 19:29:24.778618: I external/local_tsl/tsl/profiler/lib/profiler_session.cc:119] Profiler session started.\n",
      "2024-01-24 19:29:24.812761: I external/local_tsl/tsl/profiler/lib/profiler_session.cc:70] Profiler session collecting data.\n",
      "2024-01-24 19:29:24.813346: I external/local_tsl/tsl/profiler/lib/profiler_session.cc:131] Profiler session tear down.\n"
     ]
    }
   ],
   "source": [
    "# The function to be traced.\n",
    "from datetime import datetime\n",
    "\n",
    "@tf.function\n",
    "def my_func(x, y):\n",
    "  # A simple hand-rolled layer.\n",
    "  return tf.nn.relu(tf.matmul(x, y))\n",
    "\n",
    "# Set up logging.\n",
    "stamp = datetime.now().strftime(\"%Y%m%d-%H%M%S\")\n",
    "logdir = 'logs/func/%s' % stamp\n",
    "writer = tf.summary.create_file_writer(logdir)\n",
    "\n",
    "# Sample data for your function.\n",
    "x = tf.random.uniform((3, 3))\n",
    "y = tf.random.uniform((3, 3))\n",
    "\n",
    "# Bracket the function call with\n",
    "# tf.summary.trace_on() and tf.summary.trace_export().\n",
    "tf.summary.trace_on(graph=True, profiler=True)\n",
    "# Call only one tf.function when tracing.\n",
    "z = my_func(x, y)\n",
    "with writer.as_default():\n",
    "  tf.summary.trace_export(\n",
    "      name=\"my_func_trace\",\n",
    "      step=0,\n",
    "      profiler_outdir=logdir)"
   ]
  },
  {
   "cell_type": "markdown",
   "id": "f364bec8-8660-47c9-9380-ef9419247a6a",
   "metadata": {},
   "source": [
    "Швидкість виконання графа в TensorFlow порівняно з інтерактивним виконанням в основному залежить від наступних факторів:\n",
    "\n",
    "- Оптимізація графа:\n",
    "Під час виконання графа TensorFlow може оптимізувати та перетворювати граф обчислень перед його виконанням. Цей процес оптимізації може включати усунення спільних підвиразів, складання констант та інші оптимізації на рівні графа.\n",
    "- Розміщення пристроїв та паралельне виконання:\n",
    "Графічне виконання TensorFlow дозволяє ефективно розміщувати пристрої та виконувати обчислення паралельно. Граф обчислень може бути розділений на підграфи, які можуть виконуватися паралельно на кількох пристроях, таких як GPU або TPU.\n",
    "- Компіляція у прискорений код:\n",
    "Коли використовується графічне виконання, TensorFlow має можливість компілювати граф обчислень в більш оптимізовану форму на низькому рівні, специфічні для певного обладнання. \n",
    "- Зменшення накладень Python:\n",
    "Інтерактивне виконання включає в себе виконання операцій імперативно, що означає, що кожна операція виконується негайно в Python. Це може вводити накладення Python та обмежувати можливості оптимізації. На відміну від цього, під час графічного виконання граф будується та оптимізується перед виконанням, що зменшує необхідність у частих взаємодіях із інтерпретатором Python."
   ]
  },
  {
   "cell_type": "code",
   "execution_count": 11,
   "id": "22ba998c-41c3-456a-aa57-8ed624bc67e1",
   "metadata": {},
   "outputs": [
    {
     "name": "stdout",
     "output_type": "stream",
     "text": [
      "Eager execution: 2.5886919159966055 seconds\n"
     ]
    }
   ],
   "source": [
    "import timeit\n",
    "x = tf.random.uniform(shape=[10, 10], minval=-1, maxval=2, dtype=tf.dtypes.int32)\n",
    "\n",
    "def power(x, y):\n",
    "  result = tf.eye(10, dtype=tf.dtypes.int32)\n",
    "  for _ in range(y):\n",
    "    result = tf.matmul(x, result)\n",
    "  return result\n",
    "\n",
    "print(\"Eager execution:\", timeit.timeit(lambda: power(x, 100), number=1000), \"seconds\")"
   ]
  },
  {
   "cell_type": "code",
   "execution_count": 12,
   "id": "46f1460a-4119-48a5-9f51-d10773a9428c",
   "metadata": {},
   "outputs": [
    {
     "name": "stdout",
     "output_type": "stream",
     "text": [
      "Graph execution: 0.337096333008958 seconds\n"
     ]
    }
   ],
   "source": [
    "power_as_graph = tf.function(power)\n",
    "print(\"Graph execution:\", timeit.timeit(lambda: power_as_graph(x, 100), number=1000), \"seconds\")"
   ]
  },
  {
   "cell_type": "markdown",
   "id": "aa6bbbb0-c2bf-4f8d-b1d5-de7bb6cafb77",
   "metadata": {},
   "source": [
    "## Automatic differentiation / автоматичне визначення похідної"
   ]
  },
  {
   "cell_type": "code",
   "execution_count": 13,
   "id": "20dba2f1-502d-4356-b40c-28ae2c58d48e",
   "metadata": {},
   "outputs": [
    {
     "name": "stdout",
     "output_type": "stream",
     "text": [
      "tf.Tensor(0.104993574, shape=(), dtype=float32)\n"
     ]
    }
   ],
   "source": [
    "import tensorflow as tf\n",
    "\n",
    "def sigmoid(x):\n",
    "    return 1 / (1 + tf.exp(-x))\n",
    "\n",
    "x = tf.Variable(2.0)\n",
    "with tf.GradientTape() as tape:\n",
    "    y = sigmoid(x)\n",
    "    dydx = tape.gradient(y, x)\n",
    "    print(dydx)"
   ]
  },
  {
   "cell_type": "code",
   "execution_count": 15,
   "id": "b9084abd-2992-422d-a8d7-c6466aa10d90",
   "metadata": {},
   "outputs": [
    {
     "data": {
      "image/png": "[encoded data removed]",
      "text/plain": [
       "<Figure size 640x480 with 1 Axes>"
      ]
     },
     "metadata": {},
     "output_type": "display_data"
    }
   ],
   "source": [
    "import matplotlib.pyplot as plt\n",
    "# Define the input range\n",
    "x_values = np.linspace(-5, 5, 1000)\n",
    "y_values = sigmoid(x_values)\n",
    "\n",
    "# Tangent line equation: y = f'(x) * (x - x0) + f(x0)\n",
    "tangent_line = dydx * (x_values - x) + y\n",
    "\n",
    "# Plot the function and its tangent line\n",
    "plt.plot(x_values, y_values, label='Original Function')\n",
    "plt.plot(x_values, tangent_line, label='Tangent Line at x={}'.format(x), linestyle='--')\n",
    "plt.scatter(x, y, color='red')  # Mark the point on the function\n",
    "plt.show()"
   ]
  },
  {
   "cell_type": "markdown",
   "id": "d8411d29-24e6-4919-b703-b0701053a610",
   "metadata": {},
   "source": [
    "## Simple Neural Network"
   ]
  },
  {
   "cell_type": "code",
   "execution_count": 17,
   "id": "d75011d2-9b84-47e1-8c92-643eeca0cc32",
   "metadata": {},
   "outputs": [
    {
     "data": {
      "text/plain": [
       "30.0"
      ]
     },
     "execution_count": 17,
     "metadata": {},
     "output_type": "execute_result"
    }
   ],
   "source": [
    "import tensorflow as tf\n",
    "\n",
    "# y = w1*x + b\n",
    "# y = 5*x + 5\n",
    "class SimpleModule(tf.Module):\n",
    "    def __init__(self, name=None):\n",
    "        super().__init__(name=name)\n",
    "        self.w = tf.Variable(5.0)\n",
    "        self.b = tf.Variable(5.0)\n",
    "\n",
    "    def __call__(self, x):\n",
    "        return self.w * x + self.b\n",
    "\n",
    "\n",
    "simple_module = SimpleModule(name=\"simple\")\n",
    "simple_module(tf.constant(5.0)).numpy()"
   ]
  },
  {
   "cell_type": "markdown",
   "id": "5b21627b-94a2-40ec-8b45-bbe9ffa1478a",
   "metadata": {},
   "source": [
    "## Neural network (Perceptron / перцептрон)\n",
    "<img src=\"https://upload.wikimedia.org/wikipedia/commons/thumb/6/61/Colored_neural_network_uk.svg/1280px-Colored_neural_network_uk.svg.png\" alt=\"drawing\" width=\"400\"/>"
   ]
  },
  {
   "cell_type": "code",
   "execution_count": 21,
   "id": "efea2490-d632-4d8b-960d-d0f3f59c0bb0",
   "metadata": {},
   "outputs": [],
   "source": [
    "class DenseLayer(tf.Module):\n",
    "    def __init__(self, in_features, out_features, name=None):\n",
    "        super().__init__(name=name)\n",
    "        self.w = tf.Variable(\n",
    "            tf.random.normal([in_features, out_features]), name=\"w\"\n",
    "        )\n",
    "        # print(self.w)\n",
    "        self.b = tf.Variable(tf.zeros([out_features]), name=\"b\")  # Trainable variables\n",
    "        # print(self.b)\n",
    "\n",
    "    def __call__(self, x):\n",
    "        # y = w1*x + b\n",
    "        y = tf.matmul(x, self.w) + self.b\n",
    "        return tf.nn.relu(y)\n",
    "\n",
    "\n",
    "# Multi-layer perceptron\n",
    "class NN(tf.Module):\n",
    "    def __init__(self, name=None):\n",
    "        super().__init__(name=name)\n",
    "        self.layer_1 = DenseLayer(in_features=3, out_features=3)\n",
    "        self.layer_2 = DenseLayer(in_features=3, out_features=1)\n",
    "    \n",
    "    def __call__(self, x):\n",
    "        print(\"Input layer: \", x)\n",
    "        print(\"Layer 1: \", \"tf.nn.relu(\", self.layer_1.w.numpy(), \"*\", x.numpy(), \" + \", self.layer_1.b.numpy()), \")\"\n",
    "        x = self.layer_1(x)\n",
    "        print(\"Layer 1 outputs: \", x)\n",
    "        print(\"Layer 2: \", \"tf.nn.relu(\", self.layer_2.w.numpy(), \"*\", x.numpy(), \" + \", self.layer_2.b.numpy()), \")\"\n",
    "        x = self.layer_2(x)\n",
    "        print(\"Layer 2 outputs: \", x)\n",
    "        return x\n",
    "\n",
    "nn = NN(name=\"neural_network\")"
   ]
  },
  {
   "cell_type": "code",
   "execution_count": 22,
   "id": "075daf08-1073-4d24-b7f5-8e1b980b626d",
   "metadata": {},
   "outputs": [
    {
     "name": "stdout",
     "output_type": "stream",
     "text": [
      "Input layer:  tf.Tensor([[2. 2. 2.]], shape=(1, 3), dtype=float32)\n",
      "Layer 1:  tf.nn.relu( [[ 1.1461288   1.2306216  -0.5428662 ]\n",
      " [ 0.568948   -0.7285957  -0.54671407]\n",
      " [ 1.263335   -1.5386682  -0.07894208]] * [[2. 2. 2.]]  +  [0. 0. 0.]\n",
      "Layer 1 outputs:  tf.Tensor([[5.9568233 0.        0.       ]], shape=(1, 3), dtype=float32)\n",
      "Layer 2:  tf.nn.relu( [[0.5769699 ]\n",
      " [0.49784997]\n",
      " [0.7207322 ]] * [[5.9568233 0.        0.       ]]  +  [0.]\n",
      "Layer 2 outputs:  tf.Tensor([[3.436908]], shape=(1, 1), dtype=float32)\n",
      "Results: tf.Tensor([[3.436908]], shape=(1, 1), dtype=float32)\n"
     ]
    }
   ],
   "source": [
    "print(\"Results:\", nn(tf.constant([[2.0, 2.0, 2.0]])))"
   ]
  },
  {
   "cell_type": "code",
   "execution_count": null,
   "id": "863c10f1-f8c9-4f46-8393-e16a5885cd94",
   "metadata": {},
   "outputs": [],
   "source": [
    "# Representing activation functions in tenforflow\n",
    "\n",
    "import tensorflow as tf\n",
    "\n",
    "def identity(x):\n",
    "    return x\n",
    "\n",
    "def step(x):\n",
    "    return tf.where(x > 0, 1, 0)\n",
    "\n",
    "def sigmoid(x):\n",
    "    return tf.math.sigmoid(x)\n",
    "\n",
    "def tanh(x):\n",
    "    return tf.math.tanh(x)\n",
    "\n",
    "def arctan(x):\n",
    "    return tf.math.atan(x)\n",
    "\n",
    "def relu(x):\n",
    "    return tf.nn.relu(x)\n",
    "\n",
    "def prelu(x, alpha=0.1):\n",
    "    return tf.maximum(0.0, x) + alpha * tf.minimum(0.0, x)\n",
    "\n",
    "def softsign(x):\n",
    "    return x / (1 + tf.abs(x))"
   ]
  },
  {
   "cell_type": "markdown",
   "id": "d7302150-f70d-4435-8c64-6597823d093b",
   "metadata": {},
   "source": [
    "## Linear Model"
   ]
  },
  {
   "cell_type": "code",
   "execution_count": 23,
   "id": "bad90ad7-b581-454f-ac70-a92a605356b5",
   "metadata": {},
   "outputs": [
    {
     "data": {
      "image/png": "[encoded data removed]",
      "text/plain": [
       "<Figure size 640x480 with 1 Axes>"
      ]
     },
     "metadata": {},
     "output_type": "display_data"
    }
   ],
   "source": [
    "import tensorflow as tf\n",
    "\n",
    "import matplotlib.pyplot as plt\n",
    "\n",
    "colors = plt.rcParams['axes.prop_cycle'].by_key()['color']\n",
    "\n",
    "# The actual line\n",
    "TRUE_W = 3.0\n",
    "TRUE_B = 2.0\n",
    "\n",
    "NUM_EXAMPLES = 201\n",
    "\n",
    "# A vector of random x values\n",
    "x = tf.linspace(-2,2, NUM_EXAMPLES)\n",
    "x = tf.cast(x, tf.float32)\n",
    "\n",
    "def f(x):\n",
    "  return x * TRUE_W + TRUE_B\n",
    "\n",
    "# Generate some noise\n",
    "noise = tf.random.normal(shape=[NUM_EXAMPLES])\n",
    "\n",
    "# Calculate y\n",
    "y = f(x) + noise\n",
    "\n",
    "# Plot all the data\n",
    "plt.plot(x, y, '.')\n",
    "plt.show()"
   ]
  },
  {
   "cell_type": "code",
   "execution_count": 24,
   "id": "b5bc97fc-e355-4d6a-9bf7-394a07ceceba",
   "metadata": {},
   "outputs": [
    {
     "name": "stdout",
     "output_type": "stream",
     "text": [
      "Weights and Biases: (<tf.Variable 'Variable:0' shape=() dtype=float32, numpy=0.0>, <tf.Variable 'Variable:0' shape=() dtype=float32, numpy=5.0>)\n"
     ]
    }
   ],
   "source": [
    "import tensorflow as tf\n",
    "\n",
    "# Module: https://www.tensorflow.org/api_docs/python/tf/Module\n",
    "class LinearModel(tf.Module):\n",
    "    def __init__(self, **kwargs):\n",
    "        super().__init__(**kwargs)\n",
    "        # Initialize the weights to `5.0` and the bias to `0.0`\n",
    "        # In practice, these should be randomly initialized\n",
    "        self.w = tf.Variable(5.0)\n",
    "        self.b = tf.Variable(0.0)\n",
    "\n",
    "    def __call__(self, x):\n",
    "        return self.w * x + self.b\n",
    "\n",
    "model = LinearModel()\n",
    "# List the variables tf.modules's built-in variable aggregation.\n",
    "print(\"Weights and Biases:\", model.variables)\n",
    "\n",
    "# Verify the model works\n",
    "assert model(3.0).numpy() == 15.0"
   ]
  },
  {
   "cell_type": "code",
   "execution_count": 25,
   "id": "42b5495b-0a10-48b7-a3e3-71e0ccbd0c65",
   "metadata": {},
   "outputs": [],
   "source": [
    "def loss(target_y, predicted_y):  # середньоквадратична помилка\n",
    "    return tf.reduce_mean(tf.square(target_y - predicted_y))\n",
    "\n",
    "\n",
    "def train(model, x, y, learning_rate):\n",
    "    # backpropagation\n",
    "    with tf.GradientTape() as t:\n",
    "        current_loss = loss(y, model(x))\n",
    "        dw, db = t.gradient(current_loss, [model.w, model.b])\n",
    "        model.w.assign_sub(learning_rate * dw)\n",
    "        model.b.assign_sub(learning_rate * db)\n",
    "\n",
    "\n",
    "def training_loop(model, x, y):\n",
    "    for epoch in range(10):\n",
    "        train(model, x, y, learning_rate=0.1)\n",
    "        current_loss = loss(y, model(x))\n",
    "        print(f\"loss: {current_loss}\")"
   ]
  },
  {
   "cell_type": "code",
   "execution_count": 26,
   "id": "116332a7-3873-49c8-ae0f-b4a232c222d6",
   "metadata": {},
   "outputs": [
    {
     "name": "stdout",
     "output_type": "stream",
     "text": [
      "loss: 6.384448051452637\n",
      "loss: 4.116926193237305\n",
      "loss: 2.8094539642333984\n",
      "loss: 2.0494132041931152\n",
      "loss: 1.603957176208496\n",
      "loss: 1.3407378196716309\n",
      "loss: 1.1839547157287598\n",
      "loss: 1.0898478031158447\n",
      "loss: 1.0329475402832031\n",
      "loss: 0.9983082413673401\n"
     ]
    }
   ],
   "source": [
    "linear_model = LinearModel()\n",
    "training_loop(linear_model, x, y)"
   ]
  },
  {
   "cell_type": "code",
   "execution_count": 27,
   "id": "0a8b1482-6188-4070-ab82-1852328ffc50",
   "metadata": {},
   "outputs": [
    {
     "data": {
      "image/png": "[encoded data removed]",
      "text/plain": [
       "<Figure size 640x480 with 1 Axes>"
      ]
     },
     "metadata": {},
     "output_type": "display_data"
    }
   ],
   "source": [
    "y_pred = linear_model(x)\n",
    "# Plot all the data\n",
    "plt.plot(x, y, '.')\n",
    "plt.plot(x, y_pred, '.')\n",
    "\n",
    "plt.show()"
   ]
  },
  {
   "cell_type": "markdown",
   "id": "8aa3ffd0-6467-460d-8e78-36d343885a97",
   "metadata": {},
   "source": [
    "# Pytorch"
   ]
  },
  {
   "cell_type": "code",
   "execution_count": 28,
   "id": "010fbf1c-65a6-4429-bab7-57d3abca5809",
   "metadata": {},
   "outputs": [],
   "source": [
    "import torch"
   ]
  },
  {
   "cell_type": "code",
   "execution_count": 29,
   "id": "0ad16a15-34e9-4a5d-a0ed-1146df26d439",
   "metadata": {},
   "outputs": [
    {
     "data": {
      "text/plain": [
       "False"
      ]
     },
     "execution_count": 29,
     "metadata": {},
     "output_type": "execute_result"
    }
   ],
   "source": [
    "torch.cuda.is_available()"
   ]
  },
  {
   "cell_type": "code",
   "execution_count": 30,
   "id": "0c1db483-8d0a-403a-a04b-ef301242f7c0",
   "metadata": {},
   "outputs": [
    {
     "name": "stdout",
     "output_type": "stream",
     "text": [
      "Constant Tensor: tensor([1, 2, 3])\n",
      "Variable Tensor (Parameter): Parameter containing:\n",
      "tensor([1., 2., 3.], requires_grad=True)\n",
      "Variable Tensor (non-Parameter): tensor([1., 2., 3.], requires_grad=True)\n"
     ]
    }
   ],
   "source": [
    "import torch\n",
    "\n",
    "# Using torch.tensor (similar to tf.constant)\n",
    "constant_tensor = torch.tensor([1, 2, 3])\n",
    "\n",
    "# Using torch.nn.Parameter (similar to tf.Variable)\n",
    "variable_tensor = torch.nn.Parameter(torch.tensor([1, 2, 3], dtype=torch.float32))\n",
    "\n",
    "# If you want to create a regular tensor (not a parameter) with requires_grad=True\n",
    "variable_tensor_non_param = torch.tensor([1, 2, 3], dtype=torch.float32, requires_grad=True)\n",
    "\n",
    "# Print the tensors\n",
    "print(\"Constant Tensor:\", constant_tensor)\n",
    "print(\"Variable Tensor (Parameter):\", variable_tensor)\n",
    "print(\"Variable Tensor (non-Parameter):\", variable_tensor_non_param)\n"
   ]
  },
  {
   "cell_type": "code",
   "execution_count": 31,
   "id": "96c5544d-b2e7-4d43-875c-661460d58399",
   "metadata": {},
   "outputs": [],
   "source": [
    "import torch\n",
    "import torch.nn as nn\n",
    "\n",
    "class LinearModel(nn.Module):\n",
    "    def __init__(self):\n",
    "        super(LinearModel, self).__init__()\n",
    "        # Initialize the weights to `5.0` and the bias to `0.0`\n",
    "        # In practice, these should be randomly initialized\n",
    "        self.w = nn.Parameter(torch.tensor(5.0, dtype=torch.float32))\n",
    "        self.b = nn.Parameter(torch.tensor(0.0, dtype=torch.float32))\n",
    "\n",
    "    def forward(self, x):\n",
    "        return self.w * x + self.b\n",
    "\n",
    "def loss(target_y, predicted_y):  # Mean Squared Error\n",
    "    return torch.mean((target_y - predicted_y)**2)\n",
    "\n",
    "def train(model, x, y, learning_rate):\n",
    "    # Backpropagation, good explanation: https://medium.com/@mugeshk/backpropagation-algorithm-using-pytorch-ee1287888aca\n",
    "    current_loss = loss(y, model(x))\n",
    "    model.zero_grad()\n",
    "    current_loss.backward()  # https://pytorch.org/docs/stable/generated/torch.Tensor.backward.html\n",
    "    \n",
    "    with torch.no_grad():\n",
    "        model.w -= learning_rate * model.w.grad\n",
    "        model.b -= learning_rate * model.b.grad\n",
    "\n",
    "def training_loop(model, x, y):\n",
    "    for epoch in range(10):\n",
    "        train(model, x, y, learning_rate=0.1)\n",
    "        current_loss = loss(y, model(x))\n",
    "        print(f\"loss: {current_loss.item()}\")\n",
    "\n",
    "# Please note that PyTorch uses dynamic computation graphs, so there's no need for a separate GradientTape as in TensorFlow. \n",
    "# The gradients are automatically calculated during the backward pass. \n",
    "# Also, the loss function and the training loop have been adjusted to use PyTorch syntax."
   ]
  },
  {
   "cell_type": "code",
   "execution_count": 37,
   "id": "c205ac37-5bf0-44f6-ba5f-5df0fc800999",
   "metadata": {},
   "outputs": [
    {
     "name": "stdout",
     "output_type": "stream",
     "text": [
      "loss: 5.703120231628418\n",
      "loss: 3.6968162059783936\n",
      "loss: 2.5366780757904053\n",
      "loss: 1.8603358268737793\n",
      "loss: 1.4627903699874878\n",
      "loss: 1.2272140979766846\n",
      "loss: 1.0865105390548706\n",
      "loss: 1.001833438873291\n",
      "loss: 0.9505091309547424\n",
      "loss: 0.9191930890083313\n"
     ]
    },
    {
     "data": {
      "image/png": "[encoded data removed]",
      "text/plain": [
       "<Figure size 640x480 with 1 Axes>"
      ]
     },
     "metadata": {},
     "output_type": "display_data"
    }
   ],
   "source": [
    "# Example usage\n",
    "\n",
    "# A vector of random x values\n",
    "NUM_EXAMPLES = 201\n",
    "x = torch.linspace(-2, 2, steps=NUM_EXAMPLES, dtype=torch.float32)\n",
    "\n",
    "# Generate some noise\n",
    "noise = torch.randn(NUM_EXAMPLES)\n",
    "\n",
    "# The actual line\n",
    "TRUE_W = 3.0\n",
    "TRUE_B = 2.0\n",
    "\n",
    "def f(x):\n",
    "  return x * TRUE_W + TRUE_B\n",
    "    \n",
    "# Calculate y\n",
    "y = f(x) + noise\n",
    "\n",
    "# instantiate the model\n",
    "linear_model = LinearModel()\n",
    "training_loop(linear_model, x, y)\n",
    "y_pred = linear_model(x)\n",
    "# Plot all the data\n",
    "plt.plot(x, y, '.')\n",
    "plt.plot(x, y_pred.detach().numpy(), '.')  # tensor.detach().numpy()\n",
    "\n",
    "plt.show()"
   ]
  },
  {
   "cell_type": "markdown",
   "id": "55faa51b-8e76-44a7-aa81-55bc5e13e10b",
   "metadata": {},
   "source": [
    "## Which framework to use? \n",
    "PyTorch and TensorFlow are two of the most popular deep learning frameworks, and while they share many similarities, there are some key differences between them:\n",
    "\n",
    "**Dynamic vs. Static Computational Graph:**\n",
    "\n",
    "- PyTorch: PyTorch uses a dynamic computational graph. This means that the graph is built on-the-fly as operations are executed. It allows for more flexibility and ease of debugging.\n",
    "- TensorFlow: TensorFlow traditionally used a static computational graph. However, with the introduction of TensorFlow 2.x, eager execution became the default mode, providing a dynamic graph similar to PyTorch. TensorFlow 2.x allows users to switch between static and dynamic graphs.\n",
    "\n",
    "**API Style:**\n",
    "- PyTorch: PyTorch uses a more imperative and Pythonic syntax. It is often considered more intuitive and easier to learn for researchers and beginners.\n",
    "- TensorFlow: TensorFlow has a more declarative and somewhat more verbose syntax. However, TensorFlow 2.x with eager execution is more similar to PyTorch in terms of syntax.\n",
    "  \n",
    "**Community and Adoption:**\n",
    "- PyTorch: PyTorch gained popularity in the research community, and many researchers appreciate its dynamic graph and ease of use. It is often the preferred choice for prototyping and experimentation.\n",
    "- TensorFlow: TensorFlow has been widely adopted in both research and industry. Its static graph mode was historically favored in production settings, and TensorFlow's ecosystem includes many tools for deploying models at scale.\n",
    "\n",
    "**Visualization Tools:**\n",
    "- PyTorch: PyTorch's models can also be visualized in TensorBoard.\n",
    "- TensorFlow: TensorFlow has TensorBoard, which is a powerful visualization tool for monitoring and debugging models during training. It includes features for graph visualization, loss curves, and more.\n",
    "\n",
    "**Ecosystem and Integration:**\n",
    "- PyTorch: PyTorch has a more concise and modular ecosystem. It is often praised for its ease of integration with other libraries and tools.\n",
    "- TensorFlow: TensorFlow has a more extensive ecosystem, including TensorFlow Extended (TFX) for end-to-end machine learning pipelines. It is well-integrated with TensorFlow Lite for mobile and edge devices.\n",
    "\n",
    "**Automatic Differentiation:**\n",
    "- PyTorch: PyTorch uses dynamic computation for automatic differentiation, making it easy to compute gradients of complex operations on-the-fly.\n",
    "- TensorFlow: TensorFlow's eager execution mode and TensorFlow 2.x make automatic differentiation more similar to PyTorch.\n",
    "\n",
    "Additional information: https://www.datacamp.com/tutorial/pytorch-vs-tensorflow-vs-keras"
   ]
  },
  {
   "cell_type": "code",
   "execution_count": null,
   "id": "d2e062f2-0950-4d28-88a7-f4b18cc45b9a",
   "metadata": {},
   "outputs": [],
   "source": []
  }
 ],
 "metadata": {
  "kernelspec": {
   "display_name": "Python 3 (ipykernel)",
   "language": "python",
   "name": "python3"
  },
  "language_info": {
   "codemirror_mode": {
    "name": "ipython",
    "version": 3
   },
   "file_extension": ".py",
   "mimetype": "text/x-python",
   "name": "python",
   "nbconvert_exporter": "python",
   "pygments_lexer": "ipython3",
   "version": "3.9.18"
  }
 },
 "nbformat": 4,
 "nbformat_minor": 5
}
